{
  "nbformat": 4,
  "nbformat_minor": 0,
  "metadata": {
    "colab": {
      "name": "60_days_of_code_udacity.ipynb",
      "version": "0.3.2",
      "provenance": [],
      "collapsed_sections": []
    },
    "kernelspec": {
      "name": "python3",
      "display_name": "Python 3"
    },
    "accelerator": "GPU"
  },
  "cells": [
    {
      "cell_type": "markdown",
      "metadata": {
        "id": "lfNa_yjcXCbv",
        "colab_type": "text"
      },
      "source": [
        "# 60 days of code udacity\n",
        "## Day1: 04-July-2019\n",
        "\n",
        "### Intro to deeplearn with pytorch"
      ]
    },
    {
      "cell_type": "markdown",
      "metadata": {
        "id": "oFZl4ZALpppp",
        "colab_type": "text"
      },
      "source": [
        "# About Secure and Private AI  Challenge::\n",
        "\n",
        "https://sites.google.com/udacity.com/secureprivateai-challenge/home\n",
        "\n",
        "\n",
        "# About 60DaysOfUdacityCode Challenge\n",
        "\n",
        "https://sites.google.com/udacity.com/secureprivateai-challenge/community/60daysofudacity"
      ]
    },
    {
      "cell_type": "markdown",
      "metadata": {
        "id": "yjk6SLnvs0PG",
        "colab_type": "text"
      },
      "source": [
        "# 60 days of code udacity\n",
        "## Day2: 05-July-2019\n",
        "\n",
        "### Numpy Basics "
      ]
    },
    {
      "cell_type": "code",
      "metadata": {
        "id": "jCLK8cfXpqNg",
        "colab_type": "code",
        "outputId": "7f5f6fb7-5dda-4902-8fe3-2eff68d52461",
        "colab": {
          "base_uri": "https://localhost:8080/",
          "height": 255
        }
      },
      "source": [
        "\n",
        "\n",
        "\n",
        "import numpy as np\n",
        "\n",
        "\n",
        "\n",
        "\n",
        "\n",
        "\n",
        "\n",
        "\n",
        "\n",
        "\n",
        "\n",
        "\n",
        "#Reference import to print for all values of the cell not all values of the cell\n",
        "\n",
        "from IPython.core.interactiveshell import InteractiveShell\n",
        "InteractiveShell.ast_node_interactivity = \"all\"\n",
        "\n",
        "\n",
        "#reference import for inserting image to the jupyter notebook from web aswell as importing from drive\n",
        "from IPython.display import Image\n",
        "from IPython.core.display import HTML \n",
        "\n",
        "#For pydrive install\n",
        "!pip install pydrive --upgrade"
      ],
      "execution_count": 55,
      "outputs": [
        {
          "output_type": "stream",
          "text": [
            "Requirement already up-to-date: pydrive in /usr/local/lib/python3.6/dist-packages (1.3.1)\n",
            "Requirement already satisfied, skipping upgrade: PyYAML>=3.0 in /usr/local/lib/python3.6/dist-packages (from pydrive) (3.13)\n",
            "Requirement already satisfied, skipping upgrade: oauth2client>=4.0.0 in /usr/local/lib/python3.6/dist-packages (from pydrive) (4.1.3)\n",
            "Requirement already satisfied, skipping upgrade: google-api-python-client>=1.2 in /usr/local/lib/python3.6/dist-packages (from pydrive) (1.7.9)\n",
            "Requirement already satisfied, skipping upgrade: pyasn1-modules>=0.0.5 in /usr/local/lib/python3.6/dist-packages (from oauth2client>=4.0.0->pydrive) (0.2.5)\n",
            "Requirement already satisfied, skipping upgrade: rsa>=3.1.4 in /usr/local/lib/python3.6/dist-packages (from oauth2client>=4.0.0->pydrive) (4.0)\n",
            "Requirement already satisfied, skipping upgrade: six>=1.6.1 in /usr/local/lib/python3.6/dist-packages (from oauth2client>=4.0.0->pydrive) (1.12.0)\n",
            "Requirement already satisfied, skipping upgrade: httplib2>=0.9.1 in /usr/local/lib/python3.6/dist-packages (from oauth2client>=4.0.0->pydrive) (0.11.3)\n",
            "Requirement already satisfied, skipping upgrade: pyasn1>=0.1.7 in /usr/local/lib/python3.6/dist-packages (from oauth2client>=4.0.0->pydrive) (0.4.5)\n",
            "Requirement already satisfied, skipping upgrade: google-auth-httplib2>=0.0.3 in /usr/local/lib/python3.6/dist-packages (from google-api-python-client>=1.2->pydrive) (0.0.3)\n",
            "Requirement already satisfied, skipping upgrade: google-auth>=1.4.1 in /usr/local/lib/python3.6/dist-packages (from google-api-python-client>=1.2->pydrive) (1.4.2)\n",
            "Requirement already satisfied, skipping upgrade: uritemplate<4dev,>=3.0.0 in /usr/local/lib/python3.6/dist-packages (from google-api-python-client>=1.2->pydrive) (3.0.0)\n",
            "Requirement already satisfied, skipping upgrade: cachetools>=2.0.0 in /usr/local/lib/python3.6/dist-packages (from google-auth>=1.4.1->google-api-python-client>=1.2->pydrive) (3.1.1)\n"
          ],
          "name": "stdout"
        }
      ]
    },
    {
      "cell_type": "code",
      "metadata": {
        "id": "DOF8YrCf2SjT",
        "colab_type": "code",
        "colab": {}
      },
      "source": [
        "#Google oAuth for Data handling from Google drive to jupyter notebook\n",
        "import os\n",
        "from pydrive.auth import GoogleAuth\n",
        "from pydrive.drive import GoogleDrive\n",
        "from google.colab import auth\n",
        "from oauth2client.client import GoogleCredentials\n",
        "\n",
        "auth.authenticate_user()\n",
        "gauth = GoogleAuth()\n",
        "gauth.credentials = GoogleCredentials.get_application_default()\n",
        "drive = GoogleDrive(gauth)\n",
        "\n",
        "\n",
        "#It will ask for the token to enter the same and one link above the enter option.Click the google link to get the token"
      ],
      "execution_count": 0,
      "outputs": []
    },
    {
      "cell_type": "code",
      "metadata": {
        "id": "vbKbntCb3EwF",
        "colab_type": "code",
        "colab": {}
      },
      "source": [
        "\n",
        "download_60daysOfCodeUdacityDrive= drive.CreateFile({'id': '1q4n4t_iasV2IO8FIJnn3xQFYx_893Laj'})"
      ],
      "execution_count": 0,
      "outputs": []
    },
    {
      "cell_type": "code",
      "metadata": {
        "id": "FcWXBXc43Yej",
        "colab_type": "code",
        "outputId": "3c87423c-8e91-4405-877b-79838ffc30ca",
        "colab": {
          "base_uri": "https://localhost:8080/",
          "height": 50
        }
      },
      "source": [
        "#Downkoad content file from Google Drive to  colab environment\n",
        "download_60daysOfCodeUdacityDrive.GetContentFile(\"Day_01_supportfiles.zip\")\n",
        "!unzip Day_01_supportfiles.zip"
      ],
      "execution_count": 58,
      "outputs": [
        {
          "output_type": "stream",
          "text": [
            "Archive:  Day_01_supportfiles.zip\n",
            "replace Day_01_supportfiles/0 excel-to-pandas.png? [y]es, [n]o, [A]ll, [N]one, [r]ename: NO\n"
          ],
          "name": "stdout"
        }
      ]
    },
    {
      "cell_type": "code",
      "metadata": {
        "id": "EkUhHV9AsTF1",
        "colab_type": "code",
        "outputId": "a832a4f6-c99c-4139-98d6-69b20f0397d7",
        "colab": {
          "base_uri": "https://localhost:8080/",
          "height": 201
        }
      },
      "source": [
        "\n",
        "\n",
        "Image(filename='Day_01_supportfiles/create-numpy-array-1.png',height=150,width=700) \n",
        "#np_array_image=Image(filename=\"https://drive.google.com/open?id=1DYdLEiHZN5j4YgtLuFEMQFu-CETFMyKR/create-numpy-array-1.png\")\n",
        "\n",
        "print(':::::::::::::::::::::::::::Creating Array through numpy::::::::::::::::::::::::::')\n",
        "\n",
        "#Creating Arrays\n",
        "data=np.array([1,2,3])\n",
        "data"
      ],
      "execution_count": 59,
      "outputs": [
        {
          "output_type": "execute_result",
          "data": {
            "image/png": "[encoded data removed]",
            "text/plain": [
              "<IPython.core.display.Image object>"
            ]
          },
          "metadata": {
            "tags": [],
            "image/png": {
              "width": 700,
              "height": 150
            }
          },
          "execution_count": 59
        },
        {
          "output_type": "stream",
          "text": [
            ":::::::::::::::::::::::::::Creating Array through numpy::::::::::::::::::::::::::\n"
          ],
          "name": "stdout"
        },
        {
          "output_type": "execute_result",
          "data": {
            "text/plain": [
              "array([1, 2, 3])"
            ]
          },
          "metadata": {
            "tags": []
          },
          "execution_count": 59
        }
      ]
    },
    {
      "cell_type": "code",
      "metadata": {
        "id": "gexQduiNsaxF",
        "colab_type": "code",
        "outputId": "9e3c3766-ae07-4eb1-e70e-d7f1af12c876",
        "colab": {
          "base_uri": "https://localhost:8080/",
          "height": 167
        }
      },
      "source": [
        "#Numpy can initilize values of the array for us.Numpy provides method like ones(),zeros() and random.random() for these cases.\n",
        "#We just need to pass the required number of elements we want it to generate\n",
        "Image(filename=\"Day_01_supportfiles/create-numpy-array-ones-zeros-random.png\",height=150,width=700)\n",
        "\n"
      ],
      "execution_count": 60,
      "outputs": [
        {
          "output_type": "execute_result",
          "data": {
            "image/png": "[encoded data removed]",
            "text/plain": [
              "<IPython.core.display.Image object>"
            ]
          },
          "metadata": {
            "tags": [],
            "image/png": {
              "width": 700,
              "height": 150
            }
          },
          "execution_count": 60
        }
      ]
    },
    {
      "cell_type": "code",
      "metadata": {
        "id": "w2Vm3_5GshAm",
        "colab_type": "code",
        "outputId": "b8bb01c7-6dc5-4e95-f44e-2271d2915906",
        "colab": {
          "base_uri": "https://localhost:8080/",
          "height": 118
        }
      },
      "source": [
        "\n",
        "print(':::::::::::::::::::::::::::Creating Array of ones:::::::::::::::::::::::::::::')\n",
        "ones_1=np.ones(2)\n",
        "ones_1\n",
        "\n",
        "print('\\n:::::::::::::::::::::::::::Creating Array of Zeros::::::::::::::::::::::::::')\n",
        "zeros_1=np.zeros(3)\n",
        "zeros_1\n",
        "\n",
        "print('\\n:::::::::::::::::::::::::::Creating Array of Random Values-The value will be different for every different print action:::::::::::::::::::')\n",
        "\n",
        "random_1=np.random.random(3)\n",
        "random_1"
      ],
      "execution_count": 61,
      "outputs": [
        {
          "output_type": "stream",
          "text": [
            ":::::::::::::::::::::::::::Creating Array of ones:::::::::::::::::::::::::::::\n"
          ],
          "name": "stdout"
        },
        {
          "output_type": "execute_result",
          "data": {
            "text/plain": [
              "array([1., 1.])"
            ]
          },
          "metadata": {
            "tags": []
          },
          "execution_count": 61
        },
        {
          "output_type": "stream",
          "text": [
            "\n",
            ":::::::::::::::::::::::::::Creating Array of Zeros::::::::::::::::::::::::::\n"
          ],
          "name": "stdout"
        },
        {
          "output_type": "execute_result",
          "data": {
            "text/plain": [
              "array([0., 0., 0.])"
            ]
          },
          "metadata": {
            "tags": []
          },
          "execution_count": 61
        },
        {
          "output_type": "stream",
          "text": [
            "\n",
            ":::::::::::::::::::::::::::Creating Array of Random Values-The value will be different for every different print action:::::::::::::::::::\n"
          ],
          "name": "stdout"
        },
        {
          "output_type": "execute_result",
          "data": {
            "text/plain": [
              "array([0.71347425, 0.73902019, 0.30846257])"
            ]
          },
          "metadata": {
            "tags": []
          },
          "execution_count": 61
        }
      ]
    },
    {
      "cell_type": "markdown",
      "metadata": {
        "id": "2FVpnTwZP-AN",
        "colab_type": "text"
      },
      "source": [
        "###Array Arithmetic"
      ]
    },
    {
      "cell_type": "code",
      "metadata": {
        "id": "k9W-CLpTsjPF",
        "colab_type": "code",
        "outputId": "b48bf9fe-1ac2-4e75-a7fc-f60e12282415",
        "colab": {
          "base_uri": "https://localhost:8080/",
          "height": 251
        }
      },
      "source": [
        "Image(filename='Day_01_supportfiles/numpy-arrays-example-1.png',height=150,width=700) \n",
        "data=np.array([1,2])\n",
        "print('\\n:::::::::::::::::::::::::::Creating Array of size 2::::::::::::::::::::::::::')\n",
        "\n",
        "data\n",
        "print('\\n:::::::::::::::::::::::::::Creating Array of size 2 but value contains 1 only::::::::::::::::::::::')\n",
        "ones=np.ones(2)\n",
        "ones\n"
      ],
      "execution_count": 62,
      "outputs": [
        {
          "output_type": "execute_result",
          "data": {
            "image/png": "[encoded data removed]",
            "text/plain": [
              "<IPython.core.display.Image object>"
            ]
          },
          "metadata": {
            "tags": [],
            "image/png": {
              "width": 700,
              "height": 150
            }
          },
          "execution_count": 62
        },
        {
          "output_type": "stream",
          "text": [
            "\n",
            ":::::::::::::::::::::::::::Creating Array of size 2::::::::::::::::::::::::::\n"
          ],
          "name": "stdout"
        },
        {
          "output_type": "execute_result",
          "data": {
            "text/plain": [
              "array([1, 2])"
            ]
          },
          "metadata": {
            "tags": []
          },
          "execution_count": 62
        },
        {
          "output_type": "stream",
          "text": [
            "\n",
            ":::::::::::::::::::::::::::Creating Array of size 2 but value contains 1 only::::::::::::::::::::::\n"
          ],
          "name": "stdout"
        },
        {
          "output_type": "execute_result",
          "data": {
            "text/plain": [
              "array([1., 1.])"
            ]
          },
          "metadata": {
            "tags": []
          },
          "execution_count": 62
        }
      ]
    },
    {
      "cell_type": "markdown",
      "metadata": {
        "id": "J5iQAIPiRdoF",
        "colab_type": "text"
      },
      "source": [
        "#### Add data and ones as position wise that is adding values of each row "
      ]
    },
    {
      "cell_type": "code",
      "metadata": {
        "id": "iNGPzR64vMwV",
        "colab_type": "code",
        "outputId": "9a99a34a-81b5-4e05-f80a-5d118dbe3141",
        "colab": {
          "base_uri": "https://localhost:8080/",
          "height": 285
        }
      },
      "source": [
        "Image(filename='Day_01_supportfiles/numpy-arrays-adding-1.png',height=150,width=700)\n",
        "\n",
        "print('\\n:::::Adding data to ones as both of same size addition can be done:::::::')\n",
        "adding_data_one=data+ones\n",
        "adding_data_one\n",
        "\n",
        "print('\\n::::::::with numpy addition it is easy to \\n array addition.But with OOTB python or \\n any code we have to loop through the \\n addition process of the array::::::::::')\n"
      ],
      "execution_count": 63,
      "outputs": [
        {
          "output_type": "execute_result",
          "data": {
            "image/png": "[encoded data removed]",
            "text/plain": [
              "<IPython.core.display.Image object>"
            ]
          },
          "metadata": {
            "tags": [],
            "image/png": {
              "width": 700,
              "height": 150
            }
          },
          "execution_count": 63
        },
        {
          "output_type": "stream",
          "text": [
            "\n",
            ":::::Adding data to ones as both of same size addition can be done:::::::\n"
          ],
          "name": "stdout"
        },
        {
          "output_type": "execute_result",
          "data": {
            "text/plain": [
              "array([2., 3.])"
            ]
          },
          "metadata": {
            "tags": []
          },
          "execution_count": 63
        },
        {
          "output_type": "stream",
          "text": [
            "\n",
            "::::::::with numpy addition it is easy to \n",
            " array addition.But with OOTB python or \n",
            " any code we have to loop through the \n",
            " addition process of the array::::::::::\n"
          ],
          "name": "stdout"
        }
      ]
    },
    {
      "cell_type": "code",
      "metadata": {
        "id": "aHUn69SLRxd7",
        "colab_type": "code",
        "outputId": "40a2ca07-7bbf-4e84-aa98-fbce68516953",
        "colab": {
          "base_uri": "https://localhost:8080/",
          "height": 419
        }
      },
      "source": [
        "print('\\n::::::::::::::::::::Apart from addition we can do also other mathematical function::::::::::::::::::::')\n",
        "\n",
        "\n",
        "Image(filename='Day_01_supportfiles/numpy-array-subtract-multiply-divide.png',height=150,width=700)\n",
        "\n",
        "substraction_data_one=data-ones\n",
        "\n",
        "print('\\n::::::::::::::::::::Substraction::::::::::::::::::::\\n')\n",
        "\n",
        "substraction_data_one\n",
        "\n",
        "\n",
        "multiplication_data_one=data*ones\n",
        "\n",
        "print('\\n::::::::::::::::::::Multiplication(data*ones)::::::::::::::::::::\\n')\n",
        "multiplication_data_one\n",
        "\n",
        "\n",
        "multiplication_data_data=data*data\n",
        "\n",
        "print('\\n::::::::::::::::::::Multiplication(data*data)::::::::::::::::::::\\n')\n",
        "multiplication_data_data\n",
        "\n",
        "\n",
        "division_data_data=data/data\n",
        "\n",
        "print('\\n::::::::::::::::::::disvision(data/data)::::::::::::::::::::\\n')\n",
        "division_data_data\n",
        "\n"
      ],
      "execution_count": 64,
      "outputs": [
        {
          "output_type": "stream",
          "text": [
            "\n",
            "::::::::::::::::::::Apart from addition we can do also other mathematical function::::::::::::::::::::\n"
          ],
          "name": "stdout"
        },
        {
          "output_type": "execute_result",
          "data": {
            "image/png": "[encoded data removed]",
            "text/plain": [
              "<IPython.core.display.Image object>"
            ]
          },
          "metadata": {
            "tags": [],
            "image/png": {
              "width": 700,
              "height": 150
            }
          },
          "execution_count": 64
        },
        {
          "output_type": "stream",
          "text": [
            "\n",
            "::::::::::::::::::::Substraction::::::::::::::::::::\n",
            "\n"
          ],
          "name": "stdout"
        },
        {
          "output_type": "execute_result",
          "data": {
            "text/plain": [
              "array([0., 1.])"
            ]
          },
          "metadata": {
            "tags": []
          },
          "execution_count": 64
        },
        {
          "output_type": "stream",
          "text": [
            "\n",
            "::::::::::::::::::::Multiplication(data*ones)::::::::::::::::::::\n",
            "\n"
          ],
          "name": "stdout"
        },
        {
          "output_type": "execute_result",
          "data": {
            "text/plain": [
              "array([1., 2.])"
            ]
          },
          "metadata": {
            "tags": []
          },
          "execution_count": 64
        },
        {
          "output_type": "stream",
          "text": [
            "\n",
            "::::::::::::::::::::Multiplication(data*data)::::::::::::::::::::\n",
            "\n"
          ],
          "name": "stdout"
        },
        {
          "output_type": "execute_result",
          "data": {
            "text/plain": [
              "array([1, 4])"
            ]
          },
          "metadata": {
            "tags": []
          },
          "execution_count": 64
        },
        {
          "output_type": "stream",
          "text": [
            "\n",
            "::::::::::::::::::::disvision(data/data)::::::::::::::::::::\n",
            "\n"
          ],
          "name": "stdout"
        },
        {
          "output_type": "execute_result",
          "data": {
            "text/plain": [
              "array([1., 1.])"
            ]
          },
          "metadata": {
            "tags": []
          },
          "execution_count": 64
        }
      ]
    },
    {
      "cell_type": "markdown",
      "metadata": {
        "id": "HLS-UPItWxvo",
        "colab_type": "text"
      },
      "source": [
        "### Operation between array and single operator"
      ]
    },
    {
      "cell_type": "code",
      "metadata": {
        "id": "Xd40NY_kTmSz",
        "colab_type": "code",
        "outputId": "13d9556d-a51d-41e1-fd09-c28a36da3364",
        "colab": {
          "base_uri": "https://localhost:8080/",
          "height": 234
        }
      },
      "source": [
        "\n",
        "Image(filename='Day_01_supportfiles/numpy-array-broadcast.png',height=150,width=700)\n",
        "\n",
        "single_operator_data=data*1.6\n",
        "\n",
        "print('\\n::::::::::::::::::::single_operator_data(data*1.6)::::::::::::::::::::\\n')\n",
        "single_operator_data"
      ],
      "execution_count": 65,
      "outputs": [
        {
          "output_type": "execute_result",
          "data": {
            "image/png": "[encoded data removed]",
            "text/plain": [
              "<IPython.core.display.Image object>"
            ]
          },
          "metadata": {
            "tags": [],
            "image/png": {
              "width": 700,
              "height": 150
            }
          },
          "execution_count": 65
        },
        {
          "output_type": "stream",
          "text": [
            "\n",
            "::::::::::::::::::::single_operator_data(data*1.6)::::::::::::::::::::\n",
            "\n"
          ],
          "name": "stdout"
        },
        {
          "output_type": "execute_result",
          "data": {
            "text/plain": [
              "array([1.6, 3.2])"
            ]
          },
          "metadata": {
            "tags": []
          },
          "execution_count": 65
        }
      ]
    },
    {
      "cell_type": "markdown",
      "metadata": {
        "id": "QkOZViY3YNxB",
        "colab_type": "text"
      },
      "source": [
        "###Indexing\n",
        "#### We can index and slice numpy arrays very simple way we can slice python lists"
      ]
    },
    {
      "cell_type": "code",
      "metadata": {
        "id": "tDSRupoTW8BO",
        "colab_type": "code",
        "outputId": "e3a655a8-38f6-48dd-ae06-a828da789df9",
        "colab": {
          "base_uri": "https://localhost:8080/",
          "height": 926
        }
      },
      "source": [
        "\n",
        "Image(filename='Day_01_supportfiles/numpy-array-slice.png',height=150,width=700)\n",
        "\n",
        "data=np.array([1,2,3])\n",
        "print('\\n::::::::::::::::::::Zero index values of data::::::::::::::::::::\\n')\n",
        "\n",
        "data[0]\n",
        "\n",
        "print('\\n::::::::::::::::::::1 index values of data::::::::::::::::::::\\n')\n",
        "\n",
        "data[1]\n",
        "print('\\n::::::::::::::::::::0 to 1 index values of data \\n (index values from 0 to upto 2 but exclusive of 2 index value):::::::::::::::::::::::::::::::::\\n')\n",
        "\n",
        "data[0:2]\n",
        "\n",
        "print('\\n::::::::::::::::::::start index 1 values to the rest all ::::::::::::::::::::\\n')\n",
        "\n",
        "data[1:]\n",
        "\n",
        "print('\\n::::::::::::::::::::start index 1 values upto 3 index values but exlcude index value of 3 ::::::::::::::::::::\\n')\n",
        "\n",
        "data[1:3]\n",
        "\n",
        "\n",
        "print('\\n::::::::::::::::::::start index 1 values upto 2 index values but exlcude index value of 2 ::::::::::::::::::::\\n')\n",
        "\n",
        "data[1:2]\n",
        "\n",
        "\n",
        "print('\\n::::::::::::::::::::No slicing(whole array) ::::::::::::::::::::\\n')\n",
        "\n",
        "data[:]\n",
        "\n",
        "\n",
        "print('\\n::::::::::::::::::::sytraing to index value of 1 but not 1(means upto 1 means take value of index 0)  ::::::::::::::::::::\\n')\n",
        "\n",
        "data[:1]\n",
        "\n",
        "\n",
        "\n",
        "\n",
        "print('\\n::::::::::::::::::::sytraing to index value of 2 but not 2(means upto 2 means take value of index 0 and 1)  ::::::::::::::::::::\\n')\n",
        "\n",
        "data[:2]\n",
        "\n",
        "\n",
        "\n",
        "print('\\n::::::::::::::::::::-ve means from right side and -1 means remove first element from right side  ::::::::::::::::::::\\n')\n",
        "\n",
        "data[:-1]\n",
        "\n",
        "print('\\n::::::::::::::::::::-ve means from right side and -2 means remove two element from right side  ::::::::::::::::::::\\n')\n",
        "\n",
        "data[:-2]\n",
        "\n",
        "print('\\n::::::::::::::::::::take 0 index value from left sideand   -ve means from right side and -1 means remove 1 element from right side  ::::::::::::::::::::\\n')\n",
        "\n",
        "data[0:-1]\n",
        "\n",
        "print('\\n::::::::::::::::::::take 2 index value from left sideand   -ve means from right side and -1 means remove 1 element from right side .here no array left ::::::::::::::::::::\\n')\n",
        "\n",
        "data[2:-1]\n",
        "\n",
        "print('\\n::::::::::::::::::::take index 1 value from left and -ve means from right side and -1 means remove first element from right side  ::::::::::::::::::::\\n')\n",
        "\n",
        "data[1:-1]\n",
        "\n"
      ],
      "execution_count": 66,
      "outputs": [
        {
          "output_type": "execute_result",
          "data": {
            "image/png": "[encoded data removed]",
            "text/plain": [
              "<IPython.core.display.Image object>"
            ]
          },
          "metadata": {
            "tags": [],
            "image/png": {
              "width": 700,
              "height": 150
            }
          },
          "execution_count": 66
        },
        {
          "output_type": "stream",
          "text": [
            "\n",
            "::::::::::::::::::::Zero index values of data::::::::::::::::::::\n",
            "\n"
          ],
          "name": "stdout"
        },
        {
          "output_type": "execute_result",
          "data": {
            "text/plain": [
              "1"
            ]
          },
          "metadata": {
            "tags": []
          },
          "execution_count": 66
        },
        {
          "output_type": "stream",
          "text": [
            "\n",
            "::::::::::::::::::::1 index values of data::::::::::::::::::::\n",
            "\n"
          ],
          "name": "stdout"
        },
        {
          "output_type": "execute_result",
          "data": {
            "text/plain": [
              "2"
            ]
          },
          "metadata": {
            "tags": []
          },
          "execution_count": 66
        },
        {
          "output_type": "stream",
          "text": [
            "\n",
            "::::::::::::::::::::0 to 1 index values of data \n",
            " (index values from 0 to upto 2 but exclusive of 2 index value):::::::::::::::::::::::::::::::::\n",
            "\n"
          ],
          "name": "stdout"
        },
        {
          "output_type": "execute_result",
          "data": {
            "text/plain": [
              "array([1, 2])"
            ]
          },
          "metadata": {
            "tags": []
          },
          "execution_count": 66
        },
        {
          "output_type": "stream",
          "text": [
            "\n",
            "::::::::::::::::::::start index 1 values to the rest all ::::::::::::::::::::\n",
            "\n"
          ],
          "name": "stdout"
        },
        {
          "output_type": "execute_result",
          "data": {
            "text/plain": [
              "array([2, 3])"
            ]
          },
          "metadata": {
            "tags": []
          },
          "execution_count": 66
        },
        {
          "output_type": "stream",
          "text": [
            "\n",
            "::::::::::::::::::::start index 1 values upto 3 index values but exlcude index value of 3 ::::::::::::::::::::\n",
            "\n"
          ],
          "name": "stdout"
        },
        {
          "output_type": "execute_result",
          "data": {
            "text/plain": [
              "array([2, 3])"
            ]
          },
          "metadata": {
            "tags": []
          },
          "execution_count": 66
        },
        {
          "output_type": "stream",
          "text": [
            "\n",
            "::::::::::::::::::::start index 1 values upto 2 index values but exlcude index value of 2 ::::::::::::::::::::\n",
            "\n"
          ],
          "name": "stdout"
        },
        {
          "output_type": "execute_result",
          "data": {
            "text/plain": [
              "array([2])"
            ]
          },
          "metadata": {
            "tags": []
          },
          "execution_count": 66
        },
        {
          "output_type": "stream",
          "text": [
            "\n",
            "::::::::::::::::::::No slicing(whole array) ::::::::::::::::::::\n",
            "\n"
          ],
          "name": "stdout"
        },
        {
          "output_type": "execute_result",
          "data": {
            "text/plain": [
              "array([1, 2, 3])"
            ]
          },
          "metadata": {
            "tags": []
          },
          "execution_count": 66
        },
        {
          "output_type": "stream",
          "text": [
            "\n",
            "::::::::::::::::::::sytraing to index value of 1 but not 1(means upto 1 means take value of index 0)  ::::::::::::::::::::\n",
            "\n"
          ],
          "name": "stdout"
        },
        {
          "output_type": "execute_result",
          "data": {
            "text/plain": [
              "array([1])"
            ]
          },
          "metadata": {
            "tags": []
          },
          "execution_count": 66
        },
        {
          "output_type": "stream",
          "text": [
            "\n",
            "::::::::::::::::::::sytraing to index value of 2 but not 2(means upto 2 means take value of index 0 and 1)  ::::::::::::::::::::\n",
            "\n"
          ],
          "name": "stdout"
        },
        {
          "output_type": "execute_result",
          "data": {
            "text/plain": [
              "array([1, 2])"
            ]
          },
          "metadata": {
            "tags": []
          },
          "execution_count": 66
        },
        {
          "output_type": "stream",
          "text": [
            "\n",
            "::::::::::::::::::::-ve means from right side and -1 means remove first element from right side  ::::::::::::::::::::\n",
            "\n"
          ],
          "name": "stdout"
        },
        {
          "output_type": "execute_result",
          "data": {
            "text/plain": [
              "array([1, 2])"
            ]
          },
          "metadata": {
            "tags": []
          },
          "execution_count": 66
        },
        {
          "output_type": "stream",
          "text": [
            "\n",
            "::::::::::::::::::::-ve means from right side and -2 means remove two element from right side  ::::::::::::::::::::\n",
            "\n"
          ],
          "name": "stdout"
        },
        {
          "output_type": "execute_result",
          "data": {
            "text/plain": [
              "array([1])"
            ]
          },
          "metadata": {
            "tags": []
          },
          "execution_count": 66
        },
        {
          "output_type": "stream",
          "text": [
            "\n",
            "::::::::::::::::::::take 0 index value from left sideand   -ve means from right side and -1 means remove 1 element from right side  ::::::::::::::::::::\n",
            "\n"
          ],
          "name": "stdout"
        },
        {
          "output_type": "execute_result",
          "data": {
            "text/plain": [
              "array([1, 2])"
            ]
          },
          "metadata": {
            "tags": []
          },
          "execution_count": 66
        },
        {
          "output_type": "stream",
          "text": [
            "\n",
            "::::::::::::::::::::take 2 index value from left sideand   -ve means from right side and -1 means remove 1 element from right side .here no array left ::::::::::::::::::::\n",
            "\n"
          ],
          "name": "stdout"
        },
        {
          "output_type": "execute_result",
          "data": {
            "text/plain": [
              "array([], dtype=int64)"
            ]
          },
          "metadata": {
            "tags": []
          },
          "execution_count": 66
        },
        {
          "output_type": "stream",
          "text": [
            "\n",
            "::::::::::::::::::::take index 1 value from left and -ve means from right side and -1 means remove first element from right side  ::::::::::::::::::::\n",
            "\n"
          ],
          "name": "stdout"
        },
        {
          "output_type": "execute_result",
          "data": {
            "text/plain": [
              "array([2])"
            ]
          },
          "metadata": {
            "tags": []
          },
          "execution_count": 66
        }
      ]
    },
    {
      "cell_type": "markdown",
      "metadata": {
        "id": "iwMJHzUSlqFJ",
        "colab_type": "text"
      },
      "source": [
        "### Aggregation\n",
        "#### We can do aggregation functions \n",
        "\n",
        "##### In addition to min, max, and sum, you get all the greats like mean to get the average, prod to get the result of multiplying all the elements together, std to get standard deviation, etc.\n",
        "\n"
      ]
    },
    {
      "cell_type": "code",
      "metadata": {
        "id": "OaFv4ECEYs2F",
        "colab_type": "code",
        "outputId": "0307f912-e4b1-4b4e-93b1-223e9bf66970",
        "colab": {
          "base_uri": "https://localhost:8080/",
          "height": 436
        }
      },
      "source": [
        "\n",
        "Image(filename='Day_01_supportfiles/numpy-array-aggregation.png',height=150,width=700)\n",
        "\n",
        "print('\\n::::::::::::::::::::max vlaue of Array element ::::::::::::::::::::\\n')\n",
        "\n",
        "data.max()\n",
        "\n",
        "print('\\n::::::::::::::::::::minium vlaue of Array element ::::::::::::::::::::\\n')\n",
        "\n",
        "data.min()\n",
        "\n",
        "print('\\n::::::::::::::::::::sum vlaue of Array element ::::::::::::::::::::\\n')\n",
        "\n",
        "data.sum()\n",
        "\n",
        "\n",
        "print('\\n::::::::::::::::::::product value of Array element ::::::::::::::::::::\\n')\n",
        "\n",
        "data.prod()\n",
        "\n",
        "print('\\n::::::::::::::::::::product value of Array element ::::::::::::::::::::\\n')\n",
        "\n",
        "data.std()"
      ],
      "execution_count": 67,
      "outputs": [
        {
          "output_type": "execute_result",
          "data": {
            "image/png": "[encoded data removed]",
            "text/plain": [
              "<IPython.core.display.Image object>"
            ]
          },
          "metadata": {
            "tags": [],
            "image/png": {
              "width": 700,
              "height": 150
            }
          },
          "execution_count": 67
        },
        {
          "output_type": "stream",
          "text": [
            "\n",
            "::::::::::::::::::::max vlaue of Array element ::::::::::::::::::::\n",
            "\n"
          ],
          "name": "stdout"
        },
        {
          "output_type": "execute_result",
          "data": {
            "text/plain": [
              "3"
            ]
          },
          "metadata": {
            "tags": []
          },
          "execution_count": 67
        },
        {
          "output_type": "stream",
          "text": [
            "\n",
            "::::::::::::::::::::minium vlaue of Array element ::::::::::::::::::::\n",
            "\n"
          ],
          "name": "stdout"
        },
        {
          "output_type": "execute_result",
          "data": {
            "text/plain": [
              "1"
            ]
          },
          "metadata": {
            "tags": []
          },
          "execution_count": 67
        },
        {
          "output_type": "stream",
          "text": [
            "\n",
            "::::::::::::::::::::sum vlaue of Array element ::::::::::::::::::::\n",
            "\n"
          ],
          "name": "stdout"
        },
        {
          "output_type": "execute_result",
          "data": {
            "text/plain": [
              "6"
            ]
          },
          "metadata": {
            "tags": []
          },
          "execution_count": 67
        },
        {
          "output_type": "stream",
          "text": [
            "\n",
            "::::::::::::::::::::product value of Array element ::::::::::::::::::::\n",
            "\n"
          ],
          "name": "stdout"
        },
        {
          "output_type": "execute_result",
          "data": {
            "text/plain": [
              "6"
            ]
          },
          "metadata": {
            "tags": []
          },
          "execution_count": 67
        },
        {
          "output_type": "stream",
          "text": [
            "\n",
            "::::::::::::::::::::product value of Array element ::::::::::::::::::::\n",
            "\n"
          ],
          "name": "stdout"
        },
        {
          "output_type": "execute_result",
          "data": {
            "text/plain": [
              "0.816496580927726"
            ]
          },
          "metadata": {
            "tags": []
          },
          "execution_count": 67
        }
      ]
    },
    {
      "cell_type": "markdown",
      "metadata": {
        "id": "Yh6CjcZoH-W9",
        "colab_type": "text"
      },
      "source": [
        "### In more dimensions"
      ]
    },
    {
      "cell_type": "markdown",
      "metadata": {
        "id": "vB67fnBLIGrX",
        "colab_type": "text"
      },
      "source": [
        "### Creating Matrices"
      ]
    },
    {
      "cell_type": "code",
      "metadata": {
        "id": "TNNALRIZhVvV",
        "colab_type": "code",
        "outputId": "dfcef95e-aac6-4890-da4b-158577375c9d",
        "colab": {
          "base_uri": "https://localhost:8080/",
          "height": 34
        }
      },
      "source": [
        "\"\"\"\n",
        "We can pass python lists of lists in \n",
        "the following shape to have NumPy create a matrix to represent them:\n",
        "\"\"\""
      ],
      "execution_count": 68,
      "outputs": [
        {
          "output_type": "execute_result",
          "data": {
            "text/plain": [
              "'\\nWe can pass python lists of lists in \\nthe following shape to have NumPy create a matrix to represent them:\\n'"
            ]
          },
          "metadata": {
            "tags": []
          },
          "execution_count": 68
        }
      ]
    },
    {
      "cell_type": "code",
      "metadata": {
        "id": "lZa74ANphYlv",
        "colab_type": "code",
        "outputId": "64117f28-c3c4-49ea-db50-3900fc960cfa",
        "colab": {
          "base_uri": "https://localhost:8080/",
          "height": 50
        }
      },
      "source": [
        "np.array([[1,2],[3,4]])"
      ],
      "execution_count": 69,
      "outputs": [
        {
          "output_type": "execute_result",
          "data": {
            "text/plain": [
              "array([[1, 2],\n",
              "       [3, 4]])"
            ]
          },
          "metadata": {
            "tags": []
          },
          "execution_count": 69
        }
      ]
    },
    {
      "cell_type": "code",
      "metadata": {
        "id": "Zhyj7yiAIaUr",
        "colab_type": "code",
        "outputId": "ae02034a-1a38-4e63-e5f0-e15a688dae51",
        "colab": {
          "base_uri": "https://localhost:8080/",
          "height": 34
        }
      },
      "source": [
        "print(\"::::::::::::::::::::::::::::::::::::::::::::::::::::\")"
      ],
      "execution_count": 70,
      "outputs": [
        {
          "output_type": "stream",
          "text": [
            "::::::::::::::::::::::::::::::::::::::::::::::::::::\n"
          ],
          "name": "stdout"
        }
      ]
    },
    {
      "cell_type": "markdown",
      "metadata": {
        "id": "K32Y-ZYJaO1D",
        "colab_type": "text"
      },
      "source": [
        "# 60 days of code udacity\n",
        "## Day3: 06-July-2019\n",
        "\n",
        "### Foundation of Pytorch "
      ]
    },
    {
      "cell_type": "code",
      "metadata": {
        "id": "sneExBhrZtmC",
        "colab_type": "code",
        "outputId": "bce6834c-448c-4992-b1e0-688281facff2",
        "colab": {
          "base_uri": "https://localhost:8080/",
          "height": 34
        }
      },
      "source": [
        "\"\"\"\n",
        "Foundation of pytorch from plural sight course by Janani Ravi \n",
        "\"\"\""
      ],
      "execution_count": 71,
      "outputs": [
        {
          "output_type": "execute_result",
          "data": {
            "text/plain": [
              "'\\nFoundation of pytorch from plural sight course by Janani Ravi \\n'"
            ]
          },
          "metadata": {
            "tags": []
          },
          "execution_count": 71
        }
      ]
    },
    {
      "cell_type": "code",
      "metadata": {
        "id": "7QE_-j06a43F",
        "colab_type": "code",
        "outputId": "93c0f0d2-6606-42a1-ea4d-8c74c2fd8074",
        "colab": {
          "base_uri": "https://localhost:8080/",
          "height": 34
        }
      },
      "source": [
        "import torch\n",
        "\n",
        "print(torch.__version__)"
      ],
      "execution_count": 72,
      "outputs": [
        {
          "output_type": "stream",
          "text": [
            "1.1.0\n"
          ],
          "name": "stdout"
        }
      ]
    },
    {
      "cell_type": "code",
      "metadata": {
        "id": "wWWhRjbQbAg1",
        "colab_type": "code",
        "outputId": "28e6cac4-7f69-4c31-85c1-c133bd7b87fc",
        "colab": {
          "base_uri": "https://localhost:8080/",
          "height": 34
        }
      },
      "source": [
        "torch.get_default_dtype()"
      ],
      "execution_count": 73,
      "outputs": [
        {
          "output_type": "execute_result",
          "data": {
            "text/plain": [
              "torch.float32"
            ]
          },
          "metadata": {
            "tags": []
          },
          "execution_count": 73
        }
      ]
    },
    {
      "cell_type": "code",
      "metadata": {
        "id": "n-f_zcaybJzV",
        "colab_type": "code",
        "outputId": "c2e65116-2eb6-4bd4-9e63-19c1de25125c",
        "colab": {
          "base_uri": "https://localhost:8080/",
          "height": 279
        }
      },
      "source": [
        "#only floating types are supported and we canot convert to int\n",
        "torch.set_default_dtype(torch.int)"
      ],
      "execution_count": 74,
      "outputs": [
        {
          "output_type": "error",
          "ename": "TypeError",
          "evalue": "ignored",
          "traceback": [
            "\u001b[0;31m---------------------------------------------------------------------------\u001b[0m",
            "\u001b[0;31mTypeError\u001b[0m                                 Traceback (most recent call last)",
            "\u001b[0;32m<ipython-input-74-52038df6b50f>\u001b[0m in \u001b[0;36m<module>\u001b[0;34m()\u001b[0m\n\u001b[0;32m----> 1\u001b[0;31m \u001b[0mtorch\u001b[0m\u001b[0;34m.\u001b[0m\u001b[0mset_default_dtype\u001b[0m\u001b[0;34m(\u001b[0m\u001b[0mtorch\u001b[0m\u001b[0;34m.\u001b[0m\u001b[0mint\u001b[0m\u001b[0;34m)\u001b[0m\u001b[0;34m\u001b[0m\u001b[0;34m\u001b[0m\u001b[0m\n\u001b[0m",
            "\u001b[0;32m/usr/local/lib/python3.6/dist-packages/torch/__init__.py\u001b[0m in \u001b[0;36mset_default_dtype\u001b[0;34m(d)\u001b[0m\n\u001b[1;32m    173\u001b[0m \u001b[0;34m\u001b[0m\u001b[0m\n\u001b[1;32m    174\u001b[0m     \"\"\"\n\u001b[0;32m--> 175\u001b[0;31m     \u001b[0m_C\u001b[0m\u001b[0;34m.\u001b[0m\u001b[0m_set_default_dtype\u001b[0m\u001b[0;34m(\u001b[0m\u001b[0md\u001b[0m\u001b[0;34m)\u001b[0m\u001b[0;34m\u001b[0m\u001b[0;34m\u001b[0m\u001b[0m\n\u001b[0m\u001b[1;32m    176\u001b[0m \u001b[0;34m\u001b[0m\u001b[0m\n\u001b[1;32m    177\u001b[0m \u001b[0;31m# If you edit these imports, please update torch/__init__.py.in as well\u001b[0m\u001b[0;34m\u001b[0m\u001b[0;34m\u001b[0m\u001b[0;34m\u001b[0m\u001b[0m\n",
            "\u001b[0;31mTypeError\u001b[0m: only floating-point types are supported as the default type"
          ]
        }
      ]
    },
    {
      "cell_type": "code",
      "metadata": {
        "id": "D1QS2FlmbnNk",
        "colab_type": "code",
        "colab": {}
      },
      "source": [
        "tensor_arr=torch.Tensor([[1,2,3],[4,5,6]])\n",
        "tensor_arr"
      ],
      "execution_count": 0,
      "outputs": []
    },
    {
      "cell_type": "code",
      "metadata": {
        "id": "oPDPI8rscKTD",
        "colab_type": "code",
        "colab": {}
      },
      "source": [
        "torch.is_tensor(tensor_arr)"
      ],
      "execution_count": 0,
      "outputs": []
    },
    {
      "cell_type": "code",
      "metadata": {
        "id": "cv--lCQOckBy",
        "colab_type": "code",
        "colab": {}
      },
      "source": [
        "#number of elements in a particular tensor\n",
        "\n",
        "torch.numel(tensor_arr)"
      ],
      "execution_count": 0,
      "outputs": []
    },
    {
      "cell_type": "code",
      "metadata": {
        "id": "DLG2gcc2cyzh",
        "colab_type": "code",
        "colab": {}
      },
      "source": [
        "tensor_uninitialized =torch.Tensor(2,2)"
      ],
      "execution_count": 0,
      "outputs": []
    },
    {
      "cell_type": "code",
      "metadata": {
        "id": "xhYZdgBJdB8Q",
        "colab_type": "code",
        "colab": {}
      },
      "source": [
        "#uninitialized tensor with some random\n",
        "tensor_uninitialized"
      ],
      "execution_count": 0,
      "outputs": []
    },
    {
      "cell_type": "code",
      "metadata": {
        "id": "WY36d--AdEFw",
        "colab_type": "code",
        "colab": {}
      },
      "source": [
        "tensor_int =torch.tensor([5,3]).type(torch.IntTensor)\n",
        "tensor_int"
      ],
      "execution_count": 0,
      "outputs": []
    },
    {
      "cell_type": "code",
      "metadata": {
        "id": "1QssieLne6Yf",
        "colab_type": "code",
        "colab": {}
      },
      "source": [
        "tensor_short=torch.ShortTensor([1.0,2.0,3.0])\n",
        "tensor_short\n"
      ],
      "execution_count": 0,
      "outputs": []
    },
    {
      "cell_type": "code",
      "metadata": {
        "id": "ZBMpgXAIfN9L",
        "colab_type": "code",
        "colab": {}
      },
      "source": [
        "tensor_float_half=torch.tensor([1.0,2.0,3.0]).type(torch.half)\n",
        "\n",
        "tensor_float_half"
      ],
      "execution_count": 0,
      "outputs": []
    },
    {
      "cell_type": "code",
      "metadata": {
        "id": "V5a0x4SJfoSq",
        "colab_type": "code",
        "colab": {}
      },
      "source": [
        "tensor_of_ones=torch.ones([2,4],dtype=torch.int32)\n",
        "tensor_of_ones"
      ],
      "execution_count": 0,
      "outputs": []
    },
    {
      "cell_type": "code",
      "metadata": {
        "id": "6JC5j-OogBw6",
        "colab_type": "code",
        "colab": {}
      },
      "source": [
        "tensor_of_zeros =torch.zeros_like(tensor_of_ones)\n",
        "tensor_of_zeros"
      ],
      "execution_count": 0,
      "outputs": []
    },
    {
      "cell_type": "code",
      "metadata": {
        "id": "Hfw99y_PgWeq",
        "colab_type": "code",
        "colab": {}
      },
      "source": [
        "tensor_eye =torch.eye(5)\n",
        "tensor_eye"
      ],
      "execution_count": 0,
      "outputs": []
    },
    {
      "cell_type": "code",
      "metadata": {
        "id": "hkIZ_fWygjn5",
        "colab_type": "code",
        "colab": {}
      },
      "source": [
        "non_zero =torch.nonzero(tensor_eye)\n",
        "\n",
        "non_zero"
      ],
      "execution_count": 0,
      "outputs": []
    },
    {
      "cell_type": "code",
      "metadata": {
        "id": "w_TFqk4ZgurI",
        "colab_type": "code",
        "colab": {}
      },
      "source": [
        "i=torch.tensor([[0,1,1],[2,2,0]])"
      ],
      "execution_count": 0,
      "outputs": []
    },
    {
      "cell_type": "code",
      "metadata": {
        "id": "y0c6alLgg_3Y",
        "colab_type": "code",
        "colab": {}
      },
      "source": [
        "v =torch.tensor([3,4,5],dtype=torch.float32)"
      ],
      "execution_count": 0,
      "outputs": []
    },
    {
      "cell_type": "code",
      "metadata": {
        "id": "1fe74253hMA3",
        "colab_type": "code",
        "colab": {}
      },
      "source": [
        "sparse_tensor= torch.sparse_coo_tensor(i,v,[2,5])"
      ],
      "execution_count": 0,
      "outputs": []
    },
    {
      "cell_type": "code",
      "metadata": {
        "id": "ekEtjmpYhcNH",
        "colab_type": "code",
        "colab": {}
      },
      "source": [
        "sparse_tensor.data"
      ],
      "execution_count": 0,
      "outputs": []
    },
    {
      "cell_type": "code",
      "metadata": {
        "id": "OxB4gU-chlFX",
        "colab_type": "code",
        "colab": {}
      },
      "source": [
        "print(\"______________________________________\")"
      ],
      "execution_count": 0,
      "outputs": []
    },
    {
      "cell_type": "markdown",
      "metadata": {
        "id": "hnAErQz8W8oH",
        "colab_type": "text"
      },
      "source": [
        "# 60 days of code udacity\n",
        "## Day4: 07-July-2019\n",
        "\n",
        "### Foundation of Pytorch Contd..."
      ]
    },
    {
      "cell_type": "code",
      "metadata": {
        "id": "u7dLY3OKW31R",
        "colab_type": "code",
        "outputId": "26328850-6f90-4b54-abeb-1cff9de8687c",
        "colab": {
          "base_uri": "https://localhost:8080/"
        }
      },
      "source": [
        "\"\"\"\n",
        "two types of tensor sparse tensor and dense tensor\n",
        "\"\"\""
      ],
      "execution_count": 75,
      "outputs": [
        {
          "output_type": "execute_result",
          "data": {
            "text/plain": [
              "'\\ntwo types of tensor sparse tensor and dense tensor\\n'"
            ]
          },
          "metadata": {
            "tags": []
          },
          "execution_count": 75
        }
      ]
    },
    {
      "cell_type": "code",
      "metadata": {
        "id": "E5IbWLU8Zf4T",
        "colab_type": "code",
        "outputId": "e8b28b0a-c88e-4328-b070-385ce4222345",
        "colab": {
          "base_uri": "https://localhost:8080/"
        }
      },
      "source": [
        "#initial tensor with some randome numbers\n",
        "initial_tensor =torch.rand(2,3)\n",
        "\n",
        "initial_tensor"
      ],
      "execution_count": 76,
      "outputs": [
        {
          "output_type": "execute_result",
          "data": {
            "text/plain": [
              "tensor([[0.0683, 0.7015, 0.5293],\n",
              "        [0.8844, 0.2758, 0.8127]])"
            ]
          },
          "metadata": {
            "tags": []
          },
          "execution_count": 76
        }
      ]
    },
    {
      "cell_type": "code",
      "metadata": {
        "id": "ImFvjsxSZz2H",
        "colab_type": "code",
        "colab": {
          "base_uri": "https://localhost:8080/"
        },
        "outputId": "ee4724a0-829d-4180-e840-62dc5a23d466"
      },
      "source": [
        "#in-place operation..Any tensor which has _suffix as called \n",
        "initial_tensor.fill_(10)"
      ],
      "execution_count": 77,
      "outputs": [
        {
          "output_type": "execute_result",
          "data": {
            "text/plain": [
              "tensor([[10., 10., 10.],\n",
              "        [10., 10., 10.]])"
            ]
          },
          "metadata": {
            "tags": []
          },
          "execution_count": 77
        }
      ]
    },
    {
      "cell_type": "code",
      "metadata": {
        "id": "EAvbfESdaD9F",
        "colab_type": "code",
        "colab": {
          "base_uri": "https://localhost:8080/"
        },
        "outputId": "084f1c50-d28f-42ce-9a5a-74c76b5b3d8b"
      },
      "source": [
        "# tensor doesnot have fill function without underscore\n",
        "initial_tensor.fill(10)"
      ],
      "execution_count": 78,
      "outputs": [
        {
          "output_type": "error",
          "ename": "AttributeError",
          "evalue": "ignored",
          "traceback": [
            "\u001b[0;31m---------------------------------------------------------------------------\u001b[0m",
            "\u001b[0;31mAttributeError\u001b[0m                            Traceback (most recent call last)",
            "\u001b[0;32m<ipython-input-78-c4ca7a2525cd>\u001b[0m in \u001b[0;36m<module>\u001b[0;34m()\u001b[0m\n\u001b[0;32m----> 1\u001b[0;31m \u001b[0minitial_tensor\u001b[0m\u001b[0;34m.\u001b[0m\u001b[0mfill\u001b[0m\u001b[0;34m(\u001b[0m\u001b[0;36m10\u001b[0m\u001b[0;34m)\u001b[0m\u001b[0;34m\u001b[0m\u001b[0;34m\u001b[0m\u001b[0m\n\u001b[0m",
            "\u001b[0;31mAttributeError\u001b[0m: 'Tensor' object has no attribute 'fill'"
          ]
        }
      ]
    },
    {
      "cell_type": "code",
      "metadata": {
        "id": "NJiLvSqAavIU",
        "colab_type": "code",
        "colab": {}
      },
      "source": [
        "new_tensor=initial_tensor.add(5)"
      ],
      "execution_count": 0,
      "outputs": []
    },
    {
      "cell_type": "code",
      "metadata": {
        "id": "jHOdqnqHa3oz",
        "colab_type": "code",
        "colab": {
          "base_uri": "https://localhost:8080/"
        },
        "outputId": "34aa378f-d231-405c-8e95-40ab2b801db5"
      },
      "source": [
        "new_tensor"
      ],
      "execution_count": 79,
      "outputs": [
        {
          "output_type": "error",
          "ename": "NameError",
          "evalue": "ignored",
          "traceback": [
            "\u001b[0;31m---------------------------------------------------------------------------\u001b[0m",
            "\u001b[0;31mNameError\u001b[0m                                 Traceback (most recent call last)",
            "\u001b[0;32m<ipython-input-79-ccc07fb7eed9>\u001b[0m in \u001b[0;36m<module>\u001b[0;34m()\u001b[0m\n\u001b[0;32m----> 1\u001b[0;31m \u001b[0mnew_tensor\u001b[0m\u001b[0;34m\u001b[0m\u001b[0;34m\u001b[0m\u001b[0m\n\u001b[0m",
            "\u001b[0;31mNameError\u001b[0m: name 'new_tensor' is not defined"
          ]
        }
      ]
    },
    {
      "cell_type": "code",
      "metadata": {
        "id": "x2oxJFXLbIGj",
        "colab_type": "code",
        "colab": {
          "base_uri": "https://localhost:8080/"
        },
        "outputId": "8ce63c41-c867-40ec-f8f7-0cb0bd54ec7b"
      },
      "source": [
        "initial_tensor"
      ],
      "execution_count": 80,
      "outputs": [
        {
          "output_type": "execute_result",
          "data": {
            "text/plain": [
              "tensor([[10., 10., 10.],\n",
              "        [10., 10., 10.]])"
            ]
          },
          "metadata": {
            "tags": []
          },
          "execution_count": 80
        }
      ]
    },
    {
      "cell_type": "code",
      "metadata": {
        "id": "IcQSwaI-oNdu",
        "colab_type": "code",
        "colab": {
          "base_uri": "https://localhost:8080/"
        },
        "outputId": "cf053f88-2be2-4879-ddc8-2525ed1eae5b"
      },
      "source": [
        "new_tensor.sqrt_()\n"
      ],
      "execution_count": 81,
      "outputs": [
        {
          "output_type": "error",
          "ename": "NameError",
          "evalue": "ignored",
          "traceback": [
            "\u001b[0;31m---------------------------------------------------------------------------\u001b[0m",
            "\u001b[0;31mNameError\u001b[0m                                 Traceback (most recent call last)",
            "\u001b[0;32m<ipython-input-81-1842614bf9f4>\u001b[0m in \u001b[0;36m<module>\u001b[0;34m()\u001b[0m\n\u001b[0;32m----> 1\u001b[0;31m \u001b[0mnew_tensor\u001b[0m\u001b[0;34m.\u001b[0m\u001b[0msqrt_\u001b[0m\u001b[0;34m(\u001b[0m\u001b[0;34m)\u001b[0m\u001b[0;34m\u001b[0m\u001b[0;34m\u001b[0m\u001b[0m\n\u001b[0m",
            "\u001b[0;31mNameError\u001b[0m: name 'new_tensor' is not defined"
          ]
        }
      ]
    },
    {
      "cell_type": "code",
      "metadata": {
        "id": "wDe89VOcplTe",
        "colab_type": "code",
        "colab": {
          "base_uri": "https://localhost:8080/"
        },
        "outputId": "41dcfd38-ea54-428f-e24a-f27ee71cb1b0"
      },
      "source": [
        "x=torch.linspace(start=0.1, end=10.0, steps=15)\n",
        "x"
      ],
      "execution_count": 82,
      "outputs": [
        {
          "output_type": "execute_result",
          "data": {
            "text/plain": [
              "tensor([ 0.1000,  0.8071,  1.5143,  2.2214,  2.9286,  3.6357,  4.3429,  5.0500,\n",
              "         5.7571,  6.4643,  7.1714,  7.8786,  8.5857,  9.2929, 10.0000])"
            ]
          },
          "metadata": {
            "tags": []
          },
          "execution_count": 82
        }
      ]
    },
    {
      "cell_type": "code",
      "metadata": {
        "id": "pRE0Wgziq5g0",
        "colab_type": "code",
        "colab": {
          "base_uri": "https://localhost:8080/"
        },
        "outputId": "9aea5391-cd9d-4992-cd6a-cbf529eee714"
      },
      "source": [
        "#Chunk x in 3 separate parts..3rd parameter is about dimChutiyadil@2019\n",
        "\n",
        "tensor_chunk=torch.chunk(x,3,0)\n",
        "tensor_chunk"
      ],
      "execution_count": 83,
      "outputs": [
        {
          "output_type": "execute_result",
          "data": {
            "text/plain": [
              "(tensor([0.1000, 0.8071, 1.5143, 2.2214, 2.9286]),\n",
              " tensor([3.6357, 4.3429, 5.0500, 5.7571, 6.4643]),\n",
              " tensor([ 7.1714,  7.8786,  8.5857,  9.2929, 10.0000]))"
            ]
          },
          "metadata": {
            "tags": []
          },
          "execution_count": 83
        }
      ]
    },
    {
      "cell_type": "code",
      "metadata": {
        "id": "EVya9RFdsupJ",
        "colab_type": "code",
        "colab": {}
      },
      "source": [
        "#tensor1 and tensor2 is accessed through tensor tupple\n",
        "tensor1 =tensor_chunk[0]\n",
        "tensor2 =tensor_chunk[1]\n",
        "tensor3= torch.tensor([3.0,4.0,5.0])"
      ],
      "execution_count": 0,
      "outputs": []
    },
    {
      "cell_type": "code",
      "metadata": {
        "id": "hoxqtw0szg0Q",
        "colab_type": "code",
        "colab": {
          "base_uri": "https://localhost:8080/"
        },
        "outputId": "547c710a-f6d0-4343-8188-32b26e5c86d7"
      },
      "source": [
        "#concatenatuon of tensors--0 here dimension of conacntenation and shape \n",
        "#should be same for all tensors with 0-as first parameter of sequence of tensor\n",
        "\n",
        "torch.cat((tensor1,tensor2,tensor3),0)"
      ],
      "execution_count": 85,
      "outputs": [
        {
          "output_type": "execute_result",
          "data": {
            "text/plain": [
              "tensor([0.1000, 0.8071, 1.5143, 2.2214, 2.9286, 3.6357, 4.3429, 5.0500, 5.7571,\n",
              "        6.4643, 3.0000, 4.0000, 5.0000])"
            ]
          },
          "metadata": {
            "tags": []
          },
          "execution_count": 85
        }
      ]
    },
    {
      "cell_type": "code",
      "metadata": {
        "id": "rcoEEW3wzvYp",
        "colab_type": "code",
        "colab": {
          "base_uri": "https://localhost:8080/"
        },
        "outputId": "0fbfcd33-719c-41b8-fe81-c776ca015917"
      },
      "source": [
        "random_tensor= torch.Tensor([[10,8,30],[40,5,6],[12,2,21]])\n",
        "\n",
        "random_tensor"
      ],
      "execution_count": 86,
      "outputs": [
        {
          "output_type": "execute_result",
          "data": {
            "text/plain": [
              "tensor([[10.,  8., 30.],\n",
              "        [40.,  5.,  6.],\n",
              "        [12.,  2., 21.]])"
            ]
          },
          "metadata": {
            "tags": []
          },
          "execution_count": 86
        }
      ]
    },
    {
      "cell_type": "code",
      "metadata": {
        "id": "9MQmVotH0U23",
        "colab_type": "code",
        "colab": {
          "base_uri": "https://localhost:8080/"
        },
        "outputId": "a58d9845-ff4b-4989-f4b5-cf94da0682fb"
      },
      "source": [
        "random_tensor[0,1]"
      ],
      "execution_count": 87,
      "outputs": [
        {
          "output_type": "execute_result",
          "data": {
            "text/plain": [
              "tensor(8.)"
            ]
          },
          "metadata": {
            "tags": []
          },
          "execution_count": 87
        }
      ]
    },
    {
      "cell_type": "markdown",
      "metadata": {
        "id": "-r6579PzhzKP",
        "colab_type": "text"
      },
      "source": [
        "# 60 days of code udacity\n",
        "## Day5: 08-July-2019\n",
        "\n",
        "### Foundation of Pytorch Contd..."
      ]
    },
    {
      "cell_type": "code",
      "metadata": {
        "id": "XCWn9syG2C5u",
        "colab_type": "code",
        "colab": {
          "base_uri": "https://localhost:8080/"
        },
        "outputId": "f6f1f65f-3dc9-4f05-b417-f123ead33a64"
      },
      "source": [
        "#tensor as array slicing operation like in numpy\n",
        "#Here accecing all rows from row-1 onwards to all the columns from column-1 to onwards\n",
        "\n",
        "random_tensor[1:, 1:]"
      ],
      "execution_count": 88,
      "outputs": [
        {
          "output_type": "execute_result",
          "data": {
            "text/plain": [
              "tensor([[ 5.,  6.],\n",
              "        [ 2., 21.]])"
            ]
          },
          "metadata": {
            "tags": []
          },
          "execution_count": 88
        }
      ]
    },
    {
      "cell_type": "code",
      "metadata": {
        "id": "Tl3n6-b8iERX",
        "colab_type": "code",
        "colab": {
          "base_uri": "https://localhost:8080/"
        },
        "outputId": "23e7f271-7896-4b78-8624-e87351e138cd"
      },
      "source": [
        "random_tensor.size()"
      ],
      "execution_count": 89,
      "outputs": [
        {
          "output_type": "execute_result",
          "data": {
            "text/plain": [
              "torch.Size([3, 3])"
            ]
          },
          "metadata": {
            "tags": []
          },
          "execution_count": 89
        }
      ]
    },
    {
      "cell_type": "code",
      "metadata": {
        "id": "gUwznCCNiklQ",
        "colab_type": "code",
        "colab": {
          "base_uri": "https://localhost:8080/"
        },
        "outputId": "5bf8e60f-b2db-4cdb-bdce-ff0c66557316"
      },
      "source": [
        "#view function--view function doesnot create a new tensor..\n",
        "#it usages same underlying memeory as original tensor\n",
        "\n",
        "resized_tensor=random_tensor.view(9)\n",
        "resized_tensor"
      ],
      "execution_count": 90,
      "outputs": [
        {
          "output_type": "execute_result",
          "data": {
            "text/plain": [
              "tensor([10.,  8., 30., 40.,  5.,  6., 12.,  2., 21.])"
            ]
          },
          "metadata": {
            "tags": []
          },
          "execution_count": 90
        }
      ]
    },
    {
      "cell_type": "code",
      "metadata": {
        "id": "NfeSb-9Ii0nw",
        "colab_type": "code",
        "colab": {
          "base_uri": "https://localhost:8080/"
        },
        "outputId": "e9c59da8-4a8e-48a1-afb8-4e097e2a6fe3"
      },
      "source": [
        "#here view of -1 and 6 is not compatible with shape of orioginal tensor\\\n",
        "#which is of 3X3 ---9 tensors\n",
        "resized_tensor =random_tensor.view(-1,6)\n",
        "\n",
        "resized_tensor"
      ],
      "execution_count": 91,
      "outputs": [
        {
          "output_type": "error",
          "ename": "RuntimeError",
          "evalue": "ignored",
          "traceback": [
            "\u001b[0;31m---------------------------------------------------------------------------\u001b[0m",
            "\u001b[0;31mRuntimeError\u001b[0m                              Traceback (most recent call last)",
            "\u001b[0;32m<ipython-input-91-bcbd42b00031>\u001b[0m in \u001b[0;36m<module>\u001b[0;34m()\u001b[0m\n\u001b[0;32m----> 1\u001b[0;31m \u001b[0mresized_tensor\u001b[0m \u001b[0;34m=\u001b[0m\u001b[0mrandom_tensor\u001b[0m\u001b[0;34m.\u001b[0m\u001b[0mview\u001b[0m\u001b[0;34m(\u001b[0m\u001b[0;34m-\u001b[0m\u001b[0;36m1\u001b[0m\u001b[0;34m,\u001b[0m\u001b[0;36m6\u001b[0m\u001b[0;34m)\u001b[0m\u001b[0;34m\u001b[0m\u001b[0;34m\u001b[0m\u001b[0m\n\u001b[0m\u001b[1;32m      2\u001b[0m \u001b[0;34m\u001b[0m\u001b[0m\n\u001b[1;32m      3\u001b[0m \u001b[0mresized_tensor\u001b[0m\u001b[0;34m\u001b[0m\u001b[0;34m\u001b[0m\u001b[0m\n",
            "\u001b[0;31mRuntimeError\u001b[0m: shape '[-1, 6]' is invalid for input of size 9"
          ]
        }
      ]
    },
    {
      "cell_type": "code",
      "metadata": {
        "id": "ZvilhDUPjW3v",
        "colab_type": "code",
        "colab": {}
      },
      "source": [
        "resized_tensor.size()\n",
        "\n",
        "random_tensor[2,0]"
      ],
      "execution_count": 0,
      "outputs": []
    },
    {
      "cell_type": "code",
      "metadata": {
        "id": "8PX6y3yIjw2O",
        "colab_type": "code",
        "colab": {}
      },
      "source": [
        "random_tensor\n",
        "print(\"\\n_____________________________\\n\")\n",
        "random_tensor[2,2] =100.0\n",
        "resized_tensor"
      ],
      "execution_count": 0,
      "outputs": []
    },
    {
      "cell_type": "code",
      "metadata": {
        "id": "roe2Uv_PncbG",
        "colab_type": "code",
        "colab": {
          "base_uri": "https://localhost:8080/"
        },
        "outputId": "6ab0f7f2-4ac0-4933-b83b-16756215d399"
      },
      "source": [
        "random_tensor"
      ],
      "execution_count": 92,
      "outputs": [
        {
          "output_type": "execute_result",
          "data": {
            "text/plain": [
              "tensor([[10.,  8., 30.],\n",
              "        [40.,  5.,  6.],\n",
              "        [12.,  2., 21.]])"
            ]
          },
          "metadata": {
            "tags": []
          },
          "execution_count": 92
        }
      ]
    },
    {
      "cell_type": "code",
      "metadata": {
        "id": "ZDHR7dy0okOn",
        "colab_type": "code",
        "colab": {
          "base_uri": "https://localhost:8080/"
        },
        "outputId": "2f78a79b-1ba2-467a-9757-fc56e200affe"
      },
      "source": [
        "#you can change shape of tensor in pytorch  by adding and removing dimensions\\n\n",
        "#squeeze and unsqueeze operations\n",
        "tensor_unsqueeze =torch.unsqueeze(random_tensor,2)\n",
        "\n",
        "tensor_unsqueeze\n"
      ],
      "execution_count": 93,
      "outputs": [
        {
          "output_type": "execute_result",
          "data": {
            "text/plain": [
              "tensor([[[10.],\n",
              "         [ 8.],\n",
              "         [30.]],\n",
              "\n",
              "        [[40.],\n",
              "         [ 5.],\n",
              "         [ 6.]],\n",
              "\n",
              "        [[12.],\n",
              "         [ 2.],\n",
              "         [21.]]])"
            ]
          },
          "metadata": {
            "tags": []
          },
          "execution_count": 93
        }
      ]
    },
    {
      "cell_type": "code",
      "metadata": {
        "id": "cGyEIIiGo6tj",
        "colab_type": "code",
        "colab": {
          "base_uri": "https://localhost:8080/"
        },
        "outputId": "bfcccd0d-804c-4c74-b080-c92c63708c6a"
      },
      "source": [
        "tensor_unsqueeze.shape"
      ],
      "execution_count": 94,
      "outputs": [
        {
          "output_type": "execute_result",
          "data": {
            "text/plain": [
              "torch.Size([3, 3, 1])"
            ]
          },
          "metadata": {
            "tags": []
          },
          "execution_count": 94
        }
      ]
    },
    {
      "cell_type": "code",
      "metadata": {
        "id": "b0MYQlj9vlno",
        "colab_type": "code",
        "colab": {
          "base_uri": "https://localhost:8080/",
          "height": 50
        },
        "outputId": "c9f2e03c-d4b1-4ce0-9889-86bc16c1e9db"
      },
      "source": [
        "initial_tensor"
      ],
      "execution_count": 95,
      "outputs": [
        {
          "output_type": "execute_result",
          "data": {
            "text/plain": [
              "tensor([[10., 10., 10.],\n",
              "        [10., 10., 10.]])"
            ]
          },
          "metadata": {
            "tags": []
          },
          "execution_count": 95
        }
      ]
    },
    {
      "cell_type": "code",
      "metadata": {
        "id": "h7DCMS-1v4Od",
        "colab_type": "code",
        "colab": {
          "base_uri": "https://localhost:8080/",
          "height": 67
        },
        "outputId": "cd4b2217-7be4-45f0-d9ae-1b7c1397a0d4"
      },
      "source": [
        "#do transpose operation to flip the dimensions\n",
        "\n",
        "tensor_transpose =torch.transpose(initial_tensor, 0,1)\n",
        "tensor_transpose"
      ],
      "execution_count": 96,
      "outputs": [
        {
          "output_type": "execute_result",
          "data": {
            "text/plain": [
              "tensor([[10., 10.],\n",
              "        [10., 10.],\n",
              "        [10., 10.]])"
            ]
          },
          "metadata": {
            "tags": []
          },
          "execution_count": 96
        }
      ]
    },
    {
      "cell_type": "code",
      "metadata": {
        "id": "tqvkk6b8v8fk",
        "colab_type": "code",
        "colab": {
          "base_uri": "https://localhost:8080/",
          "height": 67
        },
        "outputId": "e38d37aa-9518-46a7-d86c-11cbb29515c8"
      },
      "source": [
        "random_tensor"
      ],
      "execution_count": 97,
      "outputs": [
        {
          "output_type": "execute_result",
          "data": {
            "text/plain": [
              "tensor([[10.,  8., 30.],\n",
              "        [40.,  5.,  6.],\n",
              "        [12.,  2., 21.]])"
            ]
          },
          "metadata": {
            "tags": []
          },
          "execution_count": 97
        }
      ]
    },
    {
      "cell_type": "code",
      "metadata": {
        "id": "TOlR0DFSwSyz",
        "colab_type": "code",
        "colab": {}
      },
      "source": [
        "sorted_tensor, sorted_indices =torch.sort(random_tensor)\n",
        "\n"
      ],
      "execution_count": 0,
      "outputs": []
    },
    {
      "cell_type": "code",
      "metadata": {
        "id": "btz2Z43owkgz",
        "colab_type": "code",
        "colab": {
          "base_uri": "https://localhost:8080/",
          "height": 67
        },
        "outputId": "c19a4e24-6fd8-4673-a799-5c9b184ccca8"
      },
      "source": [
        "sorted_tensor"
      ],
      "execution_count": 99,
      "outputs": [
        {
          "output_type": "execute_result",
          "data": {
            "text/plain": [
              "tensor([[ 8., 10., 30.],\n",
              "        [ 5.,  6., 40.],\n",
              "        [ 2., 12., 21.]])"
            ]
          },
          "metadata": {
            "tags": []
          },
          "execution_count": 99
        }
      ]
    },
    {
      "cell_type": "code",
      "metadata": {
        "id": "F2F2X-xDwrXS",
        "colab_type": "code",
        "colab": {
          "base_uri": "https://localhost:8080/",
          "height": 67
        },
        "outputId": "281224c9-95e3-46e7-b659-e0af68d9fd53"
      },
      "source": [
        "#sorted_indices are from original tensor but in the sorted order\n",
        "sorted_indices"
      ],
      "execution_count": 100,
      "outputs": [
        {
          "output_type": "execute_result",
          "data": {
            "text/plain": [
              "tensor([[1, 0, 2],\n",
              "        [1, 2, 0],\n",
              "        [1, 0, 2]])"
            ]
          },
          "metadata": {
            "tags": []
          },
          "execution_count": 100
        }
      ]
    },
    {
      "cell_type": "code",
      "metadata": {
        "id": "pUfga0EXzg49",
        "colab_type": "code",
        "colab": {
          "base_uri": "https://localhost:8080/",
          "height": 34
        },
        "outputId": "f1f4c9c1-f906-4dfb-b4c9-7c1fa41da433"
      },
      "source": [
        "#floating point tensor\n",
        "\n",
        "tensor_float =torch.FloatTensor([-1.1,-2.2,3.3])\n",
        "\n",
        "tensor_float"
      ],
      "execution_count": 101,
      "outputs": [
        {
          "output_type": "execute_result",
          "data": {
            "text/plain": [
              "tensor([-1.1000, -2.2000,  3.3000])"
            ]
          },
          "metadata": {
            "tags": []
          },
          "execution_count": 101
        }
      ]
    },
    {
      "cell_type": "code",
      "metadata": {
        "id": "LWSyTI030O_L",
        "colab_type": "code",
        "colab": {
          "base_uri": "https://localhost:8080/",
          "height": 34
        },
        "outputId": "2041193f-c7c8-47f2-9bcd-e330d9730f25"
      },
      "source": [
        "#aboslute value of tensor through torch.abs\n",
        "#all -ve value to + vales\n",
        "\n",
        "tensor_abs= torch.abs(tensor_float)\n",
        "\n",
        "tensor_abs"
      ],
      "execution_count": 102,
      "outputs": [
        {
          "output_type": "execute_result",
          "data": {
            "text/plain": [
              "tensor([1.1000, 2.2000, 3.3000])"
            ]
          },
          "metadata": {
            "tags": []
          },
          "execution_count": 102
        }
      ]
    },
    {
      "cell_type": "code",
      "metadata": {
        "id": "rkrkW0Sp0en6",
        "colab_type": "code",
        "colab": {}
      },
      "source": [
        "rand1 =torch.abs(torch.randn(2,3))\n",
        "rand2= torch.abs(torch.randn(2,3))"
      ],
      "execution_count": 0,
      "outputs": []
    },
    {
      "cell_type": "code",
      "metadata": {
        "id": "hOZEO-tc01bK",
        "colab_type": "code",
        "colab": {
          "base_uri": "https://localhost:8080/",
          "height": 50
        },
        "outputId": "843cadc8-1086-4156-d58e-30f4e9e8080b"
      },
      "source": [
        "add1=rand1+rand2\n",
        "add1"
      ],
      "execution_count": 104,
      "outputs": [
        {
          "output_type": "execute_result",
          "data": {
            "text/plain": [
              "tensor([[1.2256, 0.9313, 0.5751],\n",
              "        [1.3240, 1.3122, 1.4174]])"
            ]
          },
          "metadata": {
            "tags": []
          },
          "execution_count": 104
        }
      ]
    },
    {
      "cell_type": "code",
      "metadata": {
        "id": "gqyZsu-y0406",
        "colab_type": "code",
        "colab": {
          "base_uri": "https://localhost:8080/",
          "height": 50
        },
        "outputId": "d8fe0609-2475-4365-ce14-23191659781f"
      },
      "source": [
        "#element wise addition by torch.add\n",
        "\n",
        "add2=torch.add(rand1,rand2)\n",
        "\n",
        "add2"
      ],
      "execution_count": 105,
      "outputs": [
        {
          "output_type": "execute_result",
          "data": {
            "text/plain": [
              "tensor([[1.2256, 0.9313, 0.5751],\n",
              "        [1.3240, 1.3122, 1.4174]])"
            ]
          },
          "metadata": {
            "tags": []
          },
          "execution_count": 105
        }
      ]
    },
    {
      "cell_type": "markdown",
      "metadata": {
        "id": "qsU63Jib9aCT",
        "colab_type": "text"
      },
      "source": [
        "# 60 days of code udacity\n",
        "## Day6: 09-July-2019\n",
        "\n",
        "### Foundation of Pytorch Contd...Pluralsight"
      ]
    },
    {
      "cell_type": "code",
      "metadata": {
        "id": "OYyKq0gc1HaY",
        "colab_type": "code",
        "colab": {}
      },
      "source": [
        "tensor =torch.Tensor([[-1,-2,-3],[1,2,3]])"
      ],
      "execution_count": 0,
      "outputs": []
    },
    {
      "cell_type": "code",
      "metadata": {
        "id": "K4okxL24829d",
        "colab_type": "code",
        "colab": {
          "base_uri": "https://localhost:8080/",
          "height": 50
        },
        "outputId": "6f502428-7c98-4bd0-ce6b-550dea6f84cf"
      },
      "source": [
        "tensor_div = torch.div(tensor, tensor+0.3)\n",
        "tensor_div\n"
      ],
      "execution_count": 107,
      "outputs": [
        {
          "output_type": "execute_result",
          "data": {
            "text/plain": [
              "tensor([[1.4286, 1.1765, 1.1111],\n",
              "        [0.7692, 0.8696, 0.9091]])"
            ]
          },
          "metadata": {
            "tags": []
          },
          "execution_count": 107
        }
      ]
    },
    {
      "cell_type": "code",
      "metadata": {
        "id": "HAgO5w2x9CVX",
        "colab_type": "code",
        "colab": {
          "base_uri": "https://localhost:8080/",
          "height": 50
        },
        "outputId": "79beab2b-bda4-433d-cf38-9e34ac80d525"
      },
      "source": [
        "#Element wise multiplication\n",
        "\n",
        "tensor_ml =torch.mul(tensor, tensor)\n",
        "\n",
        "tensor_ml\n"
      ],
      "execution_count": 108,
      "outputs": [
        {
          "output_type": "execute_result",
          "data": {
            "text/plain": [
              "tensor([[1., 4., 9.],\n",
              "        [1., 4., 9.]])"
            ]
          },
          "metadata": {
            "tags": []
          },
          "execution_count": 108
        }
      ]
    },
    {
      "cell_type": "code",
      "metadata": {
        "id": "AfMe2krl9WLH",
        "colab_type": "code",
        "colab": {
          "base_uri": "https://localhost:8080/",
          "height": 50
        },
        "outputId": "cb77b838-724c-4f80-db48-7985dec17554"
      },
      "source": [
        "tensor_clamp =torch.clamp(tensor, min=-0.2, max=2)\n",
        "tensor_clamp\n"
      ],
      "execution_count": 109,
      "outputs": [
        {
          "output_type": "execute_result",
          "data": {
            "text/plain": [
              "tensor([[-0.2000, -0.2000, -0.2000],\n",
              "        [ 1.0000,  2.0000,  2.0000]])"
            ]
          },
          "metadata": {
            "tags": []
          },
          "execution_count": 109
        }
      ]
    },
    {
      "cell_type": "code",
      "metadata": {
        "id": "COpfHcDY95Fn",
        "colab_type": "code",
        "colab": {}
      },
      "source": [
        "t1 =torch.Tensor([1,2])\n",
        "\n",
        "t2=torch.Tensor([10,20])"
      ],
      "execution_count": 0,
      "outputs": []
    },
    {
      "cell_type": "code",
      "metadata": {
        "id": "XylxWLpv-QQ1",
        "colab_type": "code",
        "colab": {
          "base_uri": "https://localhost:8080/",
          "height": 34
        },
        "outputId": "3931dd2d-6c04-4dba-c59e-5d759e36d76b"
      },
      "source": [
        "dot_product =torch.dot(t1,t2)\n",
        "\n",
        "dot_product"
      ],
      "execution_count": 111,
      "outputs": [
        {
          "output_type": "execute_result",
          "data": {
            "text/plain": [
              "tensor(50.)"
            ]
          },
          "metadata": {
            "tags": []
          },
          "execution_count": 111
        }
      ]
    },
    {
      "cell_type": "code",
      "metadata": {
        "id": "0j1OPp-l-b2V",
        "colab_type": "code",
        "colab": {}
      },
      "source": [
        "matrix =torch.Tensor([[1,2,3],[4,5,6]])\n",
        "\n",
        "vector =torch.Tensor([0,1,2])"
      ],
      "execution_count": 0,
      "outputs": []
    },
    {
      "cell_type": "code",
      "metadata": {
        "id": "O0kQsKeo-oW1",
        "colab_type": "code",
        "colab": {
          "base_uri": "https://localhost:8080/",
          "height": 34
        },
        "outputId": "bd1cfdb0-d8a4-46de-8e58-b9ede98cc2ee"
      },
      "source": [
        "#matrix to vectot multiplication\n",
        "\n",
        "matrix_vector =torch.mv(matrix, vector)\n",
        "\n",
        "matrix_vector"
      ],
      "execution_count": 113,
      "outputs": [
        {
          "output_type": "execute_result",
          "data": {
            "text/plain": [
              "tensor([ 8., 17.])"
            ]
          },
          "metadata": {
            "tags": []
          },
          "execution_count": 113
        }
      ]
    },
    {
      "cell_type": "code",
      "metadata": {
        "id": "pGhuq5Z1-8t2",
        "colab_type": "code",
        "colab": {}
      },
      "source": [
        "another_matrix =torch.Tensor([[10,30],[20,0],[0,50]])"
      ],
      "execution_count": 0,
      "outputs": []
    },
    {
      "cell_type": "code",
      "metadata": {
        "id": "xxwSIa6x_Uqo",
        "colab_type": "code",
        "colab": {
          "base_uri": "https://localhost:8080/",
          "height": 50
        },
        "outputId": "9a09fcf7-f6b4-451c-b876-0ab5cbb76e34"
      },
      "source": [
        "matrix_mul =torch.mm(matrix,another_matrix)\n",
        "matrix_mul"
      ],
      "execution_count": 115,
      "outputs": [
        {
          "output_type": "execute_result",
          "data": {
            "text/plain": [
              "tensor([[ 50., 180.],\n",
              "        [140., 420.]])"
            ]
          },
          "metadata": {
            "tags": []
          },
          "execution_count": 115
        }
      ]
    },
    {
      "cell_type": "markdown",
      "metadata": {
        "id": "v_sSovW5AqiD",
        "colab_type": "text"
      },
      "source": [
        "# 60 days of code udacity\n",
        "## Day7: 10-July-2019\n",
        "\n",
        "### Foundation of Pytorch Contd...Pluralsight"
      ]
    },
    {
      "cell_type": "code",
      "metadata": {
        "id": "VY-SiVfw_gzF",
        "colab_type": "code",
        "colab": {
          "base_uri": "https://localhost:8080/",
          "height": 84
        },
        "outputId": "14ba8419-f5e5-4850-cfb8-e37e8f289dc6"
      },
      "source": [
        "\n",
        "#index of largest element position \n",
        "\n",
        "matrix_mul\n",
        "print(\"____________________________________\")\n",
        "\n",
        "print(\"____________________________________\")\n",
        "torch.argmax(matrix_mul, dim =1)"
      ],
      "execution_count": 116,
      "outputs": [
        {
          "output_type": "execute_result",
          "data": {
            "text/plain": [
              "tensor([[ 50., 180.],\n",
              "        [140., 420.]])"
            ]
          },
          "metadata": {
            "tags": []
          },
          "execution_count": 116
        },
        {
          "output_type": "stream",
          "text": [
            "____________________________________\n",
            "____________________________________\n"
          ],
          "name": "stdout"
        },
        {
          "output_type": "execute_result",
          "data": {
            "text/plain": [
              "tensor([1, 1])"
            ]
          },
          "metadata": {
            "tags": []
          },
          "execution_count": 116
        }
      ]
    },
    {
      "cell_type": "code",
      "metadata": {
        "id": "L9Jk97zDAUQ7",
        "colab_type": "code",
        "colab": {
          "base_uri": "https://localhost:8080/",
          "height": 84
        },
        "outputId": "7484bfe1-3bc1-4056-c2a8-2cd3052d5c8c"
      },
      "source": [
        "matrix_mul\n",
        "print(\"____________________________________\")\n",
        "\n",
        "print(\"____________________________________\")\n",
        "\n",
        "\n",
        "torch.argmin(matrix_mul, dim=1)\n"
      ],
      "execution_count": 117,
      "outputs": [
        {
          "output_type": "execute_result",
          "data": {
            "text/plain": [
              "tensor([[ 50., 180.],\n",
              "        [140., 420.]])"
            ]
          },
          "metadata": {
            "tags": []
          },
          "execution_count": 117
        },
        {
          "output_type": "stream",
          "text": [
            "____________________________________\n",
            "____________________________________\n"
          ],
          "name": "stdout"
        },
        {
          "output_type": "execute_result",
          "data": {
            "text/plain": [
              "tensor([0, 0])"
            ]
          },
          "metadata": {
            "tags": []
          },
          "execution_count": 117
        }
      ]
    },
    {
      "cell_type": "markdown",
      "metadata": {
        "id": "PKRR0xQbBTPc",
        "colab_type": "text"
      },
      "source": [
        "#### Conversation between Pytorch and Numpy"
      ]
    },
    {
      "cell_type": "code",
      "metadata": {
        "id": "2Wppg8FDA8eD",
        "colab_type": "code",
        "colab": {}
      },
      "source": [
        "import numpy as np\n",
        "\n",
        "import torch"
      ],
      "execution_count": 0,
      "outputs": []
    },
    {
      "cell_type": "code",
      "metadata": {
        "id": "Mca38YDUBhBg",
        "colab_type": "code",
        "outputId": "d291b272-5089-47b3-8537-7802739e56eb",
        "colab": {
          "base_uri": "https://localhost:8080/",
          "height": 84
        }
      },
      "source": [
        "tensor_rndm =torch.rand(4,3)\n",
        "\n",
        "tensor_rndm"
      ],
      "execution_count": 119,
      "outputs": [
        {
          "output_type": "execute_result",
          "data": {
            "text/plain": [
              "tensor([[0.2482, 0.2198, 0.5509],\n",
              "        [0.1833, 0.7744, 0.9857],\n",
              "        [0.8267, 0.6271, 0.9178],\n",
              "        [0.7889, 0.4474, 0.0196]])"
            ]
          },
          "metadata": {
            "tags": []
          },
          "execution_count": 119
        }
      ]
    },
    {
      "cell_type": "code",
      "metadata": {
        "id": "nnH8lASRBqbA",
        "colab_type": "code",
        "outputId": "fc81a085-34a5-4d40-d8ac-2722b2f4797a",
        "colab": {
          "base_uri": "https://localhost:8080/",
          "height": 34
        }
      },
      "source": [
        "type(tensor_rndm)"
      ],
      "execution_count": 120,
      "outputs": [
        {
          "output_type": "execute_result",
          "data": {
            "text/plain": [
              "torch.Tensor"
            ]
          },
          "metadata": {
            "tags": []
          },
          "execution_count": 120
        }
      ]
    },
    {
      "cell_type": "code",
      "metadata": {
        "id": "_EphiYjOBvXQ",
        "colab_type": "code",
        "outputId": "ab922030-724c-4dab-fcfe-3a04d6923bef",
        "colab": {
          "base_uri": "https://localhost:8080/",
          "height": 84
        }
      },
      "source": [
        "#torch tensors are simple numpy arrays with the ability to be executed on GPU\n",
        "\n",
        "#numpy matrix for the above created tensor_rndm tensor\n",
        "numpy_from_tensor_rndm =tensor_rndm.numpy()\n",
        "\n",
        "numpy_from_tensor_rndm"
      ],
      "execution_count": 121,
      "outputs": [
        {
          "output_type": "execute_result",
          "data": {
            "text/plain": [
              "array([[0.2481783 , 0.21980041, 0.5508719 ],\n",
              "       [0.18325645, 0.77440655, 0.9856787 ],\n",
              "       [0.8266737 , 0.627127  , 0.9177755 ],\n",
              "       [0.78887916, 0.44735718, 0.01962757]], dtype=float32)"
            ]
          },
          "metadata": {
            "tags": []
          },
          "execution_count": 121
        }
      ]
    },
    {
      "cell_type": "code",
      "metadata": {
        "id": "EFGkbMKoCWHO",
        "colab_type": "code",
        "outputId": "81f297fe-0e12-4ab9-d29c-fae9dbf20fa7",
        "colab": {
          "base_uri": "https://localhost:8080/",
          "height": 34
        }
      },
      "source": [
        "type(numpy_from_tensor_rndm)"
      ],
      "execution_count": 122,
      "outputs": [
        {
          "output_type": "execute_result",
          "data": {
            "text/plain": [
              "numpy.ndarray"
            ]
          },
          "metadata": {
            "tags": []
          },
          "execution_count": 122
        }
      ]
    },
    {
      "cell_type": "code",
      "metadata": {
        "id": "tvAhAXSCCqGt",
        "colab_type": "code",
        "outputId": "a0c37914-846d-4467-cb4b-c884244da8b1",
        "colab": {
          "base_uri": "https://localhost:8080/",
          "height": 34
        }
      },
      "source": [
        "torch.is_tensor(tensor_rndm)"
      ],
      "execution_count": 123,
      "outputs": [
        {
          "output_type": "execute_result",
          "data": {
            "text/plain": [
              "True"
            ]
          },
          "metadata": {
            "tags": []
          },
          "execution_count": 123
        }
      ]
    },
    {
      "cell_type": "code",
      "metadata": {
        "id": "MCeLqif5DEG9",
        "colab_type": "code",
        "outputId": "b6a2058b-9775-4e87-adef-0b6dd7fb6a5c",
        "colab": {
          "base_uri": "https://localhost:8080/",
          "height": 34
        }
      },
      "source": [
        "torch.is_tensor(numpy_from_tensor_rndm)"
      ],
      "execution_count": 124,
      "outputs": [
        {
          "output_type": "execute_result",
          "data": {
            "text/plain": [
              "False"
            ]
          },
          "metadata": {
            "tags": []
          },
          "execution_count": 124
        }
      ]
    },
    {
      "cell_type": "code",
      "metadata": {
        "id": "LtcvR5sBDOpc",
        "colab_type": "code",
        "outputId": "7e7a180d-f901-4cfd-9c45-da42f2f03a81",
        "colab": {
          "base_uri": "https://localhost:8080/",
          "height": 84
        }
      },
      "source": [
        "#The numpy array and the pytorch tensor share the same underlying memory\n",
        "\n",
        "numpy_from_tensor_rndm[0,0] =100.0\n",
        "numpy_from_tensor_rndm"
      ],
      "execution_count": 125,
      "outputs": [
        {
          "output_type": "execute_result",
          "data": {
            "text/plain": [
              "array([[1.0000000e+02, 2.1980041e-01, 5.5087191e-01],\n",
              "       [1.8325645e-01, 7.7440655e-01, 9.8567867e-01],\n",
              "       [8.2667369e-01, 6.2712699e-01, 9.1777551e-01],\n",
              "       [7.8887916e-01, 4.4735718e-01, 1.9627571e-02]], dtype=float32)"
            ]
          },
          "metadata": {
            "tags": []
          },
          "execution_count": 125
        }
      ]
    },
    {
      "cell_type": "code",
      "metadata": {
        "id": "Q38duWHCDYdr",
        "colab_type": "code",
        "outputId": "4d509835-102f-434b-c1e9-a1087b4e1364",
        "colab": {
          "base_uri": "https://localhost:8080/",
          "height": 67
        }
      },
      "source": [
        "numpy_arr =np.array([[1.0,2.0,3.0],[10.0,20.0,30.0],[100.0,200.0,300.0]])\n",
        "\n",
        "numpy_arr"
      ],
      "execution_count": 126,
      "outputs": [
        {
          "output_type": "execute_result",
          "data": {
            "text/plain": [
              "array([[  1.,   2.,   3.],\n",
              "       [ 10.,  20.,  30.],\n",
              "       [100., 200., 300.]])"
            ]
          },
          "metadata": {
            "tags": []
          },
          "execution_count": 126
        }
      ]
    },
    {
      "cell_type": "code",
      "metadata": {
        "id": "wfo5QVOVEUvp",
        "colab_type": "code",
        "outputId": "8acb1a59-a032-4553-cc52-ef4cd765d374",
        "colab": {
          "base_uri": "https://localhost:8080/",
          "height": 67
        }
      },
      "source": [
        "\n",
        "tensor_from_numpy = torch.from_numpy(numpy_arr)\n",
        "\n",
        "tensor_from_numpy"
      ],
      "execution_count": 127,
      "outputs": [
        {
          "output_type": "execute_result",
          "data": {
            "text/plain": [
              "tensor([[  1.,   2.,   3.],\n",
              "        [ 10.,  20.,  30.],\n",
              "        [100., 200., 300.]], dtype=torch.float64)"
            ]
          },
          "metadata": {
            "tags": []
          },
          "execution_count": 127
        }
      ]
    },
    {
      "cell_type": "code",
      "metadata": {
        "id": "acWV_bCrEpKY",
        "colab_type": "code",
        "outputId": "2dee30f0-e3d2-4829-f54c-b0bbaf850827",
        "colab": {
          "base_uri": "https://localhost:8080/",
          "height": 34
        }
      },
      "source": [
        "type(tensor_from_numpy)"
      ],
      "execution_count": 128,
      "outputs": [
        {
          "output_type": "execute_result",
          "data": {
            "text/plain": [
              "torch.Tensor"
            ]
          },
          "metadata": {
            "tags": []
          },
          "execution_count": 128
        }
      ]
    },
    {
      "cell_type": "code",
      "metadata": {
        "id": "6V-Rmul0FcwV",
        "colab_type": "code",
        "outputId": "0441b222-0dba-479c-8a00-adf41e68524e",
        "colab": {
          "base_uri": "https://localhost:8080/",
          "height": 34
        }
      },
      "source": [
        "torch.is_tensor(tensor_from_numpy)"
      ],
      "execution_count": 129,
      "outputs": [
        {
          "output_type": "execute_result",
          "data": {
            "text/plain": [
              "True"
            ]
          },
          "metadata": {
            "tags": []
          },
          "execution_count": 129
        }
      ]
    },
    {
      "cell_type": "code",
      "metadata": {
        "id": "KKo8m7n_F7U0",
        "colab_type": "code",
        "outputId": "d0e8e6e7-523b-4614-cf00-ce000f593465",
        "colab": {
          "base_uri": "https://localhost:8080/",
          "height": 67
        }
      },
      "source": [
        "tensor_from_numpy[0] =1\n",
        "tensor_from_numpy"
      ],
      "execution_count": 130,
      "outputs": [
        {
          "output_type": "execute_result",
          "data": {
            "text/plain": [
              "tensor([[  1.,   1.,   1.],\n",
              "        [ 10.,  20.,  30.],\n",
              "        [100., 200., 300.]], dtype=torch.float64)"
            ]
          },
          "metadata": {
            "tags": []
          },
          "execution_count": 130
        }
      ]
    },
    {
      "cell_type": "code",
      "metadata": {
        "id": "szz_cSQuGHkD",
        "colab_type": "code",
        "outputId": "d0960007-10fe-4064-b7a9-c0c449860926",
        "colab": {
          "base_uri": "https://localhost:8080/",
          "height": 67
        }
      },
      "source": [
        "numpy_arr"
      ],
      "execution_count": 131,
      "outputs": [
        {
          "output_type": "execute_result",
          "data": {
            "text/plain": [
              "array([[  1.,   1.,   1.],\n",
              "       [ 10.,  20.,  30.],\n",
              "       [100., 200., 300.]])"
            ]
          },
          "metadata": {
            "tags": []
          },
          "execution_count": 131
        }
      ]
    },
    {
      "cell_type": "code",
      "metadata": {
        "id": "fYbxJMWIGwZC",
        "colab_type": "code",
        "outputId": "c3316d87-0663-4c15-b463-f59a160126a7",
        "colab": {
          "base_uri": "https://localhost:8080/",
          "height": 34
        }
      },
      "source": [
        "\n",
        "np_array_one =np.array([4,8])\n",
        "np_array_one"
      ],
      "execution_count": 132,
      "outputs": [
        {
          "output_type": "execute_result",
          "data": {
            "text/plain": [
              "array([4, 8])"
            ]
          },
          "metadata": {
            "tags": []
          },
          "execution_count": 132
        }
      ]
    },
    {
      "cell_type": "code",
      "metadata": {
        "id": "fCUcOCI_G_ji",
        "colab_type": "code",
        "outputId": "3f75cc03-8745-4660-c8e1-9bedb993782c",
        "colab": {
          "base_uri": "https://localhost:8080/",
          "height": 34
        }
      },
      "source": [
        "#If data is already a tensor with the same dtype and device then no copy\n",
        "#is performed and new tensor is returned with the same computational graph\n",
        "tensor_from_array_one=torch.as_tensor(np_array_one)\n",
        "\n",
        "tensor_from_array_one"
      ],
      "execution_count": 133,
      "outputs": [
        {
          "output_type": "execute_result",
          "data": {
            "text/plain": [
              "tensor([4, 8])"
            ]
          },
          "metadata": {
            "tags": []
          },
          "execution_count": 133
        }
      ]
    },
    {
      "cell_type": "code",
      "metadata": {
        "id": "h74tdaQ_HP3w",
        "colab_type": "code",
        "outputId": "dd3a8f4f-6618-485d-dac1-8820f6b88991",
        "colab": {
          "base_uri": "https://localhost:8080/",
          "height": 34
        }
      },
      "source": [
        "\n",
        "\n",
        "#any uodate in olrigianl array will reflect here\n",
        "np_array_one[1]=5\n",
        "np_array_one\n",
        "\n",
        "#element at index-1 has assigned with value 5"
      ],
      "execution_count": 134,
      "outputs": [
        {
          "output_type": "execute_result",
          "data": {
            "text/plain": [
              "array([4, 5])"
            ]
          },
          "metadata": {
            "tags": []
          },
          "execution_count": 134
        }
      ]
    },
    {
      "cell_type": "code",
      "metadata": {
        "id": "rV-7dxCFIKne",
        "colab_type": "code",
        "outputId": "51b653fe-8c75-4af7-b69a-6c26c5d7d0b4",
        "colab": {
          "base_uri": "https://localhost:8080/",
          "height": 34
        }
      },
      "source": [
        "\n",
        "#here also element at index-1 as 5\n",
        "tensor_from_array_one"
      ],
      "execution_count": 135,
      "outputs": [
        {
          "output_type": "execute_result",
          "data": {
            "text/plain": [
              "tensor([4, 5])"
            ]
          },
          "metadata": {
            "tags": []
          },
          "execution_count": 135
        }
      ]
    },
    {
      "cell_type": "code",
      "metadata": {
        "id": "UTOcK8mlIdI9",
        "colab_type": "code",
        "outputId": "c29c6089-376f-46c0-9a84-18d302cab1c8",
        "colab": {
          "base_uri": "https://localhost:8080/",
          "height": 34
        }
      },
      "source": [
        "np_array_two =np.array([2,2])\n",
        "np_array_two"
      ],
      "execution_count": 136,
      "outputs": [
        {
          "output_type": "execute_result",
          "data": {
            "text/plain": [
              "array([2, 2])"
            ]
          },
          "metadata": {
            "tags": []
          },
          "execution_count": 136
        }
      ]
    },
    {
      "cell_type": "code",
      "metadata": {
        "id": "GHLWXR_hIu38",
        "colab_type": "code",
        "outputId": "d36debcd-eb40-4eaa-ac59-2c78ae817b7b",
        "colab": {
          "base_uri": "https://localhost:8080/",
          "height": 34
        }
      },
      "source": [
        "#call torch.tensor function in order to use underlying memory of num py and torch tensor\n",
        "tenor_from_array_two =torch.tensor(np_array_two)\n",
        "\n",
        "tenor_from_array_two"
      ],
      "execution_count": 137,
      "outputs": [
        {
          "output_type": "execute_result",
          "data": {
            "text/plain": [
              "tensor([2, 2])"
            ]
          },
          "metadata": {
            "tags": []
          },
          "execution_count": 137
        }
      ]
    },
    {
      "cell_type": "code",
      "metadata": {
        "id": "cJAGrB2_I77s",
        "colab_type": "code",
        "outputId": "40a5b830-ff56-4f69-805e-4c4b3aeb6fa4",
        "colab": {
          "base_uri": "https://localhost:8080/",
          "height": 34
        }
      },
      "source": [
        "np_array_two[1]=4\n",
        "\n",
        "np_array_two"
      ],
      "execution_count": 138,
      "outputs": [
        {
          "output_type": "execute_result",
          "data": {
            "text/plain": [
              "array([2, 4])"
            ]
          },
          "metadata": {
            "tags": []
          },
          "execution_count": 138
        }
      ]
    },
    {
      "cell_type": "markdown",
      "metadata": {
        "id": "tFSOcWFp_oZo",
        "colab_type": "text"
      },
      "source": [
        "# 60 days of code udacity\n",
        "## Day8: 11-July-2019\n",
        "\n",
        "### Foundation of Pytorch Contd...Pluralsight"
      ]
    },
    {
      "cell_type": "code",
      "metadata": {
        "id": "dbkP6UhUJER9",
        "colab_type": "code",
        "outputId": "a52b0c4d-188c-40c8-e4b8-6fd989e9a9b0",
        "colab": {
          "base_uri": "https://localhost:8080/",
          "height": 34
        }
      },
      "source": [
        "tenor_from_array_two"
      ],
      "execution_count": 139,
      "outputs": [
        {
          "output_type": "execute_result",
          "data": {
            "text/plain": [
              "tensor([2, 2])"
            ]
          },
          "metadata": {
            "tags": []
          },
          "execution_count": 139
        }
      ]
    },
    {
      "cell_type": "code",
      "metadata": {
        "id": "vwlNapfhFnH9",
        "colab_type": "code",
        "colab": {}
      },
      "source": [
        "#tenor_from_array_two is not affected by chnage on the np_array_two"
      ],
      "execution_count": 0,
      "outputs": []
    },
    {
      "cell_type": "markdown",
      "metadata": {
        "id": "d7MKZnPbONVH",
        "colab_type": "text"
      },
      "source": [
        "## Building first pytorch solution"
      ]
    },
    {
      "cell_type": "markdown",
      "metadata": {
        "id": "WZ_IN6MpGfQO",
        "colab_type": "text"
      },
      "source": [
        "#### pytorch in CUDA environment"
      ]
    },
    {
      "cell_type": "code",
      "metadata": {
        "id": "4eM5dur-GEKN",
        "colab_type": "code",
        "outputId": "73843cae-44c4-4fc4-9a13-01639b39a427",
        "colab": {
          "base_uri": "https://localhost:8080/",
          "height": 34
        }
      },
      "source": [
        "# to check if cUDA available in current pytorch environment\n",
        "import torch\n",
        "\n",
        "torch.cuda.is_available()"
      ],
      "execution_count": 141,
      "outputs": [
        {
          "output_type": "execute_result",
          "data": {
            "text/plain": [
              "True"
            ]
          },
          "metadata": {
            "tags": []
          },
          "execution_count": 141
        }
      ]
    },
    {
      "cell_type": "code",
      "metadata": {
        "id": "1B_CgMqKGppq",
        "colab_type": "code",
        "outputId": "e922b6d9-2b46-4ac6-b682-f483960279c0",
        "colab": {
          "base_uri": "https://localhost:8080/",
          "height": 84
        }
      },
      "source": [
        "#Check cuda version\n",
        "!nvcc --version"
      ],
      "execution_count": 142,
      "outputs": [
        {
          "output_type": "stream",
          "text": [
            "nvcc: NVIDIA (R) Cuda compiler driver\n",
            "Copyright (c) 2005-2019 NVIDIA Corporation\n",
            "Built on Wed_Apr_24_19:10:27_PDT_2019\n",
            "Cuda compilation tools, release 10.1, V10.1.168\n"
          ],
          "name": "stdout"
        }
      ]
    },
    {
      "cell_type": "code",
      "metadata": {
        "id": "1BDx9fWDHP64",
        "colab_type": "code",
        "outputId": "4f68c24c-ae0d-4192-8b0c-bdc60eea1272",
        "colab": {
          "base_uri": "https://localhost:8080/",
          "height": 34
        }
      },
      "source": [
        "!cat /usr/local/lib/python3.6/dist-packages/external/local_config_cuda/cuda/cuda/cuda_config.h |\\\n",
        "grep TF_CUDA_VERSION"
      ],
      "execution_count": 143,
      "outputs": [
        {
          "output_type": "stream",
          "text": [
            "cat: /usr/local/lib/python3.6/dist-packages/external/local_config_cuda/cuda/cuda/cuda_config.h: No such file or directory\n"
          ],
          "name": "stdout"
        }
      ]
    },
    {
      "cell_type": "code",
      "metadata": {
        "id": "TOZj8AVxHXgH",
        "colab_type": "code",
        "colab": {}
      },
      "source": [
        "#!pip uninstall mxnet-cu100"
      ],
      "execution_count": 0,
      "outputs": []
    },
    {
      "cell_type": "code",
      "metadata": {
        "id": "17zoTdimHhHH",
        "colab_type": "code",
        "outputId": "f13e5f48-2642-497a-af94-61ed4395785c",
        "colab": {
          "base_uri": "https://localhost:8080/",
          "height": 54
        }
      },
      "source": [
        "\"\"\"\n",
        "How to get Cuda 9.2 backend for PyTorch 0.4.1 on Google Colab.\n",
        "\n",
        "https://towardsdatascience.com/how-to-get-cuda-9-2-backend-for-pytorch-0-4-1-on-google-colab-57eb12aae27f\n",
        "\n",
        "\"\"\"\n",
        "!git clone https://gist.github.com/f7b7c7758a46da49f84bc68b47997d69.git"
      ],
      "execution_count": 145,
      "outputs": [
        {
          "output_type": "execute_result",
          "data": {
            "text/plain": [
              "'\\nHow to get Cuda 9.2 backend for PyTorch 0.4.1 on Google Colab.\\n\\nhttps://towardsdatascience.com/how-to-get-cuda-9-2-backend-for-pytorch-0-4-1-on-google-colab-57eb12aae27f\\n\\n'"
            ]
          },
          "metadata": {
            "tags": []
          },
          "execution_count": 145
        },
        {
          "output_type": "stream",
          "text": [
            "fatal: destination path 'f7b7c7758a46da49f84bc68b47997d69' already exists and is not an empty directory.\n"
          ],
          "name": "stdout"
        }
      ]
    },
    {
      "cell_type": "code",
      "metadata": {
        "id": "Sm7V9Y_TIIWK",
        "colab_type": "code",
        "outputId": "d35a49cc-a6be-4edc-c0b5-baa0c6bf5d33",
        "colab": {
          "base_uri": "https://localhost:8080/",
          "height": 34
        }
      },
      "source": [
        "\n",
        "!bash pytorch041_cuda92_colab.sh"
      ],
      "execution_count": 146,
      "outputs": [
        {
          "output_type": "stream",
          "text": [
            "bash: pytorch041_cuda92_colab.sh: No such file or directory\n"
          ],
          "name": "stdout"
        }
      ]
    },
    {
      "cell_type": "code",
      "metadata": {
        "id": "yDnn9i4MIqda",
        "colab_type": "code",
        "colab": {}
      },
      "source": [
        "#https://stackoverflow.com/questions/50560395/how-to-install-cuda-in-google-colab-gpus"
      ],
      "execution_count": 0,
      "outputs": []
    },
    {
      "cell_type": "markdown",
      "metadata": {
        "id": "axXQN__jMX7X",
        "colab_type": "text"
      },
      "source": [
        "#### setting of the cuda gpu for pytorch environment either by using below script of going Edit-->Notebook Setting-->select Hardware Accelarator as GPU"
      ]
    },
    {
      "cell_type": "code",
      "metadata": {
        "id": "7OSMlUnGITnU",
        "colab_type": "code",
        "outputId": "fbac8273-c0a4-4bbf-bf5b-52e1ee4f6872",
        "colab": {
          "base_uri": "https://localhost:8080/",
          "height": 54
        }
      },
      "source": [
        "\"\"\"\n",
        "!wget https://developer.nvidia.com/compute/cuda/9.2/Prod/local_installers/cuda-repo-ubuntu1604-9-2-local_9.2.88-1_amd64 -O cuda-repo-ubuntu1604-9-2-local_9.2.88-1_amd64.deb\n",
        "!dpkg -i cuda-repo-ubuntu1604-9-2-local_9.2.88-1_amd64.deb\n",
        "!apt-key add /var/cuda-repo-9-2-local/7fa2af80.pub\n",
        "!apt-get update\n",
        "!apt-get install cuda\n",
        "\"\"\"\n",
        "\n"
      ],
      "execution_count": 148,
      "outputs": [
        {
          "output_type": "execute_result",
          "data": {
            "text/plain": [
              "'\\n!wget https://developer.nvidia.com/compute/cuda/9.2/Prod/local_installers/cuda-repo-ubuntu1604-9-2-local_9.2.88-1_amd64 -O cuda-repo-ubuntu1604-9-2-local_9.2.88-1_amd64.deb\\n!dpkg -i cuda-repo-ubuntu1604-9-2-local_9.2.88-1_amd64.deb\\n!apt-key add /var/cuda-repo-9-2-local/7fa2af80.pub\\n!apt-get update\\n!apt-get install cuda\\n'"
            ]
          },
          "metadata": {
            "tags": []
          },
          "execution_count": 148
        }
      ]
    },
    {
      "cell_type": "code",
      "metadata": {
        "id": "z44GxQ21IfVE",
        "colab_type": "code",
        "colab": {}
      },
      "source": [
        "torch.cuda.is_available()"
      ],
      "execution_count": 0,
      "outputs": []
    },
    {
      "cell_type": "markdown",
      "metadata": {
        "id": "ryrmP1nMOgXh",
        "colab_type": "text"
      },
      "source": [
        "#### simpl regression using weights biases and autograd"
      ]
    },
    {
      "cell_type": "code",
      "metadata": {
        "id": "J1Trrk-OMCt8",
        "colab_type": "code",
        "colab": {}
      },
      "source": [
        "import numpy as np\n",
        "import matplotlib.pyplot as plt"
      ],
      "execution_count": 0,
      "outputs": []
    },
    {
      "cell_type": "code",
      "metadata": {
        "id": "boRBJLZXP_wz",
        "colab_type": "code",
        "colab": {}
      },
      "source": [
        "#  a simple numpy array dataset\n",
        "\n",
        "x_train = np.array ([[4.7], [2.4], [7.5], [7.1], [4.3], \n",
        "                     [7.8], [8.9], [5.2], [4.59], [2.1], \n",
        "                     [8], [5], [7.5], [5], [4],\n",
        "                     [8], [5.2], [4.9], [3], [4.7], \n",
        "                     [4], [4.8], [3.5], [2.1], [4.1]],\n",
        "                    dtype = np.float32)\n",
        "\n",
        "y_train = np.array ([[2.6], [1.6], [3.09], [2.4], [2.4], \n",
        "                     [3.3], [2.6], [1.96], [3.13], [1.76], \n",
        "                     [3.2], [2.1], [1.6], [2.5], [2.2], \n",
        "                     [2.75], [2.4], [1.8], [1], [2], \n",
        "                     [1.6], [2.4], [2.6], [1.5], [3.1]], \n",
        "                    dtype = np.float32)"
      ],
      "execution_count": 0,
      "outputs": []
    },
    {
      "cell_type": "code",
      "metadata": {
        "id": "fHrHCAyKQiC6",
        "colab_type": "code",
        "colab": {}
      },
      "source": [
        "#pytorch uses autograph module to build and model pytorch machine learning model"
      ],
      "execution_count": 0,
      "outputs": []
    },
    {
      "cell_type": "code",
      "metadata": {
        "id": "j0Mdq225QwgY",
        "colab_type": "code",
        "colab": {}
      },
      "source": [
        "plt.figure(figsize=(8,8))\n",
        "plt.scatter(x_train, y_train, c='green', s=250, label='Original data')\n",
        "\n",
        "plt.show()"
      ],
      "execution_count": 0,
      "outputs": []
    },
    {
      "cell_type": "code",
      "metadata": {
        "id": "R8GUnVmGRKFH",
        "colab_type": "code",
        "colab": {}
      },
      "source": [
        "import torch"
      ],
      "execution_count": 0,
      "outputs": []
    },
    {
      "cell_type": "code",
      "metadata": {
        "id": "b3G04J5RRfZn",
        "colab_type": "code",
        "colab": {}
      },
      "source": [
        "\n",
        "#when initialize the tensor .requires_grad property is false by default\n",
        "X_train =torch.from_numpy(x_train)\n",
        "Y_train =torch.from_numpy(y_train)\n",
        "print('requires_grad for X_train: ', X_train.requires_grad)\n",
        "print('requires_grad for Y_train: ', Y_train.requires_grad)\n"
      ],
      "execution_count": 0,
      "outputs": []
    },
    {
      "cell_type": "markdown",
      "metadata": {
        "id": "T1azlAQcR8kh",
        "colab_type": "text"
      },
      "source": [
        "### set simple neural network by hand in pytorch with autograd library\n",
        "\n",
        "*   List item\n",
        "*   List item\n",
        "\n"
      ]
    },
    {
      "cell_type": "code",
      "metadata": {
        "id": "bxOoIgQpRyGn",
        "colab_type": "code",
        "colab": {}
      },
      "source": [
        "input_size = 1 \n",
        "hidden_size = 1\n",
        "output_size = 1 \n",
        "learning_rate = 0.001"
      ],
      "execution_count": 0,
      "outputs": []
    },
    {
      "cell_type": "markdown",
      "metadata": {
        "id": "OW_JL1-iSbL4",
        "colab_type": "text"
      },
      "source": [
        "#### Create random Tensors for weights and biases.\n",
        "Setting requires_grad=True indicates that we want to compute gradients with respect to these Tensors during the backward pass"
      ]
    },
    {
      "cell_type": "code",
      "metadata": {
        "id": "_k9gzmCKSAdk",
        "colab_type": "code",
        "colab": {}
      },
      "source": [
        "w1 = torch.rand(input_size, \n",
        "                hidden_size, \n",
        "                \n",
        "                requires_grad=True)\n",
        "w1.shape"
      ],
      "execution_count": 0,
      "outputs": []
    },
    {
      "cell_type": "code",
      "metadata": {
        "id": "CV_uqBkQSKlm",
        "colab_type": "code",
        "colab": {}
      },
      "source": [
        "b1 = torch.rand(hidden_size, \n",
        "                output_size, \n",
        "                \n",
        "                requires_grad=True)\n",
        "b1.shape"
      ],
      "execution_count": 0,
      "outputs": []
    },
    {
      "cell_type": "code",
      "metadata": {
        "id": "qxVxW9j8SOEF",
        "colab_type": "code",
        "colab": {}
      },
      "source": [
        "w1"
      ],
      "execution_count": 0,
      "outputs": []
    },
    {
      "cell_type": "code",
      "metadata": {
        "id": "lQ3eQE-fSQzF",
        "colab_type": "code",
        "colab": {}
      },
      "source": [
        "b1"
      ],
      "execution_count": 0,
      "outputs": []
    },
    {
      "cell_type": "markdown",
      "metadata": {
        "id": "R_msw7V3TLMW",
        "colab_type": "text"
      },
      "source": [
        "# 60 days of code udacity\n",
        "##Day9: 14-July-2019\n",
        "###Building-your-first-pytorch-solution and pytorch-building-deep-learning-models courses authored by JANANI RAVI from ...Pluralsight and coded more  45 mins and below codes are snapshots of the same.\n",
        "\n",
        "12 july and 13 july went through theory of building-your-first-pytorch-solution and \n",
        "building-your-first-pytorch-solution and pytorch-building-deep-learning-models courses authored by JANANI RAVI from ...Pluralsight\n",
        "\n",
        "Could not code much one 12 and 13 july and only went through theory so did not post any updates on 12 and 13 july."
      ]
    },
    {
      "cell_type": "code",
      "metadata": {
        "id": "qHDs1OAQSSrT",
        "colab_type": "code",
        "outputId": "1711d0e2-566f-499b-f87a-85b19e3114ac",
        "colab": {
          "base_uri": "https://localhost:8080/",
          "height": 346
        }
      },
      "source": [
        "#we trying to do compute with forward pass and backwa5rd pass and then loss function\n",
        "\n",
        "for iter in range(1,4001):\n",
        "  y_pred =X_train.mm(w1).clamp(min=0).add(b1)\n",
        "  loss =(y_pred - Y_train).pow(2).sum()\n",
        "  \n",
        "  if iter % 100 ==0:\n",
        "    print(iter, loss.item())\n",
        "  loss.backward()\n",
        "  \n",
        "  with torch.no_grad():\n",
        "    w1 -=learning_rate * w1.grad\n",
        "    \n",
        "    b1 -=learning_rate * b1.grad\n",
        "    \n",
        "    w1.grad.zero_()\n",
        "    b1.grad.zero_()"
      ],
      "execution_count": 149,
      "outputs": [
        {
          "output_type": "error",
          "ename": "AttributeError",
          "evalue": "ignored",
          "traceback": [
            "\u001b[0;31m---------------------------------------------------------------------------\u001b[0m",
            "\u001b[0;31mAttributeError\u001b[0m                            Traceback (most recent call last)",
            "\u001b[0;32m<ipython-input-149-6e9bdf7b3d74>\u001b[0m in \u001b[0;36m<module>\u001b[0;34m()\u001b[0m\n\u001b[1;32m      1\u001b[0m \u001b[0;34m\u001b[0m\u001b[0m\n\u001b[1;32m      2\u001b[0m \u001b[0;32mfor\u001b[0m \u001b[0miter\u001b[0m \u001b[0;32min\u001b[0m \u001b[0mrange\u001b[0m\u001b[0;34m(\u001b[0m\u001b[0;36m1\u001b[0m\u001b[0;34m,\u001b[0m\u001b[0;36m4001\u001b[0m\u001b[0;34m)\u001b[0m\u001b[0;34m:\u001b[0m\u001b[0;34m\u001b[0m\u001b[0;34m\u001b[0m\u001b[0m\n\u001b[0;32m----> 3\u001b[0;31m   \u001b[0my_pred\u001b[0m \u001b[0;34m=\u001b[0m\u001b[0mX_train\u001b[0m\u001b[0;34m.\u001b[0m\u001b[0mmm\u001b[0m\u001b[0;34m(\u001b[0m\u001b[0mw1\u001b[0m\u001b[0;34m)\u001b[0m\u001b[0;34m.\u001b[0m\u001b[0mclamp\u001b[0m\u001b[0;34m(\u001b[0m\u001b[0mmin\u001b[0m\u001b[0;34m=\u001b[0m\u001b[0;36m0\u001b[0m\u001b[0;34m)\u001b[0m\u001b[0;34m.\u001b[0m\u001b[0madd\u001b[0m\u001b[0;34m(\u001b[0m\u001b[0mb1\u001b[0m\u001b[0;34m)\u001b[0m\u001b[0;34m\u001b[0m\u001b[0;34m\u001b[0m\u001b[0m\n\u001b[0m\u001b[1;32m      4\u001b[0m   \u001b[0mloss\u001b[0m \u001b[0;34m=\u001b[0m\u001b[0;34m(\u001b[0m\u001b[0my_pred\u001b[0m \u001b[0;34m-\u001b[0m \u001b[0mY_train\u001b[0m\u001b[0;34m)\u001b[0m\u001b[0;34m.\u001b[0m\u001b[0mpow\u001b[0m\u001b[0;34m(\u001b[0m\u001b[0;36m2\u001b[0m\u001b[0;34m)\u001b[0m\u001b[0;34m.\u001b[0m\u001b[0msum\u001b[0m\u001b[0;34m(\u001b[0m\u001b[0;34m)\u001b[0m\u001b[0;34m\u001b[0m\u001b[0;34m\u001b[0m\u001b[0m\n\u001b[1;32m      5\u001b[0m \u001b[0;34m\u001b[0m\u001b[0m\n",
            "\u001b[0;32m/usr/local/lib/python3.6/dist-packages/pandas/core/generic.py\u001b[0m in \u001b[0;36m__getattr__\u001b[0;34m(self, name)\u001b[0m\n\u001b[1;32m   5065\u001b[0m             \u001b[0;32mif\u001b[0m \u001b[0mself\u001b[0m\u001b[0;34m.\u001b[0m\u001b[0m_info_axis\u001b[0m\u001b[0;34m.\u001b[0m\u001b[0m_can_hold_identifiers_and_holds_name\u001b[0m\u001b[0;34m(\u001b[0m\u001b[0mname\u001b[0m\u001b[0;34m)\u001b[0m\u001b[0;34m:\u001b[0m\u001b[0;34m\u001b[0m\u001b[0;34m\u001b[0m\u001b[0m\n\u001b[1;32m   5066\u001b[0m                 \u001b[0;32mreturn\u001b[0m \u001b[0mself\u001b[0m\u001b[0;34m[\u001b[0m\u001b[0mname\u001b[0m\u001b[0;34m]\u001b[0m\u001b[0;34m\u001b[0m\u001b[0;34m\u001b[0m\u001b[0m\n\u001b[0;32m-> 5067\u001b[0;31m             \u001b[0;32mreturn\u001b[0m \u001b[0mobject\u001b[0m\u001b[0;34m.\u001b[0m\u001b[0m__getattribute__\u001b[0m\u001b[0;34m(\u001b[0m\u001b[0mself\u001b[0m\u001b[0;34m,\u001b[0m \u001b[0mname\u001b[0m\u001b[0;34m)\u001b[0m\u001b[0;34m\u001b[0m\u001b[0;34m\u001b[0m\u001b[0m\n\u001b[0m\u001b[1;32m   5068\u001b[0m \u001b[0;34m\u001b[0m\u001b[0m\n\u001b[1;32m   5069\u001b[0m     \u001b[0;32mdef\u001b[0m \u001b[0m__setattr__\u001b[0m\u001b[0;34m(\u001b[0m\u001b[0mself\u001b[0m\u001b[0;34m,\u001b[0m \u001b[0mname\u001b[0m\u001b[0;34m,\u001b[0m \u001b[0mvalue\u001b[0m\u001b[0;34m)\u001b[0m\u001b[0;34m:\u001b[0m\u001b[0;34m\u001b[0m\u001b[0;34m\u001b[0m\u001b[0m\n",
            "\u001b[0;31mAttributeError\u001b[0m: 'DataFrame' object has no attribute 'mm'"
          ]
        }
      ]
    },
    {
      "cell_type": "code",
      "metadata": {
        "id": "fP6onRUg7Aes",
        "colab_type": "code",
        "colab": {}
      },
      "source": [
        "print('w1: ', w1)"
      ],
      "execution_count": 0,
      "outputs": []
    },
    {
      "cell_type": "code",
      "metadata": {
        "id": "cdnB_uin8zpK",
        "colab_type": "code",
        "colab": {}
      },
      "source": [
        "print('b1: ', b1)"
      ],
      "execution_count": 0,
      "outputs": []
    },
    {
      "cell_type": "code",
      "metadata": {
        "id": "SmTxImgz84ZW",
        "colab_type": "code",
        "colab": {}
      },
      "source": [
        "X_train_tensor =torch.from_numpy(x_train)\n",
        "X_train_tensor"
      ],
      "execution_count": 0,
      "outputs": []
    },
    {
      "cell_type": "code",
      "metadata": {
        "id": "RYKKa_Ru9kS4",
        "colab_type": "code",
        "colab": {}
      },
      "source": [
        "predicted_in_tensor = X_train_tensor.mm(w1).clamp(min=0).add(b1)\n",
        "\n",
        "predicted_in_tensor"
      ],
      "execution_count": 0,
      "outputs": []
    },
    {
      "cell_type": "code",
      "metadata": {
        "id": "Uvk-p5V2EfMi",
        "colab_type": "code",
        "colab": {}
      },
      "source": [
        "#convert the tensor format to numpy array format\n",
        "predicted=predicted_in_tensor.detach().numpy()\n",
        "\n",
        "predicted\n"
      ],
      "execution_count": 0,
      "outputs": []
    },
    {
      "cell_type": "code",
      "metadata": {
        "id": "HteotYeLFVF-",
        "colab_type": "code",
        "colab": {}
      },
      "source": [
        "plt.figure(figsize=(8,8))\n",
        "plt.scatter(x_train, y_train, c= 'green', s=250, label ='Original data')\n",
        "\n",
        "plt.plot(x_train,predicted, label ='Fitted line')\n",
        "\n",
        "plt.legend()\n",
        "plt.show()"
      ],
      "execution_count": 0,
      "outputs": []
    },
    {
      "cell_type": "code",
      "metadata": {
        "id": "sFKvkklGGKBs",
        "colab_type": "code",
        "colab": {}
      },
      "source": [
        "import sklearn\n",
        "\n",
        "from sklearn.linear_model import LinearRegression"
      ],
      "execution_count": 0,
      "outputs": []
    },
    {
      "cell_type": "code",
      "metadata": {
        "id": "m1AdDN2iHSjj",
        "colab_type": "code",
        "colab": {}
      },
      "source": [
        "reg=LinearRegression().fit(x_train, y_train)"
      ],
      "execution_count": 0,
      "outputs": []
    },
    {
      "cell_type": "code",
      "metadata": {
        "id": "Sqj1sXpKHfa7",
        "colab_type": "code",
        "colab": {}
      },
      "source": [
        "print(\"w1 with sklearn is :\", reg.coef_)"
      ],
      "execution_count": 0,
      "outputs": []
    },
    {
      "cell_type": "code",
      "metadata": {
        "id": "8-6mZXtQHln6",
        "colab_type": "code",
        "colab": {}
      },
      "source": [
        "print(\"b1 with sklearn is :\", reg.intercept_)"
      ],
      "execution_count": 0,
      "outputs": []
    },
    {
      "cell_type": "code",
      "metadata": {
        "id": "bBMZ4K9THzRl",
        "colab_type": "code",
        "colab": {}
      },
      "source": [
        "#the above w1 and b1 is same as single neural network and sklearn reg model\n",
        "\n",
        "predicted_sklearn=reg.predict(x_train)\n",
        "\n",
        "predicted_sklearn"
      ],
      "execution_count": 0,
      "outputs": []
    },
    {
      "cell_type": "code",
      "metadata": {
        "id": "kMXEFH_jIUqt",
        "colab_type": "code",
        "colab": {}
      },
      "source": [
        "plt.figure(figsize=(8,8))\n",
        "plt.scatter(x_train, y_train, c= 'green', s=250, label ='Original data')\n",
        "\n",
        "plt.plot(x_train,predicted, label ='Fitted line')\n",
        "\n",
        "plt.legend()\n",
        "plt.show()"
      ],
      "execution_count": 0,
      "outputs": []
    },
    {
      "cell_type": "markdown",
      "metadata": {
        "id": "JpWmi5Zq0Q_Y",
        "colab_type": "text"
      },
      "source": [
        "# 60 days of code udacity\n",
        "##Day10: 15-July-2019"
      ]
    },
    {
      "cell_type": "markdown",
      "metadata": {
        "id": "xNlHDcjj0cQf",
        "colab_type": "text"
      },
      "source": [
        "#### Autograd in pytorch"
      ]
    },
    {
      "cell_type": "markdown",
      "metadata": {
        "id": "xlqk9XpR4PEB",
        "colab_type": "text"
      },
      "source": [
        "#### Went  through the theory part from Pluralsight and also watached  \"AMA with Robert Wagner\" recording"
      ]
    },
    {
      "cell_type": "code",
      "metadata": {
        "id": "bmIhwxUxJCor",
        "colab_type": "code",
        "colab": {}
      },
      "source": [
        "import torch"
      ],
      "execution_count": 0,
      "outputs": []
    },
    {
      "cell_type": "markdown",
      "metadata": {
        "id": "zvDkRXWM5_Og",
        "colab_type": "text"
      },
      "source": [
        "# 60 days of code udacity\n",
        "##Day11: 16July-2019"
      ]
    },
    {
      "cell_type": "markdown",
      "metadata": {
        "id": "0tgaTBRn6MYH",
        "colab_type": "text"
      },
      "source": [
        "#### Went  through the theory part from Pluralsight related application of pytorch  to linear regression model ex like automobile price prediction and classification problem like-survival rate classification in TITANIC Dataset"
      ]
    },
    {
      "cell_type": "code",
      "metadata": {
        "id": "zTF4uaVo55dQ",
        "colab_type": "code",
        "colab": {}
      },
      "source": [
        "\n"
      ],
      "execution_count": 0,
      "outputs": []
    },
    {
      "cell_type": "code",
      "metadata": {
        "id": "jyyvD2dPBGcL",
        "colab_type": "code",
        "colab": {}
      },
      "source": [
        ""
      ],
      "execution_count": 0,
      "outputs": []
    },
    {
      "cell_type": "markdown",
      "metadata": {
        "id": "In9akGm9M7gD",
        "colab_type": "text"
      },
      "source": [
        "# 60 days of code udacity\n",
        "##Day12: 17July-2019"
      ]
    },
    {
      "cell_type": "markdown",
      "metadata": {
        "id": "ys2DnuryNJcD",
        "colab_type": "text"
      },
      "source": [
        "#### “PyTorch - Variables, functionals and Autograd.”\n",
        "#### https://jhui.github.io/2018/02/09/PyTorch-Variables-functionals-and-Autograd/"
      ]
    },
    {
      "cell_type": "code",
      "metadata": {
        "id": "I0lzwEYqM6sv",
        "colab_type": "code",
        "colab": {}
      },
      "source": [
        "\"\"\"\n",
        "A Variable wraps a Tensor. It supports nearly all the API’s defined by a Tensor. \n",
        "Variable also provides a backward method to perform backpropagation. For example, \n",
        "to backpropagate a loss function to train model parameter x, we use a variable loss to store the value computed by a loss function.\n",
        "Then, we call loss.backward which computes the gradients ∂loss∂x for all trainable parameters. \n",
        "PyTorch will store the gradient results back in the corresponding variable x.\n",
        "\"\"\""
      ],
      "execution_count": 0,
      "outputs": []
    },
    {
      "cell_type": "code",
      "metadata": {
        "id": "ZltDiuj5NZrD",
        "colab_type": "code",
        "colab": {}
      },
      "source": [
        "import torch\n",
        "from torch.autograd import Variable\n",
        "\n",
        "# Variables wrap a Tensor\n",
        "x = Variable(torch.ones(2, 2), requires_grad=True)"
      ],
      "execution_count": 0,
      "outputs": []
    },
    {
      "cell_type": "code",
      "metadata": {
        "id": "n2Qqug-6Naeg",
        "colab_type": "code",
        "colab": {}
      },
      "source": [
        "x"
      ],
      "execution_count": 0,
      "outputs": []
    },
    {
      "cell_type": "code",
      "metadata": {
        "id": "LuRwHVGgNgXA",
        "colab_type": "code",
        "colab": {}
      },
      "source": [
        "\"\"\"\n",
        "Functions\n",
        "\"\"\""
      ],
      "execution_count": 0,
      "outputs": []
    },
    {
      "cell_type": "code",
      "metadata": {
        "id": "7QFz8Oa6NjyA",
        "colab_type": "code",
        "colab": {}
      },
      "source": [
        "y = x + 2\n",
        "z = torch.add(x, y)\n",
        "z"
      ],
      "execution_count": 0,
      "outputs": []
    },
    {
      "cell_type": "code",
      "metadata": {
        "id": "7NU4rTYLN0TO",
        "colab_type": "code",
        "colab": {}
      },
      "source": [
        "z = y * y * 2\n",
        "\n",
        "out = z.mean()\n",
        "\n",
        "out"
      ],
      "execution_count": 0,
      "outputs": []
    },
    {
      "cell_type": "code",
      "metadata": {
        "id": "5i2yVmYQPAMS",
        "colab_type": "code",
        "colab": {}
      },
      "source": [
        "x = Variable(torch.ones(2, 2), requires_grad=True)\n",
        "y = x + 1\n",
        "\n",
        "print(x.grad_fn)     # None\n",
        "\n",
        "print(y.grad_fn)"
      ],
      "execution_count": 0,
      "outputs": []
    },
    {
      "cell_type": "code",
      "metadata": {
        "id": "Twl3f5m0N0dm",
        "colab_type": "code",
        "colab": {}
      },
      "source": [
        ""
      ],
      "execution_count": 0,
      "outputs": []
    },
    {
      "cell_type": "markdown",
      "metadata": {
        "id": "ITsuKr3cN1eW",
        "colab_type": "text"
      },
      "source": [
        "#### Dynamic vs Static computation graph (PyTorch vs TensorFlow)\n",
        "\n",
        "\n",
        "#### The TensorFlow computation graph is static. Operation executions are delayed until the graph is completed. TensorFlow defines a graph first with placeholders. Once all operations are added, we execute the graph in a session by feeding data into the placeholders. The computation graph is static because it cannot be changed afterwards. We can repeat this process with different batch of data but the graph remains the same.\n",
        "\n",
        "#### By design, PyTorch uses a dynamic computation graph. Whenever we create a variable or operations, it is executed immediately. We can add and execute operations anytime before backward is called. backwards follows the graph backward to compute the gradients. Then the graph will be disposed. (the retain_graph flag can override this behavior but rarely suggested.) For the training data in the next training iteration, a new graph is created. We can use the same code to create the same structure, or create a graph with different operations. In NLP, we deal with variable length sentences. Instead of padding the sentence to a fixed length, we create graphs with different number of LSTM cells based on the sentence’s length.\n",
        "\n",
        "####  We call this a define-by-run framework. which the backpropagation is based on what has been running in the graph. Since we start a new graph for every iteration, the backpropagation path can be different for each iteration."
      ]
    },
    {
      "cell_type": "code",
      "metadata": {
        "id": "DgLU-zyFN0iA",
        "colab_type": "code",
        "colab": {}
      },
      "source": [
        "import torch\n",
        "from torch.autograd import Variable\n",
        "\n",
        "dtype = torch.FloatTensor\n",
        "N, D_in, H, D_out = 64, 1000, 100, 10\n",
        "\n",
        "x = Variable(torch.randn(N, D_in).type(dtype), requires_grad=False)\n",
        "y = Variable(torch.randn(N, D_out).type(dtype), requires_grad=False)\n",
        "\n",
        "w1 = Variable(torch.randn(D_in, H).type(dtype), requires_grad=True)\n",
        "w2 = Variable(torch.randn(H, D_out).type(dtype), requires_grad=True)\n",
        "\n",
        "learning_rate = 1e-6\n",
        "for t in range(500):\n",
        "    y_pred = x.mm(w1).clamp(min=0).mm(w2)\n",
        "\n",
        "    loss = (y_pred - y).pow(2).sum()\n",
        "    print(t, loss.data[0])\n",
        "\n",
        "    loss.backward()\n",
        "\n",
        "    w1.data -= learning_rate * w1.grad.data\n",
        "    w2.data -= learning_rate * w2.grad.data\n",
        "\n",
        "    w1.grad.data.zero_()\n",
        "    w2.grad.data.zero_()"
      ],
      "execution_count": 0,
      "outputs": []
    },
    {
      "cell_type": "code",
      "metadata": {
        "id": "ySVIDVg1N0pL",
        "colab_type": "code",
        "colab": {}
      },
      "source": [
        "import tensorflow as tf\n",
        "import numpy as np\n",
        "\n",
        "N, D_in, H, D_out = 64, 1000, 100, 10\n",
        "\n",
        "x = tf.placeholder(tf.float32, shape=(None, D_in))\n",
        "y = tf.placeholder(tf.float32, shape=(None, D_out))\n",
        "\n",
        "w1 = tf.Variable(tf.random_normal((D_in, H)))\n",
        "w2 = tf.Variable(tf.random_normal((H, D_out)))\n",
        "\n",
        "h = tf.matmul(x, w1)\n",
        "h_relu = tf.maximum(h, tf.zeros(1))\n",
        "y_pred = tf.matmul(h_relu, w2)\n",
        "\n",
        "loss = tf.reduce_sum((y - y_pred) ** 2.0)\n",
        "\n",
        "grad_w1, grad_w2 = tf.gradients(loss, [w1, w2])\n",
        "\n",
        "learning_rate = 1e-6\n",
        "new_w1 = w1.assign(w1 - learning_rate * grad_w1)\n",
        "new_w2 = w2.assign(w2 - learning_rate * grad_w2)\n",
        "\n",
        "with tf.Session() as sess:\n",
        "    sess.run(tf.global_variables_initializer())\n",
        "\n",
        "    x_value = np.random.randn(N, D_in)\n",
        "    y_value = np.random.randn(N, D_out)\n",
        "    for _ in range(500):\n",
        "\t\t# Run the same graph with different batch of training data\n",
        "        loss_value, _, _ = sess.run([loss, new_w1, new_w2],\n",
        "                                    feed_dict={x: x_value, y: y_value})\n",
        "        print(loss_value)"
      ],
      "execution_count": 0,
      "outputs": []
    },
    {
      "cell_type": "markdown",
      "metadata": {
        "id": "UXgKA1h5SylT",
        "colab_type": "text"
      },
      "source": [
        "#### introducing Autograd"
      ]
    },
    {
      "cell_type": "code",
      "metadata": {
        "id": "VKYAcksHRxv0",
        "colab_type": "code",
        "colab": {}
      },
      "source": [
        "import torch\n",
        "\n",
        "tensor =torch.Tensor([[3,4],[7,5]])\n",
        "\n",
        "tensor\n"
      ],
      "execution_count": 0,
      "outputs": []
    },
    {
      "cell_type": "code",
      "metadata": {
        "id": "h-zhjvI8R_PB",
        "colab_type": "code",
        "colab": {}
      },
      "source": [
        "tensor.requires_grad_()\n",
        "\n",
        "#computation for "
      ],
      "execution_count": 0,
      "outputs": []
    },
    {
      "cell_type": "code",
      "metadata": {
        "id": "LXtoOoMaSFBo",
        "colab_type": "code",
        "colab": {}
      },
      "source": [
        "tensor.requires_grad"
      ],
      "execution_count": 0,
      "outputs": []
    },
    {
      "cell_type": "code",
      "metadata": {
        "id": "Y43kz_yVSqgH",
        "colab_type": "code",
        "colab": {}
      },
      "source": [
        "print(tensor.grad)"
      ],
      "execution_count": 0,
      "outputs": []
    },
    {
      "cell_type": "code",
      "metadata": {
        "id": "bshZ6eiqSvdm",
        "colab_type": "code",
        "colab": {}
      },
      "source": [
        "out =tensor*tensor\n",
        "\n",
        "out"
      ],
      "execution_count": 0,
      "outputs": []
    },
    {
      "cell_type": "code",
      "metadata": {
        "id": "oabZjwfBTJLW",
        "colab_type": "code",
        "colab": {}
      },
      "source": [
        "out.requires_grad"
      ],
      "execution_count": 0,
      "outputs": []
    },
    {
      "cell_type": "code",
      "metadata": {
        "id": "Fl0YE39ETSXW",
        "colab_type": "code",
        "colab": {}
      },
      "source": [
        "print(out.grad)"
      ],
      "execution_count": 0,
      "outputs": []
    },
    {
      "cell_type": "code",
      "metadata": {
        "id": "SiCI5bkHTa2V",
        "colab_type": "code",
        "colab": {}
      },
      "source": [
        "print(out.grad_fn)"
      ],
      "execution_count": 0,
      "outputs": []
    },
    {
      "cell_type": "code",
      "metadata": {
        "id": "WZ1o5yKtTio1",
        "colab_type": "code",
        "colab": {}
      },
      "source": [
        "print(tensor.grad_fn)"
      ],
      "execution_count": 0,
      "outputs": []
    },
    {
      "cell_type": "code",
      "metadata": {
        "id": "oQ3qGL3NTtm1",
        "colab_type": "code",
        "colab": {}
      },
      "source": [
        "out =(tensor * tensor).mean()\n",
        "\n",
        "print(out.grad_fn)"
      ],
      "execution_count": 0,
      "outputs": []
    },
    {
      "cell_type": "code",
      "metadata": {
        "id": "kAD0qpICT8vk",
        "colab_type": "code",
        "colab": {}
      },
      "source": [
        "print(tensor.grad)"
      ],
      "execution_count": 0,
      "outputs": []
    },
    {
      "cell_type": "code",
      "metadata": {
        "id": "PwzP-1gDUDX1",
        "colab_type": "code",
        "colab": {}
      },
      "source": [
        "out.backward(retain_graph=True)\n",
        "\n",
        "#compute the gradients w.r.t the \"out\" tensor\n"
      ],
      "execution_count": 0,
      "outputs": []
    },
    {
      "cell_type": "code",
      "metadata": {
        "id": "Hy4ON7UZULjT",
        "colab_type": "code",
        "colab": {}
      },
      "source": [
        "print(tensor.grad)"
      ],
      "execution_count": 0,
      "outputs": []
    },
    {
      "cell_type": "code",
      "metadata": {
        "id": "ag4n2qpSVQ2n",
        "colab_type": "code",
        "colab": {}
      },
      "source": [
        "new_tensor= tensor * tensor\n",
        "\n",
        "print(new_tensor.requires_grad)"
      ],
      "execution_count": 0,
      "outputs": []
    },
    {
      "cell_type": "code",
      "metadata": {
        "id": "sGJcjionVh3V",
        "colab_type": "code",
        "colab": {}
      },
      "source": [
        "with torch.no_grad():\n",
        "  new_tensor =tensor * tensor\n",
        "  \n",
        "  print('new tensor =',new_tensor)\n",
        "  \n",
        "  print('rquires_grad for tensor =',tensor.requires_grad)\n",
        "  \n",
        "  print('requires_grad for new tensor =', new_tensor.requires_grad)\n"
      ],
      "execution_count": 0,
      "outputs": []
    },
    {
      "cell_type": "markdown",
      "metadata": {
        "id": "0bI4l-fuYDFG",
        "colab_type": "text"
      },
      "source": [
        "### Exploring the auotmobile price prediction dataset with a fully connected layer-pytorch\n"
      ]
    },
    {
      "cell_type": "code",
      "metadata": {
        "id": "nT3jYpxlWhuT",
        "colab_type": "code",
        "colab": {}
      },
      "source": [
        "import pandas as pd\n",
        "\n",
        "automobile_data =pd.read_csv('Automobile_data.csv',sep =r'\\s*,\\s*',engine='python')"
      ],
      "execution_count": 0,
      "outputs": []
    },
    {
      "cell_type": "code",
      "metadata": {
        "id": "3bVaBbejYtmv",
        "colab_type": "code",
        "outputId": "496f9199-b9a6-430a-a6cf-227ae52936e6",
        "colab": {
          "base_uri": "https://localhost:8080/",
          "height": 299
        }
      },
      "source": [
        "automobile_data.head()"
      ],
      "execution_count": 153,
      "outputs": [
        {
          "output_type": "execute_result",
          "data": {
            "text/html": [
              "<div>\n",
              "<style scoped>\n",
              "    .dataframe tbody tr th:only-of-type {\n",
              "        vertical-align: middle;\n",
              "    }\n",
              "\n",
              "    .dataframe tbody tr th {\n",
              "        vertical-align: top;\n",
              "    }\n",
              "\n",
              "    .dataframe thead th {\n",
              "        text-align: right;\n",
              "    }\n",
              "</style>\n",
              "<table border=\"1\" class=\"dataframe\">\n",
              "  <thead>\n",
              "    <tr style=\"text-align: right;\">\n",
              "      <th></th>\n",
              "      <th>symboling</th>\n",
              "      <th>normalized-losses</th>\n",
              "      <th>make</th>\n",
              "      <th>fuel-type</th>\n",
              "      <th>aspiration</th>\n",
              "      <th>num-of-doors</th>\n",
              "      <th>body-style</th>\n",
              "      <th>drive-wheels</th>\n",
              "      <th>engine-location</th>\n",
              "      <th>wheel-base</th>\n",
              "      <th>length</th>\n",
              "      <th>width</th>\n",
              "      <th>height</th>\n",
              "      <th>curb-weight</th>\n",
              "      <th>engine-type</th>\n",
              "      <th>num-of-cylinders</th>\n",
              "      <th>engine-size</th>\n",
              "      <th>fuel-system</th>\n",
              "      <th>bore</th>\n",
              "      <th>stroke</th>\n",
              "      <th>compression-ratio</th>\n",
              "      <th>horsepower</th>\n",
              "      <th>peak-rpm</th>\n",
              "      <th>city-mpg</th>\n",
              "      <th>highway-mpg</th>\n",
              "      <th>price</th>\n",
              "    </tr>\n",
              "  </thead>\n",
              "  <tbody>\n",
              "    <tr>\n",
              "      <th>0</th>\n",
              "      <td>3</td>\n",
              "      <td>?</td>\n",
              "      <td>alfa-romero</td>\n",
              "      <td>gas</td>\n",
              "      <td>std</td>\n",
              "      <td>two</td>\n",
              "      <td>convertible</td>\n",
              "      <td>rwd</td>\n",
              "      <td>front</td>\n",
              "      <td>88.6</td>\n",
              "      <td>168.8</td>\n",
              "      <td>64.1</td>\n",
              "      <td>48.8</td>\n",
              "      <td>2548</td>\n",
              "      <td>dohc</td>\n",
              "      <td>four</td>\n",
              "      <td>130</td>\n",
              "      <td>mpfi</td>\n",
              "      <td>3.47</td>\n",
              "      <td>2.68</td>\n",
              "      <td>9.0</td>\n",
              "      <td>111</td>\n",
              "      <td>5000</td>\n",
              "      <td>21</td>\n",
              "      <td>27</td>\n",
              "      <td>13495</td>\n",
              "    </tr>\n",
              "    <tr>\n",
              "      <th>1</th>\n",
              "      <td>3</td>\n",
              "      <td>?</td>\n",
              "      <td>alfa-romero</td>\n",
              "      <td>gas</td>\n",
              "      <td>std</td>\n",
              "      <td>two</td>\n",
              "      <td>convertible</td>\n",
              "      <td>rwd</td>\n",
              "      <td>front</td>\n",
              "      <td>88.6</td>\n",
              "      <td>168.8</td>\n",
              "      <td>64.1</td>\n",
              "      <td>48.8</td>\n",
              "      <td>2548</td>\n",
              "      <td>dohc</td>\n",
              "      <td>four</td>\n",
              "      <td>130</td>\n",
              "      <td>mpfi</td>\n",
              "      <td>3.47</td>\n",
              "      <td>2.68</td>\n",
              "      <td>9.0</td>\n",
              "      <td>111</td>\n",
              "      <td>5000</td>\n",
              "      <td>21</td>\n",
              "      <td>27</td>\n",
              "      <td>16500</td>\n",
              "    </tr>\n",
              "    <tr>\n",
              "      <th>2</th>\n",
              "      <td>1</td>\n",
              "      <td>?</td>\n",
              "      <td>alfa-romero</td>\n",
              "      <td>gas</td>\n",
              "      <td>std</td>\n",
              "      <td>two</td>\n",
              "      <td>hatchback</td>\n",
              "      <td>rwd</td>\n",
              "      <td>front</td>\n",
              "      <td>94.5</td>\n",
              "      <td>171.2</td>\n",
              "      <td>65.5</td>\n",
              "      <td>52.4</td>\n",
              "      <td>2823</td>\n",
              "      <td>ohcv</td>\n",
              "      <td>six</td>\n",
              "      <td>152</td>\n",
              "      <td>mpfi</td>\n",
              "      <td>2.68</td>\n",
              "      <td>3.47</td>\n",
              "      <td>9.0</td>\n",
              "      <td>154</td>\n",
              "      <td>5000</td>\n",
              "      <td>19</td>\n",
              "      <td>26</td>\n",
              "      <td>16500</td>\n",
              "    </tr>\n",
              "    <tr>\n",
              "      <th>3</th>\n",
              "      <td>2</td>\n",
              "      <td>164</td>\n",
              "      <td>audi</td>\n",
              "      <td>gas</td>\n",
              "      <td>std</td>\n",
              "      <td>four</td>\n",
              "      <td>sedan</td>\n",
              "      <td>fwd</td>\n",
              "      <td>front</td>\n",
              "      <td>99.8</td>\n",
              "      <td>176.6</td>\n",
              "      <td>66.2</td>\n",
              "      <td>54.3</td>\n",
              "      <td>2337</td>\n",
              "      <td>ohc</td>\n",
              "      <td>four</td>\n",
              "      <td>109</td>\n",
              "      <td>mpfi</td>\n",
              "      <td>3.19</td>\n",
              "      <td>3.4</td>\n",
              "      <td>10.0</td>\n",
              "      <td>102</td>\n",
              "      <td>5500</td>\n",
              "      <td>24</td>\n",
              "      <td>30</td>\n",
              "      <td>13950</td>\n",
              "    </tr>\n",
              "    <tr>\n",
              "      <th>4</th>\n",
              "      <td>2</td>\n",
              "      <td>164</td>\n",
              "      <td>audi</td>\n",
              "      <td>gas</td>\n",
              "      <td>std</td>\n",
              "      <td>four</td>\n",
              "      <td>sedan</td>\n",
              "      <td>4wd</td>\n",
              "      <td>front</td>\n",
              "      <td>99.4</td>\n",
              "      <td>176.6</td>\n",
              "      <td>66.4</td>\n",
              "      <td>54.3</td>\n",
              "      <td>2824</td>\n",
              "      <td>ohc</td>\n",
              "      <td>five</td>\n",
              "      <td>136</td>\n",
              "      <td>mpfi</td>\n",
              "      <td>3.19</td>\n",
              "      <td>3.4</td>\n",
              "      <td>8.0</td>\n",
              "      <td>115</td>\n",
              "      <td>5500</td>\n",
              "      <td>18</td>\n",
              "      <td>22</td>\n",
              "      <td>17450</td>\n",
              "    </tr>\n",
              "  </tbody>\n",
              "</table>\n",
              "</div>"
            ],
            "text/plain": [
              "   symboling normalized-losses         make  ... city-mpg highway-mpg  price\n",
              "0          3                 ?  alfa-romero  ...       21          27  13495\n",
              "1          3                 ?  alfa-romero  ...       21          27  16500\n",
              "2          1                 ?  alfa-romero  ...       19          26  16500\n",
              "3          2               164         audi  ...       24          30  13950\n",
              "4          2               164         audi  ...       18          22  17450\n",
              "\n",
              "[5 rows x 26 columns]"
            ]
          },
          "metadata": {
            "tags": []
          },
          "execution_count": 153
        }
      ]
    },
    {
      "cell_type": "code",
      "metadata": {
        "id": "bX0Bl-0GZNZy",
        "colab_type": "code",
        "outputId": "4b35b23c-e0d1-4c7c-8d35-04c31d1b30dc",
        "colab": {
          "base_uri": "https://localhost:8080/",
          "height": 284
        }
      },
      "source": [
        "automobile_data.describe()"
      ],
      "execution_count": 154,
      "outputs": [
        {
          "output_type": "execute_result",
          "data": {
            "text/html": [
              "<div>\n",
              "<style scoped>\n",
              "    .dataframe tbody tr th:only-of-type {\n",
              "        vertical-align: middle;\n",
              "    }\n",
              "\n",
              "    .dataframe tbody tr th {\n",
              "        vertical-align: top;\n",
              "    }\n",
              "\n",
              "    .dataframe thead th {\n",
              "        text-align: right;\n",
              "    }\n",
              "</style>\n",
              "<table border=\"1\" class=\"dataframe\">\n",
              "  <thead>\n",
              "    <tr style=\"text-align: right;\">\n",
              "      <th></th>\n",
              "      <th>symboling</th>\n",
              "      <th>wheel-base</th>\n",
              "      <th>length</th>\n",
              "      <th>width</th>\n",
              "      <th>height</th>\n",
              "      <th>curb-weight</th>\n",
              "      <th>engine-size</th>\n",
              "      <th>compression-ratio</th>\n",
              "      <th>city-mpg</th>\n",
              "      <th>highway-mpg</th>\n",
              "    </tr>\n",
              "  </thead>\n",
              "  <tbody>\n",
              "    <tr>\n",
              "      <th>count</th>\n",
              "      <td>205.000000</td>\n",
              "      <td>205.000000</td>\n",
              "      <td>205.000000</td>\n",
              "      <td>205.000000</td>\n",
              "      <td>205.000000</td>\n",
              "      <td>205.000000</td>\n",
              "      <td>205.000000</td>\n",
              "      <td>205.000000</td>\n",
              "      <td>205.000000</td>\n",
              "      <td>205.000000</td>\n",
              "    </tr>\n",
              "    <tr>\n",
              "      <th>mean</th>\n",
              "      <td>0.834146</td>\n",
              "      <td>98.756585</td>\n",
              "      <td>174.049268</td>\n",
              "      <td>65.907805</td>\n",
              "      <td>53.724878</td>\n",
              "      <td>2555.565854</td>\n",
              "      <td>126.907317</td>\n",
              "      <td>10.142537</td>\n",
              "      <td>25.219512</td>\n",
              "      <td>30.751220</td>\n",
              "    </tr>\n",
              "    <tr>\n",
              "      <th>std</th>\n",
              "      <td>1.245307</td>\n",
              "      <td>6.021776</td>\n",
              "      <td>12.337289</td>\n",
              "      <td>2.145204</td>\n",
              "      <td>2.443522</td>\n",
              "      <td>520.680204</td>\n",
              "      <td>41.642693</td>\n",
              "      <td>3.972040</td>\n",
              "      <td>6.542142</td>\n",
              "      <td>6.886443</td>\n",
              "    </tr>\n",
              "    <tr>\n",
              "      <th>min</th>\n",
              "      <td>-2.000000</td>\n",
              "      <td>86.600000</td>\n",
              "      <td>141.100000</td>\n",
              "      <td>60.300000</td>\n",
              "      <td>47.800000</td>\n",
              "      <td>1488.000000</td>\n",
              "      <td>61.000000</td>\n",
              "      <td>7.000000</td>\n",
              "      <td>13.000000</td>\n",
              "      <td>16.000000</td>\n",
              "    </tr>\n",
              "    <tr>\n",
              "      <th>25%</th>\n",
              "      <td>0.000000</td>\n",
              "      <td>94.500000</td>\n",
              "      <td>166.300000</td>\n",
              "      <td>64.100000</td>\n",
              "      <td>52.000000</td>\n",
              "      <td>2145.000000</td>\n",
              "      <td>97.000000</td>\n",
              "      <td>8.600000</td>\n",
              "      <td>19.000000</td>\n",
              "      <td>25.000000</td>\n",
              "    </tr>\n",
              "    <tr>\n",
              "      <th>50%</th>\n",
              "      <td>1.000000</td>\n",
              "      <td>97.000000</td>\n",
              "      <td>173.200000</td>\n",
              "      <td>65.500000</td>\n",
              "      <td>54.100000</td>\n",
              "      <td>2414.000000</td>\n",
              "      <td>120.000000</td>\n",
              "      <td>9.000000</td>\n",
              "      <td>24.000000</td>\n",
              "      <td>30.000000</td>\n",
              "    </tr>\n",
              "    <tr>\n",
              "      <th>75%</th>\n",
              "      <td>2.000000</td>\n",
              "      <td>102.400000</td>\n",
              "      <td>183.100000</td>\n",
              "      <td>66.900000</td>\n",
              "      <td>55.500000</td>\n",
              "      <td>2935.000000</td>\n",
              "      <td>141.000000</td>\n",
              "      <td>9.400000</td>\n",
              "      <td>30.000000</td>\n",
              "      <td>34.000000</td>\n",
              "    </tr>\n",
              "    <tr>\n",
              "      <th>max</th>\n",
              "      <td>3.000000</td>\n",
              "      <td>120.900000</td>\n",
              "      <td>208.100000</td>\n",
              "      <td>72.300000</td>\n",
              "      <td>59.800000</td>\n",
              "      <td>4066.000000</td>\n",
              "      <td>326.000000</td>\n",
              "      <td>23.000000</td>\n",
              "      <td>49.000000</td>\n",
              "      <td>54.000000</td>\n",
              "    </tr>\n",
              "  </tbody>\n",
              "</table>\n",
              "</div>"
            ],
            "text/plain": [
              "        symboling  wheel-base  ...    city-mpg  highway-mpg\n",
              "count  205.000000  205.000000  ...  205.000000   205.000000\n",
              "mean     0.834146   98.756585  ...   25.219512    30.751220\n",
              "std      1.245307    6.021776  ...    6.542142     6.886443\n",
              "min     -2.000000   86.600000  ...   13.000000    16.000000\n",
              "25%      0.000000   94.500000  ...   19.000000    25.000000\n",
              "50%      1.000000   97.000000  ...   24.000000    30.000000\n",
              "75%      2.000000  102.400000  ...   30.000000    34.000000\n",
              "max      3.000000  120.900000  ...   49.000000    54.000000\n",
              "\n",
              "[8 rows x 10 columns]"
            ]
          },
          "metadata": {
            "tags": []
          },
          "execution_count": 154
        }
      ]
    },
    {
      "cell_type": "code",
      "metadata": {
        "id": "BTPjc42HZQA6",
        "colab_type": "code",
        "colab": {}
      },
      "source": [
        ""
      ],
      "execution_count": 0,
      "outputs": []
    },
    {
      "cell_type": "markdown",
      "metadata": {
        "id": "LTuePuANQplS",
        "colab_type": "text"
      },
      "source": [
        "# 60 days of code udacity\n",
        "##Day13: 18 July-2019"
      ]
    },
    {
      "cell_type": "markdown",
      "metadata": {
        "id": "fBgo2fFuQtmH",
        "colab_type": "text"
      },
      "source": [
        "#### Continuing on auotmobile price prediction dataset with pytorch with a fully connected layer"
      ]
    },
    {
      "cell_type": "code",
      "metadata": {
        "id": "adbpbi8QQsMi",
        "colab_type": "code",
        "colab": {
          "base_uri": "https://localhost:8080/",
          "height": 299
        },
        "outputId": "f4b62477-220c-48e0-e874-bd1e0cc85eb4"
      },
      "source": [
        "automobile_data.head()"
      ],
      "execution_count": 155,
      "outputs": [
        {
          "output_type": "execute_result",
          "data": {
            "text/html": [
              "<div>\n",
              "<style scoped>\n",
              "    .dataframe tbody tr th:only-of-type {\n",
              "        vertical-align: middle;\n",
              "    }\n",
              "\n",
              "    .dataframe tbody tr th {\n",
              "        vertical-align: top;\n",
              "    }\n",
              "\n",
              "    .dataframe thead th {\n",
              "        text-align: right;\n",
              "    }\n",
              "</style>\n",
              "<table border=\"1\" class=\"dataframe\">\n",
              "  <thead>\n",
              "    <tr style=\"text-align: right;\">\n",
              "      <th></th>\n",
              "      <th>symboling</th>\n",
              "      <th>normalized-losses</th>\n",
              "      <th>make</th>\n",
              "      <th>fuel-type</th>\n",
              "      <th>aspiration</th>\n",
              "      <th>num-of-doors</th>\n",
              "      <th>body-style</th>\n",
              "      <th>drive-wheels</th>\n",
              "      <th>engine-location</th>\n",
              "      <th>wheel-base</th>\n",
              "      <th>length</th>\n",
              "      <th>width</th>\n",
              "      <th>height</th>\n",
              "      <th>curb-weight</th>\n",
              "      <th>engine-type</th>\n",
              "      <th>num-of-cylinders</th>\n",
              "      <th>engine-size</th>\n",
              "      <th>fuel-system</th>\n",
              "      <th>bore</th>\n",
              "      <th>stroke</th>\n",
              "      <th>compression-ratio</th>\n",
              "      <th>horsepower</th>\n",
              "      <th>peak-rpm</th>\n",
              "      <th>city-mpg</th>\n",
              "      <th>highway-mpg</th>\n",
              "      <th>price</th>\n",
              "    </tr>\n",
              "  </thead>\n",
              "  <tbody>\n",
              "    <tr>\n",
              "      <th>0</th>\n",
              "      <td>3</td>\n",
              "      <td>?</td>\n",
              "      <td>alfa-romero</td>\n",
              "      <td>gas</td>\n",
              "      <td>std</td>\n",
              "      <td>two</td>\n",
              "      <td>convertible</td>\n",
              "      <td>rwd</td>\n",
              "      <td>front</td>\n",
              "      <td>88.6</td>\n",
              "      <td>168.8</td>\n",
              "      <td>64.1</td>\n",
              "      <td>48.8</td>\n",
              "      <td>2548</td>\n",
              "      <td>dohc</td>\n",
              "      <td>four</td>\n",
              "      <td>130</td>\n",
              "      <td>mpfi</td>\n",
              "      <td>3.47</td>\n",
              "      <td>2.68</td>\n",
              "      <td>9.0</td>\n",
              "      <td>111</td>\n",
              "      <td>5000</td>\n",
              "      <td>21</td>\n",
              "      <td>27</td>\n",
              "      <td>13495</td>\n",
              "    </tr>\n",
              "    <tr>\n",
              "      <th>1</th>\n",
              "      <td>3</td>\n",
              "      <td>?</td>\n",
              "      <td>alfa-romero</td>\n",
              "      <td>gas</td>\n",
              "      <td>std</td>\n",
              "      <td>two</td>\n",
              "      <td>convertible</td>\n",
              "      <td>rwd</td>\n",
              "      <td>front</td>\n",
              "      <td>88.6</td>\n",
              "      <td>168.8</td>\n",
              "      <td>64.1</td>\n",
              "      <td>48.8</td>\n",
              "      <td>2548</td>\n",
              "      <td>dohc</td>\n",
              "      <td>four</td>\n",
              "      <td>130</td>\n",
              "      <td>mpfi</td>\n",
              "      <td>3.47</td>\n",
              "      <td>2.68</td>\n",
              "      <td>9.0</td>\n",
              "      <td>111</td>\n",
              "      <td>5000</td>\n",
              "      <td>21</td>\n",
              "      <td>27</td>\n",
              "      <td>16500</td>\n",
              "    </tr>\n",
              "    <tr>\n",
              "      <th>2</th>\n",
              "      <td>1</td>\n",
              "      <td>?</td>\n",
              "      <td>alfa-romero</td>\n",
              "      <td>gas</td>\n",
              "      <td>std</td>\n",
              "      <td>two</td>\n",
              "      <td>hatchback</td>\n",
              "      <td>rwd</td>\n",
              "      <td>front</td>\n",
              "      <td>94.5</td>\n",
              "      <td>171.2</td>\n",
              "      <td>65.5</td>\n",
              "      <td>52.4</td>\n",
              "      <td>2823</td>\n",
              "      <td>ohcv</td>\n",
              "      <td>six</td>\n",
              "      <td>152</td>\n",
              "      <td>mpfi</td>\n",
              "      <td>2.68</td>\n",
              "      <td>3.47</td>\n",
              "      <td>9.0</td>\n",
              "      <td>154</td>\n",
              "      <td>5000</td>\n",
              "      <td>19</td>\n",
              "      <td>26</td>\n",
              "      <td>16500</td>\n",
              "    </tr>\n",
              "    <tr>\n",
              "      <th>3</th>\n",
              "      <td>2</td>\n",
              "      <td>164</td>\n",
              "      <td>audi</td>\n",
              "      <td>gas</td>\n",
              "      <td>std</td>\n",
              "      <td>four</td>\n",
              "      <td>sedan</td>\n",
              "      <td>fwd</td>\n",
              "      <td>front</td>\n",
              "      <td>99.8</td>\n",
              "      <td>176.6</td>\n",
              "      <td>66.2</td>\n",
              "      <td>54.3</td>\n",
              "      <td>2337</td>\n",
              "      <td>ohc</td>\n",
              "      <td>four</td>\n",
              "      <td>109</td>\n",
              "      <td>mpfi</td>\n",
              "      <td>3.19</td>\n",
              "      <td>3.4</td>\n",
              "      <td>10.0</td>\n",
              "      <td>102</td>\n",
              "      <td>5500</td>\n",
              "      <td>24</td>\n",
              "      <td>30</td>\n",
              "      <td>13950</td>\n",
              "    </tr>\n",
              "    <tr>\n",
              "      <th>4</th>\n",
              "      <td>2</td>\n",
              "      <td>164</td>\n",
              "      <td>audi</td>\n",
              "      <td>gas</td>\n",
              "      <td>std</td>\n",
              "      <td>four</td>\n",
              "      <td>sedan</td>\n",
              "      <td>4wd</td>\n",
              "      <td>front</td>\n",
              "      <td>99.4</td>\n",
              "      <td>176.6</td>\n",
              "      <td>66.4</td>\n",
              "      <td>54.3</td>\n",
              "      <td>2824</td>\n",
              "      <td>ohc</td>\n",
              "      <td>five</td>\n",
              "      <td>136</td>\n",
              "      <td>mpfi</td>\n",
              "      <td>3.19</td>\n",
              "      <td>3.4</td>\n",
              "      <td>8.0</td>\n",
              "      <td>115</td>\n",
              "      <td>5500</td>\n",
              "      <td>18</td>\n",
              "      <td>22</td>\n",
              "      <td>17450</td>\n",
              "    </tr>\n",
              "  </tbody>\n",
              "</table>\n",
              "</div>"
            ],
            "text/plain": [
              "   symboling normalized-losses         make  ... city-mpg highway-mpg  price\n",
              "0          3                 ?  alfa-romero  ...       21          27  13495\n",
              "1          3                 ?  alfa-romero  ...       21          27  16500\n",
              "2          1                 ?  alfa-romero  ...       19          26  16500\n",
              "3          2               164         audi  ...       24          30  13950\n",
              "4          2               164         audi  ...       18          22  17450\n",
              "\n",
              "[5 rows x 26 columns]"
            ]
          },
          "metadata": {
            "tags": []
          },
          "execution_count": 155
        }
      ]
    },
    {
      "cell_type": "markdown",
      "metadata": {
        "id": "di46xjXCUHIy",
        "colab_type": "text"
      },
      "source": [
        "#### try to remove question marks in the columns and repalce with NAN"
      ]
    },
    {
      "cell_type": "code",
      "metadata": {
        "id": "zAoHehDGROq7",
        "colab_type": "code",
        "colab": {
          "base_uri": "https://localhost:8080/",
          "height": 566
        },
        "outputId": "520a771c-d68b-40e7-f135-64a6b78110c9"
      },
      "source": [
        "import numpy as np\n",
        "automobile_data =automobile_data.replace('?',np.nan)\n",
        "automobile_data.head()\n",
        "automobile_data.describe()"
      ],
      "execution_count": 156,
      "outputs": [
        {
          "output_type": "execute_result",
          "data": {
            "text/html": [
              "<div>\n",
              "<style scoped>\n",
              "    .dataframe tbody tr th:only-of-type {\n",
              "        vertical-align: middle;\n",
              "    }\n",
              "\n",
              "    .dataframe tbody tr th {\n",
              "        vertical-align: top;\n",
              "    }\n",
              "\n",
              "    .dataframe thead th {\n",
              "        text-align: right;\n",
              "    }\n",
              "</style>\n",
              "<table border=\"1\" class=\"dataframe\">\n",
              "  <thead>\n",
              "    <tr style=\"text-align: right;\">\n",
              "      <th></th>\n",
              "      <th>symboling</th>\n",
              "      <th>normalized-losses</th>\n",
              "      <th>make</th>\n",
              "      <th>fuel-type</th>\n",
              "      <th>aspiration</th>\n",
              "      <th>num-of-doors</th>\n",
              "      <th>body-style</th>\n",
              "      <th>drive-wheels</th>\n",
              "      <th>engine-location</th>\n",
              "      <th>wheel-base</th>\n",
              "      <th>length</th>\n",
              "      <th>width</th>\n",
              "      <th>height</th>\n",
              "      <th>curb-weight</th>\n",
              "      <th>engine-type</th>\n",
              "      <th>num-of-cylinders</th>\n",
              "      <th>engine-size</th>\n",
              "      <th>fuel-system</th>\n",
              "      <th>bore</th>\n",
              "      <th>stroke</th>\n",
              "      <th>compression-ratio</th>\n",
              "      <th>horsepower</th>\n",
              "      <th>peak-rpm</th>\n",
              "      <th>city-mpg</th>\n",
              "      <th>highway-mpg</th>\n",
              "      <th>price</th>\n",
              "    </tr>\n",
              "  </thead>\n",
              "  <tbody>\n",
              "    <tr>\n",
              "      <th>0</th>\n",
              "      <td>3</td>\n",
              "      <td>NaN</td>\n",
              "      <td>alfa-romero</td>\n",
              "      <td>gas</td>\n",
              "      <td>std</td>\n",
              "      <td>two</td>\n",
              "      <td>convertible</td>\n",
              "      <td>rwd</td>\n",
              "      <td>front</td>\n",
              "      <td>88.6</td>\n",
              "      <td>168.8</td>\n",
              "      <td>64.1</td>\n",
              "      <td>48.8</td>\n",
              "      <td>2548</td>\n",
              "      <td>dohc</td>\n",
              "      <td>four</td>\n",
              "      <td>130</td>\n",
              "      <td>mpfi</td>\n",
              "      <td>3.47</td>\n",
              "      <td>2.68</td>\n",
              "      <td>9.0</td>\n",
              "      <td>111</td>\n",
              "      <td>5000</td>\n",
              "      <td>21</td>\n",
              "      <td>27</td>\n",
              "      <td>13495</td>\n",
              "    </tr>\n",
              "    <tr>\n",
              "      <th>1</th>\n",
              "      <td>3</td>\n",
              "      <td>NaN</td>\n",
              "      <td>alfa-romero</td>\n",
              "      <td>gas</td>\n",
              "      <td>std</td>\n",
              "      <td>two</td>\n",
              "      <td>convertible</td>\n",
              "      <td>rwd</td>\n",
              "      <td>front</td>\n",
              "      <td>88.6</td>\n",
              "      <td>168.8</td>\n",
              "      <td>64.1</td>\n",
              "      <td>48.8</td>\n",
              "      <td>2548</td>\n",
              "      <td>dohc</td>\n",
              "      <td>four</td>\n",
              "      <td>130</td>\n",
              "      <td>mpfi</td>\n",
              "      <td>3.47</td>\n",
              "      <td>2.68</td>\n",
              "      <td>9.0</td>\n",
              "      <td>111</td>\n",
              "      <td>5000</td>\n",
              "      <td>21</td>\n",
              "      <td>27</td>\n",
              "      <td>16500</td>\n",
              "    </tr>\n",
              "    <tr>\n",
              "      <th>2</th>\n",
              "      <td>1</td>\n",
              "      <td>NaN</td>\n",
              "      <td>alfa-romero</td>\n",
              "      <td>gas</td>\n",
              "      <td>std</td>\n",
              "      <td>two</td>\n",
              "      <td>hatchback</td>\n",
              "      <td>rwd</td>\n",
              "      <td>front</td>\n",
              "      <td>94.5</td>\n",
              "      <td>171.2</td>\n",
              "      <td>65.5</td>\n",
              "      <td>52.4</td>\n",
              "      <td>2823</td>\n",
              "      <td>ohcv</td>\n",
              "      <td>six</td>\n",
              "      <td>152</td>\n",
              "      <td>mpfi</td>\n",
              "      <td>2.68</td>\n",
              "      <td>3.47</td>\n",
              "      <td>9.0</td>\n",
              "      <td>154</td>\n",
              "      <td>5000</td>\n",
              "      <td>19</td>\n",
              "      <td>26</td>\n",
              "      <td>16500</td>\n",
              "    </tr>\n",
              "    <tr>\n",
              "      <th>3</th>\n",
              "      <td>2</td>\n",
              "      <td>164</td>\n",
              "      <td>audi</td>\n",
              "      <td>gas</td>\n",
              "      <td>std</td>\n",
              "      <td>four</td>\n",
              "      <td>sedan</td>\n",
              "      <td>fwd</td>\n",
              "      <td>front</td>\n",
              "      <td>99.8</td>\n",
              "      <td>176.6</td>\n",
              "      <td>66.2</td>\n",
              "      <td>54.3</td>\n",
              "      <td>2337</td>\n",
              "      <td>ohc</td>\n",
              "      <td>four</td>\n",
              "      <td>109</td>\n",
              "      <td>mpfi</td>\n",
              "      <td>3.19</td>\n",
              "      <td>3.4</td>\n",
              "      <td>10.0</td>\n",
              "      <td>102</td>\n",
              "      <td>5500</td>\n",
              "      <td>24</td>\n",
              "      <td>30</td>\n",
              "      <td>13950</td>\n",
              "    </tr>\n",
              "    <tr>\n",
              "      <th>4</th>\n",
              "      <td>2</td>\n",
              "      <td>164</td>\n",
              "      <td>audi</td>\n",
              "      <td>gas</td>\n",
              "      <td>std</td>\n",
              "      <td>four</td>\n",
              "      <td>sedan</td>\n",
              "      <td>4wd</td>\n",
              "      <td>front</td>\n",
              "      <td>99.4</td>\n",
              "      <td>176.6</td>\n",
              "      <td>66.4</td>\n",
              "      <td>54.3</td>\n",
              "      <td>2824</td>\n",
              "      <td>ohc</td>\n",
              "      <td>five</td>\n",
              "      <td>136</td>\n",
              "      <td>mpfi</td>\n",
              "      <td>3.19</td>\n",
              "      <td>3.4</td>\n",
              "      <td>8.0</td>\n",
              "      <td>115</td>\n",
              "      <td>5500</td>\n",
              "      <td>18</td>\n",
              "      <td>22</td>\n",
              "      <td>17450</td>\n",
              "    </tr>\n",
              "  </tbody>\n",
              "</table>\n",
              "</div>"
            ],
            "text/plain": [
              "   symboling normalized-losses         make  ... city-mpg highway-mpg  price\n",
              "0          3               NaN  alfa-romero  ...       21          27  13495\n",
              "1          3               NaN  alfa-romero  ...       21          27  16500\n",
              "2          1               NaN  alfa-romero  ...       19          26  16500\n",
              "3          2               164         audi  ...       24          30  13950\n",
              "4          2               164         audi  ...       18          22  17450\n",
              "\n",
              "[5 rows x 26 columns]"
            ]
          },
          "metadata": {
            "tags": []
          },
          "execution_count": 156
        },
        {
          "output_type": "execute_result",
          "data": {
            "text/html": [
              "<div>\n",
              "<style scoped>\n",
              "    .dataframe tbody tr th:only-of-type {\n",
              "        vertical-align: middle;\n",
              "    }\n",
              "\n",
              "    .dataframe tbody tr th {\n",
              "        vertical-align: top;\n",
              "    }\n",
              "\n",
              "    .dataframe thead th {\n",
              "        text-align: right;\n",
              "    }\n",
              "</style>\n",
              "<table border=\"1\" class=\"dataframe\">\n",
              "  <thead>\n",
              "    <tr style=\"text-align: right;\">\n",
              "      <th></th>\n",
              "      <th>symboling</th>\n",
              "      <th>wheel-base</th>\n",
              "      <th>length</th>\n",
              "      <th>width</th>\n",
              "      <th>height</th>\n",
              "      <th>curb-weight</th>\n",
              "      <th>engine-size</th>\n",
              "      <th>compression-ratio</th>\n",
              "      <th>city-mpg</th>\n",
              "      <th>highway-mpg</th>\n",
              "    </tr>\n",
              "  </thead>\n",
              "  <tbody>\n",
              "    <tr>\n",
              "      <th>count</th>\n",
              "      <td>205.000000</td>\n",
              "      <td>205.000000</td>\n",
              "      <td>205.000000</td>\n",
              "      <td>205.000000</td>\n",
              "      <td>205.000000</td>\n",
              "      <td>205.000000</td>\n",
              "      <td>205.000000</td>\n",
              "      <td>205.000000</td>\n",
              "      <td>205.000000</td>\n",
              "      <td>205.000000</td>\n",
              "    </tr>\n",
              "    <tr>\n",
              "      <th>mean</th>\n",
              "      <td>0.834146</td>\n",
              "      <td>98.756585</td>\n",
              "      <td>174.049268</td>\n",
              "      <td>65.907805</td>\n",
              "      <td>53.724878</td>\n",
              "      <td>2555.565854</td>\n",
              "      <td>126.907317</td>\n",
              "      <td>10.142537</td>\n",
              "      <td>25.219512</td>\n",
              "      <td>30.751220</td>\n",
              "    </tr>\n",
              "    <tr>\n",
              "      <th>std</th>\n",
              "      <td>1.245307</td>\n",
              "      <td>6.021776</td>\n",
              "      <td>12.337289</td>\n",
              "      <td>2.145204</td>\n",
              "      <td>2.443522</td>\n",
              "      <td>520.680204</td>\n",
              "      <td>41.642693</td>\n",
              "      <td>3.972040</td>\n",
              "      <td>6.542142</td>\n",
              "      <td>6.886443</td>\n",
              "    </tr>\n",
              "    <tr>\n",
              "      <th>min</th>\n",
              "      <td>-2.000000</td>\n",
              "      <td>86.600000</td>\n",
              "      <td>141.100000</td>\n",
              "      <td>60.300000</td>\n",
              "      <td>47.800000</td>\n",
              "      <td>1488.000000</td>\n",
              "      <td>61.000000</td>\n",
              "      <td>7.000000</td>\n",
              "      <td>13.000000</td>\n",
              "      <td>16.000000</td>\n",
              "    </tr>\n",
              "    <tr>\n",
              "      <th>25%</th>\n",
              "      <td>0.000000</td>\n",
              "      <td>94.500000</td>\n",
              "      <td>166.300000</td>\n",
              "      <td>64.100000</td>\n",
              "      <td>52.000000</td>\n",
              "      <td>2145.000000</td>\n",
              "      <td>97.000000</td>\n",
              "      <td>8.600000</td>\n",
              "      <td>19.000000</td>\n",
              "      <td>25.000000</td>\n",
              "    </tr>\n",
              "    <tr>\n",
              "      <th>50%</th>\n",
              "      <td>1.000000</td>\n",
              "      <td>97.000000</td>\n",
              "      <td>173.200000</td>\n",
              "      <td>65.500000</td>\n",
              "      <td>54.100000</td>\n",
              "      <td>2414.000000</td>\n",
              "      <td>120.000000</td>\n",
              "      <td>9.000000</td>\n",
              "      <td>24.000000</td>\n",
              "      <td>30.000000</td>\n",
              "    </tr>\n",
              "    <tr>\n",
              "      <th>75%</th>\n",
              "      <td>2.000000</td>\n",
              "      <td>102.400000</td>\n",
              "      <td>183.100000</td>\n",
              "      <td>66.900000</td>\n",
              "      <td>55.500000</td>\n",
              "      <td>2935.000000</td>\n",
              "      <td>141.000000</td>\n",
              "      <td>9.400000</td>\n",
              "      <td>30.000000</td>\n",
              "      <td>34.000000</td>\n",
              "    </tr>\n",
              "    <tr>\n",
              "      <th>max</th>\n",
              "      <td>3.000000</td>\n",
              "      <td>120.900000</td>\n",
              "      <td>208.100000</td>\n",
              "      <td>72.300000</td>\n",
              "      <td>59.800000</td>\n",
              "      <td>4066.000000</td>\n",
              "      <td>326.000000</td>\n",
              "      <td>23.000000</td>\n",
              "      <td>49.000000</td>\n",
              "      <td>54.000000</td>\n",
              "    </tr>\n",
              "  </tbody>\n",
              "</table>\n",
              "</div>"
            ],
            "text/plain": [
              "        symboling  wheel-base  ...    city-mpg  highway-mpg\n",
              "count  205.000000  205.000000  ...  205.000000   205.000000\n",
              "mean     0.834146   98.756585  ...   25.219512    30.751220\n",
              "std      1.245307    6.021776  ...    6.542142     6.886443\n",
              "min     -2.000000   86.600000  ...   13.000000    16.000000\n",
              "25%      0.000000   94.500000  ...   19.000000    25.000000\n",
              "50%      1.000000   97.000000  ...   24.000000    30.000000\n",
              "75%      2.000000  102.400000  ...   30.000000    34.000000\n",
              "max      3.000000  120.900000  ...   49.000000    54.000000\n",
              "\n",
              "[8 rows x 10 columns]"
            ]
          },
          "metadata": {
            "tags": []
          },
          "execution_count": 156
        }
      ]
    },
    {
      "cell_type": "code",
      "metadata": {
        "id": "marILJxKUdxB",
        "colab_type": "code",
        "colab": {}
      },
      "source": [
        "automobile_data =automobile_data.dropna()"
      ],
      "execution_count": 0,
      "outputs": []
    },
    {
      "cell_type": "code",
      "metadata": {
        "id": "JDN2hL2kUl7O",
        "colab_type": "code",
        "colab": {
          "base_uri": "https://localhost:8080/",
          "height": 516
        },
        "outputId": "01eb4cfd-5752-4d30-d8ed-94bc1e1a267d"
      },
      "source": [
        "automobile_data.head()\n",
        "automobile_data.describe()"
      ],
      "execution_count": 158,
      "outputs": [
        {
          "output_type": "execute_result",
          "data": {
            "text/html": [
              "<div>\n",
              "<style scoped>\n",
              "    .dataframe tbody tr th:only-of-type {\n",
              "        vertical-align: middle;\n",
              "    }\n",
              "\n",
              "    .dataframe tbody tr th {\n",
              "        vertical-align: top;\n",
              "    }\n",
              "\n",
              "    .dataframe thead th {\n",
              "        text-align: right;\n",
              "    }\n",
              "</style>\n",
              "<table border=\"1\" class=\"dataframe\">\n",
              "  <thead>\n",
              "    <tr style=\"text-align: right;\">\n",
              "      <th></th>\n",
              "      <th>symboling</th>\n",
              "      <th>normalized-losses</th>\n",
              "      <th>make</th>\n",
              "      <th>fuel-type</th>\n",
              "      <th>aspiration</th>\n",
              "      <th>num-of-doors</th>\n",
              "      <th>body-style</th>\n",
              "      <th>drive-wheels</th>\n",
              "      <th>engine-location</th>\n",
              "      <th>wheel-base</th>\n",
              "      <th>length</th>\n",
              "      <th>width</th>\n",
              "      <th>height</th>\n",
              "      <th>curb-weight</th>\n",
              "      <th>engine-type</th>\n",
              "      <th>num-of-cylinders</th>\n",
              "      <th>engine-size</th>\n",
              "      <th>fuel-system</th>\n",
              "      <th>bore</th>\n",
              "      <th>stroke</th>\n",
              "      <th>compression-ratio</th>\n",
              "      <th>horsepower</th>\n",
              "      <th>peak-rpm</th>\n",
              "      <th>city-mpg</th>\n",
              "      <th>highway-mpg</th>\n",
              "      <th>price</th>\n",
              "    </tr>\n",
              "  </thead>\n",
              "  <tbody>\n",
              "    <tr>\n",
              "      <th>3</th>\n",
              "      <td>2</td>\n",
              "      <td>164</td>\n",
              "      <td>audi</td>\n",
              "      <td>gas</td>\n",
              "      <td>std</td>\n",
              "      <td>four</td>\n",
              "      <td>sedan</td>\n",
              "      <td>fwd</td>\n",
              "      <td>front</td>\n",
              "      <td>99.8</td>\n",
              "      <td>176.6</td>\n",
              "      <td>66.2</td>\n",
              "      <td>54.3</td>\n",
              "      <td>2337</td>\n",
              "      <td>ohc</td>\n",
              "      <td>four</td>\n",
              "      <td>109</td>\n",
              "      <td>mpfi</td>\n",
              "      <td>3.19</td>\n",
              "      <td>3.4</td>\n",
              "      <td>10.0</td>\n",
              "      <td>102</td>\n",
              "      <td>5500</td>\n",
              "      <td>24</td>\n",
              "      <td>30</td>\n",
              "      <td>13950</td>\n",
              "    </tr>\n",
              "    <tr>\n",
              "      <th>4</th>\n",
              "      <td>2</td>\n",
              "      <td>164</td>\n",
              "      <td>audi</td>\n",
              "      <td>gas</td>\n",
              "      <td>std</td>\n",
              "      <td>four</td>\n",
              "      <td>sedan</td>\n",
              "      <td>4wd</td>\n",
              "      <td>front</td>\n",
              "      <td>99.4</td>\n",
              "      <td>176.6</td>\n",
              "      <td>66.4</td>\n",
              "      <td>54.3</td>\n",
              "      <td>2824</td>\n",
              "      <td>ohc</td>\n",
              "      <td>five</td>\n",
              "      <td>136</td>\n",
              "      <td>mpfi</td>\n",
              "      <td>3.19</td>\n",
              "      <td>3.4</td>\n",
              "      <td>8.0</td>\n",
              "      <td>115</td>\n",
              "      <td>5500</td>\n",
              "      <td>18</td>\n",
              "      <td>22</td>\n",
              "      <td>17450</td>\n",
              "    </tr>\n",
              "    <tr>\n",
              "      <th>6</th>\n",
              "      <td>1</td>\n",
              "      <td>158</td>\n",
              "      <td>audi</td>\n",
              "      <td>gas</td>\n",
              "      <td>std</td>\n",
              "      <td>four</td>\n",
              "      <td>sedan</td>\n",
              "      <td>fwd</td>\n",
              "      <td>front</td>\n",
              "      <td>105.8</td>\n",
              "      <td>192.7</td>\n",
              "      <td>71.4</td>\n",
              "      <td>55.7</td>\n",
              "      <td>2844</td>\n",
              "      <td>ohc</td>\n",
              "      <td>five</td>\n",
              "      <td>136</td>\n",
              "      <td>mpfi</td>\n",
              "      <td>3.19</td>\n",
              "      <td>3.4</td>\n",
              "      <td>8.5</td>\n",
              "      <td>110</td>\n",
              "      <td>5500</td>\n",
              "      <td>19</td>\n",
              "      <td>25</td>\n",
              "      <td>17710</td>\n",
              "    </tr>\n",
              "    <tr>\n",
              "      <th>8</th>\n",
              "      <td>1</td>\n",
              "      <td>158</td>\n",
              "      <td>audi</td>\n",
              "      <td>gas</td>\n",
              "      <td>turbo</td>\n",
              "      <td>four</td>\n",
              "      <td>sedan</td>\n",
              "      <td>fwd</td>\n",
              "      <td>front</td>\n",
              "      <td>105.8</td>\n",
              "      <td>192.7</td>\n",
              "      <td>71.4</td>\n",
              "      <td>55.9</td>\n",
              "      <td>3086</td>\n",
              "      <td>ohc</td>\n",
              "      <td>five</td>\n",
              "      <td>131</td>\n",
              "      <td>mpfi</td>\n",
              "      <td>3.13</td>\n",
              "      <td>3.4</td>\n",
              "      <td>8.3</td>\n",
              "      <td>140</td>\n",
              "      <td>5500</td>\n",
              "      <td>17</td>\n",
              "      <td>20</td>\n",
              "      <td>23875</td>\n",
              "    </tr>\n",
              "    <tr>\n",
              "      <th>10</th>\n",
              "      <td>2</td>\n",
              "      <td>192</td>\n",
              "      <td>bmw</td>\n",
              "      <td>gas</td>\n",
              "      <td>std</td>\n",
              "      <td>two</td>\n",
              "      <td>sedan</td>\n",
              "      <td>rwd</td>\n",
              "      <td>front</td>\n",
              "      <td>101.2</td>\n",
              "      <td>176.8</td>\n",
              "      <td>64.8</td>\n",
              "      <td>54.3</td>\n",
              "      <td>2395</td>\n",
              "      <td>ohc</td>\n",
              "      <td>four</td>\n",
              "      <td>108</td>\n",
              "      <td>mpfi</td>\n",
              "      <td>3.5</td>\n",
              "      <td>2.8</td>\n",
              "      <td>8.8</td>\n",
              "      <td>101</td>\n",
              "      <td>5800</td>\n",
              "      <td>23</td>\n",
              "      <td>29</td>\n",
              "      <td>16430</td>\n",
              "    </tr>\n",
              "  </tbody>\n",
              "</table>\n",
              "</div>"
            ],
            "text/plain": [
              "    symboling normalized-losses  make  ... city-mpg highway-mpg  price\n",
              "3           2               164  audi  ...       24          30  13950\n",
              "4           2               164  audi  ...       18          22  17450\n",
              "6           1               158  audi  ...       19          25  17710\n",
              "8           1               158  audi  ...       17          20  23875\n",
              "10          2               192   bmw  ...       23          29  16430\n",
              "\n",
              "[5 rows x 26 columns]"
            ]
          },
          "metadata": {
            "tags": []
          },
          "execution_count": 158
        },
        {
          "output_type": "execute_result",
          "data": {
            "text/html": [
              "<div>\n",
              "<style scoped>\n",
              "    .dataframe tbody tr th:only-of-type {\n",
              "        vertical-align: middle;\n",
              "    }\n",
              "\n",
              "    .dataframe tbody tr th {\n",
              "        vertical-align: top;\n",
              "    }\n",
              "\n",
              "    .dataframe thead th {\n",
              "        text-align: right;\n",
              "    }\n",
              "</style>\n",
              "<table border=\"1\" class=\"dataframe\">\n",
              "  <thead>\n",
              "    <tr style=\"text-align: right;\">\n",
              "      <th></th>\n",
              "      <th>symboling</th>\n",
              "      <th>wheel-base</th>\n",
              "      <th>length</th>\n",
              "      <th>width</th>\n",
              "      <th>height</th>\n",
              "      <th>curb-weight</th>\n",
              "      <th>engine-size</th>\n",
              "      <th>compression-ratio</th>\n",
              "      <th>city-mpg</th>\n",
              "      <th>highway-mpg</th>\n",
              "    </tr>\n",
              "  </thead>\n",
              "  <tbody>\n",
              "    <tr>\n",
              "      <th>count</th>\n",
              "      <td>159.000000</td>\n",
              "      <td>159.000000</td>\n",
              "      <td>159.000000</td>\n",
              "      <td>159.000000</td>\n",
              "      <td>159.000000</td>\n",
              "      <td>159.000000</td>\n",
              "      <td>159.000000</td>\n",
              "      <td>159.000000</td>\n",
              "      <td>159.000000</td>\n",
              "      <td>159.000000</td>\n",
              "    </tr>\n",
              "    <tr>\n",
              "      <th>mean</th>\n",
              "      <td>0.735849</td>\n",
              "      <td>98.264151</td>\n",
              "      <td>172.413836</td>\n",
              "      <td>65.607547</td>\n",
              "      <td>53.899371</td>\n",
              "      <td>2461.138365</td>\n",
              "      <td>119.226415</td>\n",
              "      <td>10.161132</td>\n",
              "      <td>26.522013</td>\n",
              "      <td>32.081761</td>\n",
              "    </tr>\n",
              "    <tr>\n",
              "      <th>std</th>\n",
              "      <td>1.193086</td>\n",
              "      <td>5.167416</td>\n",
              "      <td>11.523177</td>\n",
              "      <td>1.947883</td>\n",
              "      <td>2.268761</td>\n",
              "      <td>481.941321</td>\n",
              "      <td>30.460791</td>\n",
              "      <td>3.889475</td>\n",
              "      <td>6.097142</td>\n",
              "      <td>6.459189</td>\n",
              "    </tr>\n",
              "    <tr>\n",
              "      <th>min</th>\n",
              "      <td>-2.000000</td>\n",
              "      <td>86.600000</td>\n",
              "      <td>141.100000</td>\n",
              "      <td>60.300000</td>\n",
              "      <td>49.400000</td>\n",
              "      <td>1488.000000</td>\n",
              "      <td>61.000000</td>\n",
              "      <td>7.000000</td>\n",
              "      <td>15.000000</td>\n",
              "      <td>18.000000</td>\n",
              "    </tr>\n",
              "    <tr>\n",
              "      <th>25%</th>\n",
              "      <td>0.000000</td>\n",
              "      <td>94.500000</td>\n",
              "      <td>165.650000</td>\n",
              "      <td>64.000000</td>\n",
              "      <td>52.250000</td>\n",
              "      <td>2065.500000</td>\n",
              "      <td>97.000000</td>\n",
              "      <td>8.700000</td>\n",
              "      <td>23.000000</td>\n",
              "      <td>28.000000</td>\n",
              "    </tr>\n",
              "    <tr>\n",
              "      <th>50%</th>\n",
              "      <td>1.000000</td>\n",
              "      <td>96.900000</td>\n",
              "      <td>172.400000</td>\n",
              "      <td>65.400000</td>\n",
              "      <td>54.100000</td>\n",
              "      <td>2340.000000</td>\n",
              "      <td>110.000000</td>\n",
              "      <td>9.000000</td>\n",
              "      <td>26.000000</td>\n",
              "      <td>32.000000</td>\n",
              "    </tr>\n",
              "    <tr>\n",
              "      <th>75%</th>\n",
              "      <td>2.000000</td>\n",
              "      <td>100.800000</td>\n",
              "      <td>177.800000</td>\n",
              "      <td>66.500000</td>\n",
              "      <td>55.500000</td>\n",
              "      <td>2809.500000</td>\n",
              "      <td>135.000000</td>\n",
              "      <td>9.400000</td>\n",
              "      <td>31.000000</td>\n",
              "      <td>37.000000</td>\n",
              "    </tr>\n",
              "    <tr>\n",
              "      <th>max</th>\n",
              "      <td>3.000000</td>\n",
              "      <td>115.600000</td>\n",
              "      <td>202.600000</td>\n",
              "      <td>71.700000</td>\n",
              "      <td>59.800000</td>\n",
              "      <td>4066.000000</td>\n",
              "      <td>258.000000</td>\n",
              "      <td>23.000000</td>\n",
              "      <td>49.000000</td>\n",
              "      <td>54.000000</td>\n",
              "    </tr>\n",
              "  </tbody>\n",
              "</table>\n",
              "</div>"
            ],
            "text/plain": [
              "        symboling  wheel-base  ...    city-mpg  highway-mpg\n",
              "count  159.000000  159.000000  ...  159.000000   159.000000\n",
              "mean     0.735849   98.264151  ...   26.522013    32.081761\n",
              "std      1.193086    5.167416  ...    6.097142     6.459189\n",
              "min     -2.000000   86.600000  ...   15.000000    18.000000\n",
              "25%      0.000000   94.500000  ...   23.000000    28.000000\n",
              "50%      1.000000   96.900000  ...   26.000000    32.000000\n",
              "75%      2.000000  100.800000  ...   31.000000    37.000000\n",
              "max      3.000000  115.600000  ...   49.000000    54.000000\n",
              "\n",
              "[8 rows x 10 columns]"
            ]
          },
          "metadata": {
            "tags": []
          },
          "execution_count": 158
        }
      ]
    },
    {
      "cell_type": "code",
      "metadata": {
        "id": "Xp6AguA0UnND",
        "colab_type": "code",
        "colab": {
          "base_uri": "https://localhost:8080/",
          "height": 195
        },
        "outputId": "db799016-365e-4f92-85a0-2a636761668f"
      },
      "source": [
        "col =['make','fuel-type','body-style','horsepower']\n",
        "\n",
        "automobile_features=automobile_data[col]\n",
        "automobile_features.head()\n"
      ],
      "execution_count": 159,
      "outputs": [
        {
          "output_type": "execute_result",
          "data": {
            "text/html": [
              "<div>\n",
              "<style scoped>\n",
              "    .dataframe tbody tr th:only-of-type {\n",
              "        vertical-align: middle;\n",
              "    }\n",
              "\n",
              "    .dataframe tbody tr th {\n",
              "        vertical-align: top;\n",
              "    }\n",
              "\n",
              "    .dataframe thead th {\n",
              "        text-align: right;\n",
              "    }\n",
              "</style>\n",
              "<table border=\"1\" class=\"dataframe\">\n",
              "  <thead>\n",
              "    <tr style=\"text-align: right;\">\n",
              "      <th></th>\n",
              "      <th>make</th>\n",
              "      <th>fuel-type</th>\n",
              "      <th>body-style</th>\n",
              "      <th>horsepower</th>\n",
              "    </tr>\n",
              "  </thead>\n",
              "  <tbody>\n",
              "    <tr>\n",
              "      <th>3</th>\n",
              "      <td>audi</td>\n",
              "      <td>gas</td>\n",
              "      <td>sedan</td>\n",
              "      <td>102</td>\n",
              "    </tr>\n",
              "    <tr>\n",
              "      <th>4</th>\n",
              "      <td>audi</td>\n",
              "      <td>gas</td>\n",
              "      <td>sedan</td>\n",
              "      <td>115</td>\n",
              "    </tr>\n",
              "    <tr>\n",
              "      <th>6</th>\n",
              "      <td>audi</td>\n",
              "      <td>gas</td>\n",
              "      <td>sedan</td>\n",
              "      <td>110</td>\n",
              "    </tr>\n",
              "    <tr>\n",
              "      <th>8</th>\n",
              "      <td>audi</td>\n",
              "      <td>gas</td>\n",
              "      <td>sedan</td>\n",
              "      <td>140</td>\n",
              "    </tr>\n",
              "    <tr>\n",
              "      <th>10</th>\n",
              "      <td>bmw</td>\n",
              "      <td>gas</td>\n",
              "      <td>sedan</td>\n",
              "      <td>101</td>\n",
              "    </tr>\n",
              "  </tbody>\n",
              "</table>\n",
              "</div>"
            ],
            "text/plain": [
              "    make fuel-type body-style horsepower\n",
              "3   audi       gas      sedan        102\n",
              "4   audi       gas      sedan        115\n",
              "6   audi       gas      sedan        110\n",
              "8   audi       gas      sedan        140\n",
              "10   bmw       gas      sedan        101"
            ]
          },
          "metadata": {
            "tags": []
          },
          "execution_count": 159
        }
      ]
    },
    {
      "cell_type": "code",
      "metadata": {
        "id": "jclef2dAVQ6I",
        "colab_type": "code",
        "colab": {
          "base_uri": "https://localhost:8080/",
          "height": 195
        },
        "outputId": "96f74d19-36bf-48f3-8324-900091de05d0"
      },
      "source": [
        "automobile_target =automobile_data[['price']]\n",
        "automobile_target.head()"
      ],
      "execution_count": 160,
      "outputs": [
        {
          "output_type": "execute_result",
          "data": {
            "text/html": [
              "<div>\n",
              "<style scoped>\n",
              "    .dataframe tbody tr th:only-of-type {\n",
              "        vertical-align: middle;\n",
              "    }\n",
              "\n",
              "    .dataframe tbody tr th {\n",
              "        vertical-align: top;\n",
              "    }\n",
              "\n",
              "    .dataframe thead th {\n",
              "        text-align: right;\n",
              "    }\n",
              "</style>\n",
              "<table border=\"1\" class=\"dataframe\">\n",
              "  <thead>\n",
              "    <tr style=\"text-align: right;\">\n",
              "      <th></th>\n",
              "      <th>price</th>\n",
              "    </tr>\n",
              "  </thead>\n",
              "  <tbody>\n",
              "    <tr>\n",
              "      <th>3</th>\n",
              "      <td>13950</td>\n",
              "    </tr>\n",
              "    <tr>\n",
              "      <th>4</th>\n",
              "      <td>17450</td>\n",
              "    </tr>\n",
              "    <tr>\n",
              "      <th>6</th>\n",
              "      <td>17710</td>\n",
              "    </tr>\n",
              "    <tr>\n",
              "      <th>8</th>\n",
              "      <td>23875</td>\n",
              "    </tr>\n",
              "    <tr>\n",
              "      <th>10</th>\n",
              "      <td>16430</td>\n",
              "    </tr>\n",
              "  </tbody>\n",
              "</table>\n",
              "</div>"
            ],
            "text/plain": [
              "    price\n",
              "3   13950\n",
              "4   17450\n",
              "6   17710\n",
              "8   23875\n",
              "10  16430"
            ]
          },
          "metadata": {
            "tags": []
          },
          "execution_count": 160
        }
      ]
    },
    {
      "cell_type": "markdown",
      "metadata": {
        "id": "pwMSZ7XOVyqV",
        "colab_type": "text"
      },
      "source": [
        "#### All the datas are into string format "
      ]
    },
    {
      "cell_type": "code",
      "metadata": {
        "id": "ty5UQRPGVrsO",
        "colab_type": "code",
        "colab": {
          "base_uri": "https://localhost:8080/",
          "height": 101
        },
        "outputId": "7cf8a618-1fcb-4b2f-d57b-3d9e9f59cdc2"
      },
      "source": [
        "automobile_features['horsepower'].describe()"
      ],
      "execution_count": 161,
      "outputs": [
        {
          "output_type": "execute_result",
          "data": {
            "text/plain": [
              "count     159\n",
              "unique     48\n",
              "top        68\n",
              "freq       18\n",
              "Name: horsepower, dtype: object"
            ]
          },
          "metadata": {
            "tags": []
          },
          "execution_count": 161
        }
      ]
    },
    {
      "cell_type": "markdown",
      "metadata": {
        "id": "hJGPeqRdWDHt",
        "colab_type": "text"
      },
      "source": [
        "#### Turn off pandas warning message for chained assignments which gives unpredicatble results"
      ]
    },
    {
      "cell_type": "code",
      "metadata": {
        "id": "cbVrV_fiV91R",
        "colab_type": "code",
        "colab": {}
      },
      "source": [
        "pd.options.mode.chained_assignment =None"
      ],
      "execution_count": 0,
      "outputs": []
    },
    {
      "cell_type": "markdown",
      "metadata": {
        "id": "TpIJPgp8XLj0",
        "colab_type": "text"
      },
      "source": [
        "#### Convert horsepower whiich is of string to numeric format"
      ]
    },
    {
      "cell_type": "code",
      "metadata": {
        "id": "2D5CFl2SWXKQ",
        "colab_type": "code",
        "colab": {
          "base_uri": "https://localhost:8080/",
          "height": 346
        },
        "outputId": "df084420-ce92-41bb-e9ae-eaceaf0c9b75"
      },
      "source": [
        "automobile_features['horsepower'] =\\\n",
        "pd.to_numeric(automobile_features['horsepower'])\n",
        "\n",
        "automobile_features.head()\n",
        "\n",
        "automobile_features['horsepower'].describe()"
      ],
      "execution_count": 163,
      "outputs": [
        {
          "output_type": "execute_result",
          "data": {
            "text/html": [
              "<div>\n",
              "<style scoped>\n",
              "    .dataframe tbody tr th:only-of-type {\n",
              "        vertical-align: middle;\n",
              "    }\n",
              "\n",
              "    .dataframe tbody tr th {\n",
              "        vertical-align: top;\n",
              "    }\n",
              "\n",
              "    .dataframe thead th {\n",
              "        text-align: right;\n",
              "    }\n",
              "</style>\n",
              "<table border=\"1\" class=\"dataframe\">\n",
              "  <thead>\n",
              "    <tr style=\"text-align: right;\">\n",
              "      <th></th>\n",
              "      <th>make</th>\n",
              "      <th>fuel-type</th>\n",
              "      <th>body-style</th>\n",
              "      <th>horsepower</th>\n",
              "    </tr>\n",
              "  </thead>\n",
              "  <tbody>\n",
              "    <tr>\n",
              "      <th>3</th>\n",
              "      <td>audi</td>\n",
              "      <td>gas</td>\n",
              "      <td>sedan</td>\n",
              "      <td>102</td>\n",
              "    </tr>\n",
              "    <tr>\n",
              "      <th>4</th>\n",
              "      <td>audi</td>\n",
              "      <td>gas</td>\n",
              "      <td>sedan</td>\n",
              "      <td>115</td>\n",
              "    </tr>\n",
              "    <tr>\n",
              "      <th>6</th>\n",
              "      <td>audi</td>\n",
              "      <td>gas</td>\n",
              "      <td>sedan</td>\n",
              "      <td>110</td>\n",
              "    </tr>\n",
              "    <tr>\n",
              "      <th>8</th>\n",
              "      <td>audi</td>\n",
              "      <td>gas</td>\n",
              "      <td>sedan</td>\n",
              "      <td>140</td>\n",
              "    </tr>\n",
              "    <tr>\n",
              "      <th>10</th>\n",
              "      <td>bmw</td>\n",
              "      <td>gas</td>\n",
              "      <td>sedan</td>\n",
              "      <td>101</td>\n",
              "    </tr>\n",
              "  </tbody>\n",
              "</table>\n",
              "</div>"
            ],
            "text/plain": [
              "    make fuel-type body-style  horsepower\n",
              "3   audi       gas      sedan         102\n",
              "4   audi       gas      sedan         115\n",
              "6   audi       gas      sedan         110\n",
              "8   audi       gas      sedan         140\n",
              "10   bmw       gas      sedan         101"
            ]
          },
          "metadata": {
            "tags": []
          },
          "execution_count": 163
        },
        {
          "output_type": "execute_result",
          "data": {
            "text/plain": [
              "count    159.000000\n",
              "mean      95.836478\n",
              "std       30.718583\n",
              "min       48.000000\n",
              "25%       69.000000\n",
              "50%       88.000000\n",
              "75%      114.000000\n",
              "max      200.000000\n",
              "Name: horsepower, dtype: float64"
            ]
          },
          "metadata": {
            "tags": []
          },
          "execution_count": 163
        }
      ]
    },
    {
      "cell_type": "markdown",
      "metadata": {
        "id": "Any7OZIEXf6G",
        "colab_type": "text"
      },
      "source": [
        "#### similarly price column of the targeget dataset is in string format and need to convert to numeric"
      ]
    },
    {
      "cell_type": "code",
      "metadata": {
        "id": "N1ZpQKwbWuG7",
        "colab_type": "code",
        "colab": {
          "base_uri": "https://localhost:8080/",
          "height": 101
        },
        "outputId": "7408e1e4-2893-468e-ac8e-fd10f5c94414"
      },
      "source": [
        "\n",
        "automobile_target['price'].describe()\n"
      ],
      "execution_count": 164,
      "outputs": [
        {
          "output_type": "execute_result",
          "data": {
            "text/plain": [
              "count      159\n",
              "unique     145\n",
              "top       7775\n",
              "freq         2\n",
              "Name: price, dtype: object"
            ]
          },
          "metadata": {
            "tags": []
          },
          "execution_count": 164
        }
      ]
    },
    {
      "cell_type": "code",
      "metadata": {
        "id": "O8MM1vT-X0vM",
        "colab_type": "code",
        "colab": {
          "base_uri": "https://localhost:8080/",
          "height": 168
        },
        "outputId": "eca20964-2233-4a92-d971-d5541f9b0da0"
      },
      "source": [
        "automobile_target['price'] =pd.to_numeric(automobile_data['price'])\n",
        "\n",
        "automobile_target['price'].describe()"
      ],
      "execution_count": 165,
      "outputs": [
        {
          "output_type": "execute_result",
          "data": {
            "text/plain": [
              "count      159.000000\n",
              "mean     11445.729560\n",
              "std       5877.856195\n",
              "min       5118.000000\n",
              "25%       7372.000000\n",
              "50%       9233.000000\n",
              "75%      14719.500000\n",
              "max      35056.000000\n",
              "Name: price, dtype: float64"
            ]
          },
          "metadata": {
            "tags": []
          },
          "execution_count": 165
        }
      ]
    },
    {
      "cell_type": "markdown",
      "metadata": {
        "id": "BF8mER2fYLSV",
        "colab_type": "text"
      },
      "source": [
        "#### same type of numeric conversation can be don like below also"
      ]
    },
    {
      "cell_type": "code",
      "metadata": {
        "id": "ZEopF4iJYAnk",
        "colab_type": "code",
        "colab": {
          "base_uri": "https://localhost:8080/",
          "height": 168
        },
        "outputId": "1f60deaa-5c6e-479f-bf68-696a4038e282"
      },
      "source": [
        "automobile_target =automobile_target.astype(float)\n",
        "automobile_target['price'].describe()"
      ],
      "execution_count": 166,
      "outputs": [
        {
          "output_type": "execute_result",
          "data": {
            "text/plain": [
              "count      159.000000\n",
              "mean     11445.729560\n",
              "std       5877.856195\n",
              "min       5118.000000\n",
              "25%       7372.000000\n",
              "50%       9233.000000\n",
              "75%      14719.500000\n",
              "max      35056.000000\n",
              "Name: price, dtype: float64"
            ]
          },
          "metadata": {
            "tags": []
          },
          "execution_count": 166
        }
      ]
    },
    {
      "cell_type": "markdown",
      "metadata": {
        "id": "DxCEMJpHYlkX",
        "colab_type": "text"
      },
      "source": [
        "#### Convert categorical values to numerical through using get dummies through one hot encoding"
      ]
    },
    {
      "cell_type": "code",
      "metadata": {
        "id": "jEO_9C0BYZ0b",
        "colab_type": "code",
        "colab": {}
      },
      "source": [
        "automobile_features =pd.get_dummies(automobile_features, columns =['make','fuel-type','body-style'])"
      ],
      "execution_count": 0,
      "outputs": []
    },
    {
      "cell_type": "code",
      "metadata": {
        "id": "Pk6LxfKXZIft",
        "colab_type": "code",
        "colab": {
          "base_uri": "https://localhost:8080/",
          "height": 232
        },
        "outputId": "a6a1e49e-2e40-466a-8754-8cdbbe9364a7"
      },
      "source": [
        "automobile_features.head()"
      ],
      "execution_count": 168,
      "outputs": [
        {
          "output_type": "execute_result",
          "data": {
            "text/html": [
              "<div>\n",
              "<style scoped>\n",
              "    .dataframe tbody tr th:only-of-type {\n",
              "        vertical-align: middle;\n",
              "    }\n",
              "\n",
              "    .dataframe tbody tr th {\n",
              "        vertical-align: top;\n",
              "    }\n",
              "\n",
              "    .dataframe thead th {\n",
              "        text-align: right;\n",
              "    }\n",
              "</style>\n",
              "<table border=\"1\" class=\"dataframe\">\n",
              "  <thead>\n",
              "    <tr style=\"text-align: right;\">\n",
              "      <th></th>\n",
              "      <th>horsepower</th>\n",
              "      <th>make_audi</th>\n",
              "      <th>make_bmw</th>\n",
              "      <th>make_chevrolet</th>\n",
              "      <th>make_dodge</th>\n",
              "      <th>make_honda</th>\n",
              "      <th>make_jaguar</th>\n",
              "      <th>make_mazda</th>\n",
              "      <th>make_mercedes-benz</th>\n",
              "      <th>make_mitsubishi</th>\n",
              "      <th>make_nissan</th>\n",
              "      <th>make_peugot</th>\n",
              "      <th>make_plymouth</th>\n",
              "      <th>make_porsche</th>\n",
              "      <th>make_saab</th>\n",
              "      <th>make_subaru</th>\n",
              "      <th>make_toyota</th>\n",
              "      <th>make_volkswagen</th>\n",
              "      <th>make_volvo</th>\n",
              "      <th>fuel-type_diesel</th>\n",
              "      <th>fuel-type_gas</th>\n",
              "      <th>body-style_convertible</th>\n",
              "      <th>body-style_hardtop</th>\n",
              "      <th>body-style_hatchback</th>\n",
              "      <th>body-style_sedan</th>\n",
              "      <th>body-style_wagon</th>\n",
              "    </tr>\n",
              "  </thead>\n",
              "  <tbody>\n",
              "    <tr>\n",
              "      <th>3</th>\n",
              "      <td>102</td>\n",
              "      <td>1</td>\n",
              "      <td>0</td>\n",
              "      <td>0</td>\n",
              "      <td>0</td>\n",
              "      <td>0</td>\n",
              "      <td>0</td>\n",
              "      <td>0</td>\n",
              "      <td>0</td>\n",
              "      <td>0</td>\n",
              "      <td>0</td>\n",
              "      <td>0</td>\n",
              "      <td>0</td>\n",
              "      <td>0</td>\n",
              "      <td>0</td>\n",
              "      <td>0</td>\n",
              "      <td>0</td>\n",
              "      <td>0</td>\n",
              "      <td>0</td>\n",
              "      <td>0</td>\n",
              "      <td>1</td>\n",
              "      <td>0</td>\n",
              "      <td>0</td>\n",
              "      <td>0</td>\n",
              "      <td>1</td>\n",
              "      <td>0</td>\n",
              "    </tr>\n",
              "    <tr>\n",
              "      <th>4</th>\n",
              "      <td>115</td>\n",
              "      <td>1</td>\n",
              "      <td>0</td>\n",
              "      <td>0</td>\n",
              "      <td>0</td>\n",
              "      <td>0</td>\n",
              "      <td>0</td>\n",
              "      <td>0</td>\n",
              "      <td>0</td>\n",
              "      <td>0</td>\n",
              "      <td>0</td>\n",
              "      <td>0</td>\n",
              "      <td>0</td>\n",
              "      <td>0</td>\n",
              "      <td>0</td>\n",
              "      <td>0</td>\n",
              "      <td>0</td>\n",
              "      <td>0</td>\n",
              "      <td>0</td>\n",
              "      <td>0</td>\n",
              "      <td>1</td>\n",
              "      <td>0</td>\n",
              "      <td>0</td>\n",
              "      <td>0</td>\n",
              "      <td>1</td>\n",
              "      <td>0</td>\n",
              "    </tr>\n",
              "    <tr>\n",
              "      <th>6</th>\n",
              "      <td>110</td>\n",
              "      <td>1</td>\n",
              "      <td>0</td>\n",
              "      <td>0</td>\n",
              "      <td>0</td>\n",
              "      <td>0</td>\n",
              "      <td>0</td>\n",
              "      <td>0</td>\n",
              "      <td>0</td>\n",
              "      <td>0</td>\n",
              "      <td>0</td>\n",
              "      <td>0</td>\n",
              "      <td>0</td>\n",
              "      <td>0</td>\n",
              "      <td>0</td>\n",
              "      <td>0</td>\n",
              "      <td>0</td>\n",
              "      <td>0</td>\n",
              "      <td>0</td>\n",
              "      <td>0</td>\n",
              "      <td>1</td>\n",
              "      <td>0</td>\n",
              "      <td>0</td>\n",
              "      <td>0</td>\n",
              "      <td>1</td>\n",
              "      <td>0</td>\n",
              "    </tr>\n",
              "    <tr>\n",
              "      <th>8</th>\n",
              "      <td>140</td>\n",
              "      <td>1</td>\n",
              "      <td>0</td>\n",
              "      <td>0</td>\n",
              "      <td>0</td>\n",
              "      <td>0</td>\n",
              "      <td>0</td>\n",
              "      <td>0</td>\n",
              "      <td>0</td>\n",
              "      <td>0</td>\n",
              "      <td>0</td>\n",
              "      <td>0</td>\n",
              "      <td>0</td>\n",
              "      <td>0</td>\n",
              "      <td>0</td>\n",
              "      <td>0</td>\n",
              "      <td>0</td>\n",
              "      <td>0</td>\n",
              "      <td>0</td>\n",
              "      <td>0</td>\n",
              "      <td>1</td>\n",
              "      <td>0</td>\n",
              "      <td>0</td>\n",
              "      <td>0</td>\n",
              "      <td>1</td>\n",
              "      <td>0</td>\n",
              "    </tr>\n",
              "    <tr>\n",
              "      <th>10</th>\n",
              "      <td>101</td>\n",
              "      <td>0</td>\n",
              "      <td>1</td>\n",
              "      <td>0</td>\n",
              "      <td>0</td>\n",
              "      <td>0</td>\n",
              "      <td>0</td>\n",
              "      <td>0</td>\n",
              "      <td>0</td>\n",
              "      <td>0</td>\n",
              "      <td>0</td>\n",
              "      <td>0</td>\n",
              "      <td>0</td>\n",
              "      <td>0</td>\n",
              "      <td>0</td>\n",
              "      <td>0</td>\n",
              "      <td>0</td>\n",
              "      <td>0</td>\n",
              "      <td>0</td>\n",
              "      <td>0</td>\n",
              "      <td>1</td>\n",
              "      <td>0</td>\n",
              "      <td>0</td>\n",
              "      <td>0</td>\n",
              "      <td>1</td>\n",
              "      <td>0</td>\n",
              "    </tr>\n",
              "  </tbody>\n",
              "</table>\n",
              "</div>"
            ],
            "text/plain": [
              "    horsepower  make_audi  ...  body-style_sedan  body-style_wagon\n",
              "3          102          1  ...                 1                 0\n",
              "4          115          1  ...                 1                 0\n",
              "6          110          1  ...                 1                 0\n",
              "8          140          1  ...                 1                 0\n",
              "10         101          0  ...                 1                 0\n",
              "\n",
              "[5 rows x 26 columns]"
            ]
          },
          "metadata": {
            "tags": []
          },
          "execution_count": 168
        }
      ]
    },
    {
      "cell_type": "markdown",
      "metadata": {
        "id": "Q--J-iYeZhbR",
        "colab_type": "text"
      },
      "source": [
        "#### Due to one hod encoding the no of columns got expanded"
      ]
    },
    {
      "cell_type": "code",
      "metadata": {
        "id": "xtyJrlmpZK5A",
        "colab_type": "code",
        "colab": {
          "base_uri": "https://localhost:8080/",
          "height": 151
        },
        "outputId": "7def3c29-799b-4cfc-9393-e3c7621d6fa4"
      },
      "source": [
        "automobile_features.columns"
      ],
      "execution_count": 169,
      "outputs": [
        {
          "output_type": "execute_result",
          "data": {
            "text/plain": [
              "Index(['horsepower', 'make_audi', 'make_bmw', 'make_chevrolet', 'make_dodge',\n",
              "       'make_honda', 'make_jaguar', 'make_mazda', 'make_mercedes-benz',\n",
              "       'make_mitsubishi', 'make_nissan', 'make_peugot', 'make_plymouth',\n",
              "       'make_porsche', 'make_saab', 'make_subaru', 'make_toyota',\n",
              "       'make_volkswagen', 'make_volvo', 'fuel-type_diesel', 'fuel-type_gas',\n",
              "       'body-style_convertible', 'body-style_hardtop', 'body-style_hatchback',\n",
              "       'body-style_sedan', 'body-style_wagon'],\n",
              "      dtype='object')"
            ]
          },
          "metadata": {
            "tags": []
          },
          "execution_count": 169
        }
      ]
    },
    {
      "cell_type": "markdown",
      "metadata": {
        "id": "o4A3hjzcZ88G",
        "colab_type": "text"
      },
      "source": [
        "#### make data standardisation .For ex-here horsepower data is not standardised "
      ]
    },
    {
      "cell_type": "code",
      "metadata": {
        "id": "Mr2RExTxZemq",
        "colab_type": "code",
        "colab": {}
      },
      "source": [
        "from sklearn import preprocessing"
      ],
      "execution_count": 0,
      "outputs": []
    },
    {
      "cell_type": "code",
      "metadata": {
        "id": "XBT1LE28Ztkv",
        "colab_type": "code",
        "colab": {}
      },
      "source": [
        "automobile_features[['horsepower']] =preprocessing.scale(automobile_features[['horsepower']])"
      ],
      "execution_count": 0,
      "outputs": []
    },
    {
      "cell_type": "code",
      "metadata": {
        "id": "iNPiPw4QaGUu",
        "colab_type": "code",
        "colab": {
          "base_uri": "https://localhost:8080/",
          "height": 118
        },
        "outputId": "a1902fc4-b2db-4046-ed9d-dbe2cc737a24"
      },
      "source": [
        "automobile_features['horsepower'].head()"
      ],
      "execution_count": 172,
      "outputs": [
        {
          "output_type": "execute_result",
          "data": {
            "text/plain": [
              "3     0.201279\n",
              "4     0.625812\n",
              "6     0.462530\n",
              "8     1.442223\n",
              "10    0.168622\n",
              "Name: horsepower, dtype: float64"
            ]
          },
          "metadata": {
            "tags": []
          },
          "execution_count": 172
        }
      ]
    },
    {
      "cell_type": "code",
      "metadata": {
        "id": "b8s-N9WLcZYc",
        "colab_type": "code",
        "colab": {}
      },
      "source": [
        "from sklearn.model_selection import train_test_split"
      ],
      "execution_count": 0,
      "outputs": []
    },
    {
      "cell_type": "code",
      "metadata": {
        "id": "m126NtOxcfqV",
        "colab_type": "code",
        "colab": {}
      },
      "source": [
        "X_train, x_test,Y_train,y_test =train_test_split(automobile_features,automobile_target,test_size=0.2,random_state=0)"
      ],
      "execution_count": 0,
      "outputs": []
    },
    {
      "cell_type": "markdown",
      "metadata": {
        "id": "F7rMQ5hpd5hL",
        "colab_type": "text"
      },
      "source": [
        "### Now after preprocessing  train with pytorch feedforward model"
      ]
    },
    {
      "cell_type": "code",
      "metadata": {
        "id": "c2abGKPodfdm",
        "colab_type": "code",
        "colab": {}
      },
      "source": [
        "import torch\n",
        "\n",
        "dtype =torch.float"
      ],
      "execution_count": 0,
      "outputs": []
    },
    {
      "cell_type": "code",
      "metadata": {
        "id": "rrKWuBnqeKUY",
        "colab_type": "code",
        "colab": {}
      },
      "source": [
        "x_train_tensor =torch.tensor(X_train.values, dtype=dtype)\n",
        "\n",
        "x_test_tensor =torch.tensor(x_test.values, dtype=dtype)\n",
        "\n",
        "y_train_tensor =torch.tensor(Y_train.values, dtype=dtype)\n",
        "\n",
        "y_test_tensor =torch.tensor(y_test.values, dtype=dtype)"
      ],
      "execution_count": 0,
      "outputs": []
    },
    {
      "cell_type": "code",
      "metadata": {
        "id": "3tYB3mNuelef",
        "colab_type": "code",
        "colab": {
          "base_uri": "https://localhost:8080/",
          "height": 34
        },
        "outputId": "865d9b8e-e0dd-4b10-ed44-afd204dc44a5"
      },
      "source": [
        "x_train_tensor.shape"
      ],
      "execution_count": 177,
      "outputs": [
        {
          "output_type": "execute_result",
          "data": {
            "text/plain": [
              "torch.Size([127, 26])"
            ]
          },
          "metadata": {
            "tags": []
          },
          "execution_count": 177
        }
      ]
    },
    {
      "cell_type": "code",
      "metadata": {
        "id": "7KXI8RWdfBBA",
        "colab_type": "code",
        "colab": {
          "base_uri": "https://localhost:8080/",
          "height": 34
        },
        "outputId": "4aac3126-6c96-4708-e068-6bfce429c5e5"
      },
      "source": [
        "y_train_tensor.shape"
      ],
      "execution_count": 178,
      "outputs": [
        {
          "output_type": "execute_result",
          "data": {
            "text/plain": [
              "torch.Size([127, 1])"
            ]
          },
          "metadata": {
            "tags": []
          },
          "execution_count": 178
        }
      ]
    },
    {
      "cell_type": "markdown",
      "metadata": {
        "id": "wfu7vtYffbIK",
        "colab_type": "text"
      },
      "source": [
        "#### Hyperaparamters for feedforward network"
      ]
    },
    {
      "cell_type": "code",
      "metadata": {
        "id": "7HdqEBcBfG7O",
        "colab_type": "code",
        "colab": {}
      },
      "source": [
        "inp=26\n",
        "out=1\n",
        "\n",
        "hid =100"
      ],
      "execution_count": 0,
      "outputs": []
    },
    {
      "cell_type": "code",
      "metadata": {
        "id": "taJKAvsyfLhe",
        "colab_type": "code",
        "colab": {}
      },
      "source": [
        "\n",
        "loss_fn =torch.nn.MSELoss()\n",
        "learning_rate =-0.0001"
      ],
      "execution_count": 0,
      "outputs": []
    },
    {
      "cell_type": "code",
      "metadata": {
        "id": "ZsfWdES-fXOd",
        "colab_type": "code",
        "colab": {}
      },
      "source": [
        "model =torch.nn.Sequential(torch.nn.Linear(inp,hid),\n",
        "                           torch.nn.Sigmoid(),\n",
        "                           torch.nn.Linear(hid,out))"
      ],
      "execution_count": 0,
      "outputs": []
    },
    {
      "cell_type": "code",
      "metadata": {
        "id": "MSpXv3FcgP5Q",
        "colab_type": "code",
        "colab": {
          "base_uri": "https://localhost:8080/",
          "height": 185
        },
        "outputId": "adcf97e9-d589-46b5-ca6b-8cb83a7bd1c2"
      },
      "source": [
        "for iter in range(10000):\n",
        "  y_pred =model(x_train_tensor)\n",
        "  loss =loss_fn(y_pred, y_train_tensor)\n",
        "  \n",
        "  if iter % 1000 ==0:\n",
        "    print(iter, loss.item())\n",
        "    \n",
        "  model.zero_grad()\n",
        "  loss.backward()\n",
        "  \n",
        "  with torch.no_grad():\n",
        "    for param in model.parameters():\n",
        "      param -=learning_rate * param.grad\n",
        "    "
      ],
      "execution_count": 182,
      "outputs": [
        {
          "output_type": "stream",
          "text": [
            "0 168087712.0\n",
            "1000 3.008660499657514e+25\n",
            "2000 nan\n",
            "3000 nan\n",
            "4000 nan\n",
            "5000 nan\n",
            "6000 nan\n",
            "7000 nan\n",
            "8000 nan\n",
            "9000 nan\n"
          ],
          "name": "stdout"
        }
      ]
    },
    {
      "cell_type": "code",
      "metadata": {
        "id": "mQkKBGIQhmBW",
        "colab_type": "code",
        "colab": {
          "base_uri": "https://localhost:8080/",
          "height": 320
        },
        "outputId": "4fa52c5d-d228-47e6-ca46-3dadb220f0f2"
      },
      "source": [
        "sample =x_test.iloc(23)\n",
        "sample"
      ],
      "execution_count": 185,
      "outputs": [
        {
          "output_type": "error",
          "ename": "ValueError",
          "evalue": "ignored",
          "traceback": [
            "\u001b[0;31m---------------------------------------------------------------------------\u001b[0m",
            "\u001b[0;31mValueError\u001b[0m                                Traceback (most recent call last)",
            "\u001b[0;32m<ipython-input-185-e9cd62120052>\u001b[0m in \u001b[0;36m<module>\u001b[0;34m()\u001b[0m\n\u001b[0;32m----> 1\u001b[0;31m \u001b[0msample\u001b[0m \u001b[0;34m=\u001b[0m\u001b[0mx_test\u001b[0m\u001b[0;34m.\u001b[0m\u001b[0miloc\u001b[0m\u001b[0;34m(\u001b[0m\u001b[0;36m23\u001b[0m\u001b[0;34m)\u001b[0m\u001b[0;34m\u001b[0m\u001b[0;34m\u001b[0m\u001b[0m\n\u001b[0m\u001b[1;32m      2\u001b[0m \u001b[0msample\u001b[0m\u001b[0;34m\u001b[0m\u001b[0;34m\u001b[0m\u001b[0m\n",
            "\u001b[0;32m/usr/local/lib/python3.6/dist-packages/pandas/core/indexing.py\u001b[0m in \u001b[0;36m__call__\u001b[0;34m(self, axis)\u001b[0m\n\u001b[1;32m    100\u001b[0m \u001b[0;34m\u001b[0m\u001b[0m\n\u001b[1;32m    101\u001b[0m         \u001b[0;32mif\u001b[0m \u001b[0maxis\u001b[0m \u001b[0;32mis\u001b[0m \u001b[0;32mnot\u001b[0m \u001b[0;32mNone\u001b[0m\u001b[0;34m:\u001b[0m\u001b[0;34m\u001b[0m\u001b[0;34m\u001b[0m\u001b[0m\n\u001b[0;32m--> 102\u001b[0;31m             \u001b[0maxis\u001b[0m \u001b[0;34m=\u001b[0m \u001b[0mself\u001b[0m\u001b[0;34m.\u001b[0m\u001b[0mobj\u001b[0m\u001b[0;34m.\u001b[0m\u001b[0m_get_axis_number\u001b[0m\u001b[0;34m(\u001b[0m\u001b[0maxis\u001b[0m\u001b[0;34m)\u001b[0m\u001b[0;34m\u001b[0m\u001b[0;34m\u001b[0m\u001b[0m\n\u001b[0m\u001b[1;32m    103\u001b[0m         \u001b[0mnew_self\u001b[0m\u001b[0;34m.\u001b[0m\u001b[0maxis\u001b[0m \u001b[0;34m=\u001b[0m \u001b[0maxis\u001b[0m\u001b[0;34m\u001b[0m\u001b[0;34m\u001b[0m\u001b[0m\n\u001b[1;32m    104\u001b[0m         \u001b[0;32mreturn\u001b[0m \u001b[0mnew_self\u001b[0m\u001b[0;34m\u001b[0m\u001b[0;34m\u001b[0m\u001b[0m\n",
            "\u001b[0;32m/usr/local/lib/python3.6/dist-packages/pandas/core/generic.py\u001b[0m in \u001b[0;36m_get_axis_number\u001b[0;34m(cls, axis)\u001b[0m\n\u001b[1;32m    359\u001b[0m                 \u001b[0;32mpass\u001b[0m\u001b[0;34m\u001b[0m\u001b[0;34m\u001b[0m\u001b[0m\n\u001b[1;32m    360\u001b[0m         raise ValueError('No axis named {0} for object type {1}'\n\u001b[0;32m--> 361\u001b[0;31m                          .format(axis, type(cls)))\n\u001b[0m\u001b[1;32m    362\u001b[0m \u001b[0;34m\u001b[0m\u001b[0m\n\u001b[1;32m    363\u001b[0m     \u001b[0;34m@\u001b[0m\u001b[0mclassmethod\u001b[0m\u001b[0;34m\u001b[0m\u001b[0;34m\u001b[0m\u001b[0m\n",
            "\u001b[0;31mValueError\u001b[0m: No axis named 23 for object type <class 'type'>"
          ]
        }
      ]
    },
    {
      "cell_type": "code",
      "metadata": {
        "id": "vYx4FvvXgk8p",
        "colab_type": "code",
        "colab": {
          "base_uri": "https://localhost:8080/",
          "height": 178
        },
        "outputId": "0a9c2360-1704-48c1-f201-38bf90a07ae6"
      },
      "source": [
        "sample_tensor =torch.tensor(sample.values, dtype=dtype)\n",
        "sample_tensor"
      ],
      "execution_count": 186,
      "outputs": [
        {
          "output_type": "error",
          "ename": "NameError",
          "evalue": "ignored",
          "traceback": [
            "\u001b[0;31m---------------------------------------------------------------------------\u001b[0m",
            "\u001b[0;31mNameError\u001b[0m                                 Traceback (most recent call last)",
            "\u001b[0;32m<ipython-input-186-fa6c675bcf92>\u001b[0m in \u001b[0;36m<module>\u001b[0;34m()\u001b[0m\n\u001b[0;32m----> 1\u001b[0;31m \u001b[0msample_tensor\u001b[0m \u001b[0;34m=\u001b[0m\u001b[0mtorch\u001b[0m\u001b[0;34m.\u001b[0m\u001b[0mtensor\u001b[0m\u001b[0;34m(\u001b[0m\u001b[0msample\u001b[0m\u001b[0;34m.\u001b[0m\u001b[0mvalues\u001b[0m\u001b[0;34m,\u001b[0m \u001b[0mdtype\u001b[0m\u001b[0;34m=\u001b[0m\u001b[0mdtype\u001b[0m\u001b[0;34m)\u001b[0m\u001b[0;34m\u001b[0m\u001b[0;34m\u001b[0m\u001b[0m\n\u001b[0m\u001b[1;32m      2\u001b[0m \u001b[0msample_tensor\u001b[0m\u001b[0;34m\u001b[0m\u001b[0;34m\u001b[0m\u001b[0m\n",
            "\u001b[0;31mNameError\u001b[0m: name 'sample' is not defined"
          ]
        }
      ]
    },
    {
      "cell_type": "code",
      "metadata": {
        "id": "9Bes0Txvh_Do",
        "colab_type": "code",
        "colab": {}
      },
      "source": [
        "\n",
        "y_pred =model(sample_tensor)\n",
        "\n",
        "\n"
      ],
      "execution_count": 0,
      "outputs": []
    }
  ]
}